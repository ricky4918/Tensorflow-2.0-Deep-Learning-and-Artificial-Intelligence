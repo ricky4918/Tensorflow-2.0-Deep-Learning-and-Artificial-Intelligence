{
  "nbformat": 4,
  "nbformat_minor": 0,
  "metadata": {
    "colab": {
      "name": "TF2.0 LoadingData.ipynb",
      "provenance": [],
      "collapsed_sections": [],
      "authorship_tag": "ABX9TyPq6CI0WxKvNxTCMcL8fnT1",
      "include_colab_link": true
    },
    "kernelspec": {
      "name": "python3",
      "display_name": "Python 3"
    },
    "language_info": {
      "name": "python"
    }
  },
  "cells": [
    {
      "cell_type": "markdown",
      "metadata": {
        "id": "view-in-github",
        "colab_type": "text"
      },
      "source": [
        "<a href=\"https://colab.research.google.com/github/ricky4918/Tensorflow-2.0-Deep-Learning-and-Artificial-Intelligence/blob/main/TF_Basic/TF2_0_LoadingData.ipynb\" target=\"_parent\"><img src=\"https://colab.research.google.com/assets/colab-badge.svg\" alt=\"Open In Colab\"/></a>"
      ]
    },
    {
      "cell_type": "markdown",
      "source": [
        "# Part 1: Using wget"
      ],
      "metadata": {
        "id": "DmD6sETwVc1M"
      }
    },
    {
      "cell_type": "code",
      "execution_count": 1,
      "metadata": {
        "colab": {
          "base_uri": "https://localhost:8080/"
        },
        "id": "bdtzUdGwVAXw",
        "outputId": "3148aa9b-0d23-4d4f-8228-c210d9953f6d"
      },
      "outputs": [
        {
          "output_type": "stream",
          "name": "stdout",
          "text": [
            "--2022-07-07 20:25:29--  https://archive.ics.uci.edu/ml/machine-learning-databases/arrhythmia/arrhythmia.data\n",
            "Resolving archive.ics.uci.edu (archive.ics.uci.edu)... 128.195.10.252\n",
            "Connecting to archive.ics.uci.edu (archive.ics.uci.edu)|128.195.10.252|:443... connected.\n",
            "HTTP request sent, awaiting response... 200 OK\n",
            "Length: 402355 (393K) [application/x-httpd-php]\n",
            "Saving to: ‘arrhythmia.data’\n",
            "\n",
            "\rarrhythmia.data       0%[                    ]       0  --.-KB/s               \rarrhythmia.data     100%[===================>] 392.92K  --.-KB/s    in 0.05s   \n",
            "\n",
            "2022-07-07 20:25:29 (7.54 MB/s) - ‘arrhythmia.data’ saved [402355/402355]\n",
            "\n"
          ]
        }
      ],
      "source": [
        "!wget https://archive.ics.uci.edu/ml/machine-learning-databases/arrhythmia/arrhythmia.data"
      ]
    },
    {
      "cell_type": "code",
      "source": [
        "!ls"
      ],
      "metadata": {
        "colab": {
          "base_uri": "https://localhost:8080/"
        },
        "id": "JAc-C_bmVrs5",
        "outputId": "7b0e6de4-94c8-44b4-81d1-aa85f1abbaec"
      },
      "execution_count": 2,
      "outputs": [
        {
          "output_type": "stream",
          "name": "stdout",
          "text": [
            "arrhythmia.data  sample_data\n"
          ]
        }
      ]
    },
    {
      "cell_type": "code",
      "source": [
        "!head arrhythmia.data"
      ],
      "metadata": {
        "colab": {
          "base_uri": "https://localhost:8080/"
        },
        "id": "K1JtLMrjVuCw",
        "outputId": "6fb37bd7-36f9-4809-acf2-fb1d42ca1bac"
      },
      "execution_count": 3,
      "outputs": [
        {
          "output_type": "stream",
          "name": "stdout",
          "text": [
            "75,0,190,80,91,193,371,174,121,-16,13,64,-2,?,63,0,52,44,0,0,32,0,0,0,0,0,0,0,44,20,36,0,28,0,0,0,0,0,0,52,40,0,0,0,60,0,0,0,0,0,0,52,0,0,0,0,0,0,0,0,0,0,0,0,56,36,0,0,32,0,0,0,0,0,0,48,32,0,0,0,56,0,0,0,0,0,0,80,0,0,0,0,0,0,0,0,0,0,0,0,40,52,0,0,28,0,0,0,0,0,0,0,48,48,0,0,32,0,0,0,0,0,0,0,52,52,0,0,36,0,0,0,0,0,0,0,52,48,0,0,32,0,0,0,0,0,0,0,56,44,0,0,32,0,0,0,0,0,0,-0.2,0.0,6.1,-1.0,0.0,0.0,0.6,2.1,13.6,30.8,0.0,0.0,1.7,-1.0,0.6,0.0,1.3,1.5,3.7,14.5,0.1,-5.2,1.4,0.0,0.0,0.0,0.8,-0.6,-10.7,-15.6,0.4,-3.9,0.0,0.0,0.0,0.0,-0.8,-1.7,-10.1,-22.0,0.0,0.0,5.7,-1.0,0.0,0.0,-0.1,1.2,14.1,22.5,0.0,-2.5,0.8,0.0,0.0,0.0,1.0,0.4,-4.8,-2.7,0.1,-6.0,0.0,0.0,0.0,0.0,-0.8,-0.6,-24.0,-29.7,0.0,0.0,2.0,-6.4,0.0,0.0,0.2,2.9,-12.6,15.2,-0.1,0.0,8.4,-10.0,0.0,0.0,0.6,5.9,-3.9,52.7,-0.3,0.0,15.2,-8.4,0.0,0.0,0.9,5.1,17.7,70.7,-0.4,0.0,13.5,-4.0,0.0,0.0,0.9,3.9,25.5,62.9,-0.3,0.0,9.0,-0.9,0.0,0.0,0.9,2.9,23.3,49.4,8\n",
            "56,1,165,64,81,174,401,149,39,25,37,-17,31,?,53,0,48,0,0,0,24,0,0,0,0,0,0,0,64,0,0,0,24,0,0,0,0,0,0,32,24,0,0,0,40,0,0,0,0,0,0,48,0,0,0,0,0,0,0,0,0,0,0,0,44,20,0,0,24,0,0,0,0,0,0,0,60,0,0,0,20,0,0,0,0,0,0,0,24,52,0,0,16,0,0,0,0,0,0,0,32,52,0,0,20,0,0,0,0,0,0,0,44,48,0,0,32,0,0,0,0,0,0,0,48,44,0,0,32,0,0,0,0,0,0,0,48,40,0,0,28,0,0,0,0,0,0,0,48,0,0,0,28,0,0,0,0,0,0,-0.6,0.0,7.2,0.0,0.0,0.0,0.4,1.5,17.2,26.5,0.0,0.0,5.5,0.0,0.0,0.0,0.1,1.7,17.6,29.5,0.3,-1.6,0.9,0.0,0.0,0.0,-0.3,0.4,-1.5,1.3,0.1,-6.4,0.0,0.0,0.0,0.0,-0.3,-1.6,-15.3,-25.5,-0.3,0.0,4.2,-0.9,0.0,0.0,0.4,0.7,8.3,12.3,0.2,0.0,2.2,0.0,0.0,0.0,-0.2,0.8,6.6,11.7,0.4,0.0,1.0,-8.8,0.0,0.0,0.5,-0.6,-21.6,-26.8,0.4,0.0,2.6,-7.9,0.0,0.0,0.8,2.0,-16.4,1.2,0.0,0.0,5.8,-7.7,0.0,0.0,0.9,3.8,-5.7,27.7,-0.2,0.0,9.5,-5.0,0.0,0.0,0.5,2.6,11.8,34.6,-0.4,0.0,11.0,-2.4,0.0,0.0,0.4,2.6,21.6,43.4,-0.5,0.0,8.5,0.0,0.0,0.0,0.2,2.1,20.4,38.8,6\n",
            "54,0,172,95,138,163,386,185,102,96,34,70,66,23,75,0,40,80,0,0,24,0,0,0,0,0,0,20,56,52,0,0,40,0,0,0,0,0,0,28,116,0,0,0,52,0,0,0,0,0,0,52,64,0,0,0,88,0,0,0,0,0,0,0,36,92,0,0,24,0,0,0,0,0,0,0,128,0,0,0,24,0,1,0,0,0,0,0,24,36,76,0,100,0,0,0,0,0,0,0,40,28,60,0,96,0,0,0,0,0,0,0,48,20,56,24,32,0,0,0,0,0,0,0,44,88,0,0,28,0,0,0,0,0,0,0,44,76,0,0,28,0,0,0,0,0,0,0,44,72,0,0,24,0,0,0,0,0,0,1.0,0.0,4.5,-2.8,0.0,0.0,0.3,2.5,-2.2,19.8,0.8,-0.4,6.4,-1.3,0.0,0.0,0.7,2.7,14.2,37.9,-0.2,-0.6,4.4,0.0,0.0,0.0,0.5,0.2,24.7,26.2,-1.0,-5.3,1.8,0.0,0.0,0.0,-0.5,-2.5,-8.0,-28.5,0.5,0.0,1.7,-2.7,0.0,0.0,-0.2,1.0,-9.4,-1.2,0.4,0.0,4.9,0.0,0.0,0.0,0.6,1.4,31.3,42.7,-0.8,0.0,0.7,-3.8,6.5,0.0,0.3,-3.3,18.7,-13.6,-0.9,0.0,2.2,-4.1,7.4,0.0,0.5,-2.4,20.9,-2.6,0.0,0.0,5.8,-4.1,4.0,-0.5,0.4,0.3,20.4,23.3,0.7,0.0,10.0,-5.7,0.0,0.0,0.5,2.2,-3.0,20.7,1.3,0.0,11.1,-3.4,0.0,0.0,0.4,3.4,11.5,48.2,0.9,0.0,9.5,-2.4,0.0,0.0,0.3,3.4,12.3,49.0,10\n",
            "55,0,175,94,100,202,380,179,143,28,11,-5,20,?,71,0,72,20,0,0,48,0,0,0,0,0,0,0,64,36,0,0,36,0,0,0,0,0,0,20,52,48,0,0,56,0,0,0,0,0,0,64,32,0,0,0,72,0,0,0,0,0,0,0,60,12,0,0,44,0,0,0,0,0,0,0,60,44,0,0,32,0,0,0,0,0,0,56,0,0,0,0,0,0,0,0,0,0,0,0,40,44,0,0,20,0,0,0,0,0,0,0,52,40,0,0,32,0,0,0,0,0,0,0,56,48,0,0,36,0,0,0,0,0,0,0,60,48,0,0,36,0,0,0,0,0,0,0,64,40,0,0,40,0,0,0,0,0,0,0.9,0.0,7.8,-0.7,0.0,0.0,1.1,1.9,27.3,45.1,0.1,0.0,9.1,-2.6,0.0,0.0,0.4,1.5,24.5,36.8,-0.4,-0.4,1.6,-2.2,0.0,0.0,-1.0,-0.9,-1.5,-9.2,-0.4,-8.2,1.8,0.0,0.0,0.0,-0.7,-1.7,-23.4,-35.6,0.9,0.0,3.2,-0.4,0.0,0.0,0.7,1.2,9.4,18.0,-0.1,0.0,5.1,-2.5,0.0,0.0,0.3,0.6,9.8,12.6,1.6,-6.5,0.0,0.0,0.0,0.0,-0.4,-0.4,-18.2,-22.4,2.1,0.0,1.2,-6.9,0.0,0.0,-0.5,2.9,-12.7,18.0,0.7,0.0,9.0,-7.9,0.0,0.0,0.1,4.1,7.6,51.0,0.4,0.0,15.0,-5.5,0.0,0.0,0.1,3.3,28.8,63.1,0.1,0.0,15.2,-3.7,0.0,0.0,0.6,3.0,36.8,68.0,0.1,0.0,12.2,-2.2,0.0,0.0,0.4,2.6,34.6,61.6,1\n",
            "75,0,190,80,88,181,360,177,103,-16,13,61,3,?,?,0,48,40,0,0,28,0,0,0,0,0,0,0,40,24,0,0,24,0,0,0,0,0,0,52,36,0,0,0,60,0,0,0,0,0,0,48,28,0,0,0,56,0,0,0,0,0,0,0,48,36,0,0,28,0,0,0,0,0,0,44,0,0,0,0,0,0,0,0,0,0,0,88,0,0,0,0,0,0,0,0,0,0,0,0,40,52,0,0,28,0,0,0,0,0,0,0,48,48,0,0,32,0,0,0,0,0,0,0,48,52,0,0,32,0,0,0,0,0,0,0,52,44,0,0,28,0,0,0,0,0,0,0,52,48,0,0,32,0,0,0,0,0,0,0.0,0.0,5.2,-1.4,0.0,0.0,0.9,2.3,9.6,31.6,0.1,0.0,1.6,-0.5,0.0,0.0,1.9,1.7,2.6,18.9,0.2,-3.8,1.2,0.0,0.0,0.0,1.0,-0.6,-7.7,-13.4,-0.1,-3.4,0.8,0.0,0.0,0.0,-1.4,-1.5,-7.0,-17.8,-0.1,0.0,4.4,-1.3,0.0,0.0,-0.1,1.1,8.2,16.5,0.6,-1.6,0.0,0.0,0.0,0.0,1.4,0.3,-3.5,-1.9,0.0,-5.7,0.0,0.0,0.0,0.0,-0.4,-0.5,-25.0,-30.0,-0.2,0.0,1.6,-6.0,0.0,0.0,-0.7,2.1,-12.4,8.6,-0.5,0.0,8.5,-10.2,0.0,0.0,-1.0,4.7,-4.0,43.0,-0.2,0.0,15.2,-7.8,0.0,0.0,-0.1,4.9,16.2,63.2,-0.2,0.0,9.1,-0.9,0.0,0.0,-0.2,2.9,21.7,48.9,-0.4,0.0,13.1,-3.6,0.0,0.0,-0.1,3.9,25.4,62.8,7\n",
            "13,0,169,51,100,167,321,174,91,107,66,52,88,?,84,0,36,48,0,0,20,0,0,0,0,0,0,20,44,36,0,0,44,0,0,0,0,0,0,24,64,0,0,0,48,0,0,0,0,0,0,44,36,0,0,0,52,0,0,0,0,0,0,0,28,64,0,0,16,0,0,0,0,0,0,24,44,40,0,0,44,0,0,0,0,0,0,0,36,60,0,0,24,0,0,0,0,0,0,20,32,60,0,0,40,0,0,0,0,0,0,24,32,60,0,0,44,0,0,0,0,0,0,0,52,40,0,0,36,0,0,0,0,0,0,0,44,40,0,0,32,0,0,0,0,0,0,20,36,56,0,0,40,0,0,0,0,0,0,0.5,0.0,2.7,-6.4,0.0,0.0,0.9,1.7,-10.5,7.1,0.1,-1.2,19.1,-2.3,0.0,0.0,1.4,4.3,36.7,84.8,-0.4,-2.3,21.7,0.0,0.0,0.0,0.7,2.6,66.7,95.8,-0.2,-9.0,3.2,0.0,0.0,0.0,-1.1,-2.9,-14.1,-39.0,0.5,0.0,1.8,-12.9,0.0,0.0,0.4,-0.4,-38.7,-42.1,-0.1,-1.6,19.9,-0.7,0.0,0.0,1.0,3.3,40.4,65.4,0.4,0.0,6.7,-24.4,0.0,0.0,-1.2,0.4,-61.2,-59.9,0.9,-0.5,11.9,-43.3,0.0,0.0,0.8,3.4,-111.4,-95.1,2.0,-0.8,19.8,-48.4,0.0,0.0,1.6,8.7,-114.5,-72.8,2.0,0.0,31.0,-25.7,0.0,0.0,0.8,5.9,29.2,85.8,0.6,0.0,19.5,-11.4,0.0,0.0,0.8,3.3,20.1,49.1,0.0,-0.6,12.2,-2.8,0.0,0.0,0.9,2.2,13.5,31.1,14\n",
            "40,1,160,52,77,129,377,133,77,77,49,75,65,?,70,0,44,0,0,0,24,0,0,0,0,0,0,0,40,32,0,0,24,0,0,0,0,0,0,0,44,28,0,0,24,0,0,0,0,0,0,44,16,0,0,0,48,0,0,0,0,0,0,36,0,0,0,0,0,0,0,0,0,0,0,0,44,16,0,0,24,0,0,0,0,0,0,0,20,56,0,0,12,0,0,0,0,0,0,0,24,56,0,0,16,0,0,0,0,0,0,0,36,48,0,0,24,0,0,0,0,0,0,0,40,44,0,0,28,0,0,0,0,0,0,0,40,44,0,0,24,0,0,0,0,0,0,0,44,0,0,0,24,0,0,0,0,0,0,-0.5,0.0,1.8,0.0,0.0,0.0,0.2,1.0,3.9,10.5,-0.1,0.0,7.6,-1.1,0.0,0.0,0.5,1.4,13.5,22.7,0.0,0.0,5.9,-0.5,0.0,0.0,0.3,0.6,12.2,15.0,0.1,-4.6,0.6,0.0,0.0,0.0,-0.4,-0.9,-9.7,-14.7,0.2,-2.1,0.0,0.0,0.0,0.0,-0.3,0.4,-3.7,-1.4,-0.2,0.0,6.8,-0.9,0.0,0.0,0.7,0.7,14.2,17.1,1.3,0.0,1.3,-11.5,0.0,0.0,-0.3,1.7,-30.9,-13.9,1.7,0.0,2.3,-17.5,0.0,0.0,-0.6,4.5,-46.3,-1.3,1.1,0.0,3.7,-11.0,0.0,0.0,-0.5,4.1,-19.8,21.2,0.1,0.0,7.7,-6.4,0.0,0.0,0.4,1.9,1.4,15.4,0.0,0.0,7.4,-2.5,0.0,0.0,0.4,1.3,9.3,18.9,-0.4,0.0,6.5,0.0,0.0,0.0,0.4,1.0,14.3,20.5,1\n",
            "49,1,162,54,78,0,376,157,70,67,7,8,51,?,67,0,44,36,0,0,24,0,0,0,0,0,0,0,52,32,0,0,28,0,0,0,0,0,0,0,56,28,0,0,24,0,0,0,0,0,0,48,32,0,0,0,56,0,0,0,0,0,0,52,0,0,0,0,0,0,0,0,0,0,0,0,52,28,0,0,28,0,0,0,0,0,0,0,20,44,0,0,8,0,0,0,0,0,0,0,24,48,0,0,16,0,0,0,0,0,0,0,36,44,0,0,24,0,0,0,0,0,0,0,44,48,0,0,28,0,0,0,0,0,0,0,48,44,0,0,28,0,0,0,0,0,0,0,48,40,0,0,24,0,0,0,0,0,0,-0.3,0.0,4.1,-1.1,0.0,0.0,0.8,1.0,7.1,13.7,-0.3,0.0,8.4,-1.5,0.0,0.0,0.6,0.7,19.4,22.9,0.0,0.0,4.4,-0.8,0.0,0.0,-0.3,-0.6,11.2,6.9,0.1,-6.3,1.3,0.0,0.0,0.0,-0.6,-0.8,-13.1,-17.9,0.1,-0.8,0.0,0.0,0.0,0.0,0.6,0.7,-2.0,2.9,-0.2,0.0,6.3,-1.2,0.0,0.0,0.2,0.3,14.7,16.8,0.7,0.0,0.5,-7.3,0.0,0.0,0.2,-0.1,-15.5,-16.4,0.9,0.0,0.7,-8.9,0.0,0.0,0.6,2.5,-20.5,4.0,0.8,0.0,2.1,-9.0,0.0,0.0,0.6,3.8,-16.1,21.1,0.1,0.0,6.6,-4.1,0.0,0.0,0.3,1.4,4.7,14.2,-0.2,0.0,8.5,-2.7,0.0,0.0,0.1,0.8,14.5,20.9,-0.3,0.0,8.2,-1.9,0.0,0.0,0.1,0.5,15.8,19.8,1\n",
            "44,0,168,56,84,118,354,160,63,61,69,78,66,84,64,0,40,0,0,0,20,0,0,0,0,0,0,0,44,12,0,0,28,0,0,0,0,0,0,0,36,8,0,0,20,0,0,0,0,0,0,40,12,0,0,0,44,0,0,0,0,0,0,0,0,0,0,0,0,0,0,0,0,0,0,0,36,12,0,0,20,0,0,0,0,0,0,0,20,56,0,0,12,0,0,0,0,0,0,0,24,48,0,0,12,0,0,0,0,0,0,0,28,44,0,0,16,0,0,0,0,0,0,0,44,32,0,0,32,0,0,0,0,0,0,0,44,28,0,0,28,0,0,0,0,0,0,0,40,24,0,0,24,0,0,0,0,0,0,0.1,0.0,2.3,0.0,0.0,0.0,0.4,1.0,4.6,11.6,1.2,0.0,5.4,-0.7,0.0,0.0,1.8,2.8,11.4,31.0,1.1,0.0,3.0,-0.4,0.0,0.0,1.4,1.8,5.3,17.9,-0.7,-3.9,0.5,0.0,0.0,0.0,-1.1,-1.9,-7.5,-20.4,-0.5,0.0,0.0,0.0,0.0,0.0,-0.6,-0.5,0.0,-3.4,1.1,0.0,4.2,-0.5,0.0,0.0,1.6,2.3,7.2,22.8,0.5,0.0,0.9,-5.5,0.0,0.0,-0.7,1.0,-14.5,-5.3,0.7,0.0,1.2,-6.4,0.0,0.0,-0.5,2.6,-13.9,10.0,1.5,0.0,2.4,-10.3,0.0,0.0,0.3,6.8,-19.3,43.2,0.8,0.0,7.9,-7.3,0.0,0.0,0.9,6.5,5.7,62.9,0.1,0.0,9.3,-3.8,0.0,0.0,0.8,3.8,15.1,48.5,0.1,0.0,7.0,-1.3,0.0,0.0,0.6,2.1,12.5,30.9,1\n",
            "50,1,167,67,89,130,383,156,73,85,34,70,71,?,63,0,44,40,0,0,28,0,0,0,0,0,0,0,56,24,0,0,32,0,0,0,0,0,0,0,72,0,0,0,28,0,0,0,0,0,0,56,28,0,0,0,60,0,0,0,0,0,0,0,28,56,0,0,16,0,0,0,0,0,0,0,60,0,0,0,32,0,0,0,0,0,0,0,24,36,32,0,68,0,0,0,0,0,0,0,36,44,0,0,20,0,0,0,0,0,0,0,40,48,0,0,24,0,0,0,0,0,0,0,56,40,0,0,40,0,0,0,0,0,0,0,52,36,0,0,32,0,0,0,0,0,0,20,44,36,0,0,44,0,0,0,0,0,0,-0.1,0.0,3.5,-2.0,0.0,0.0,0.4,1.3,3.7,13.5,0.0,0.0,9.9,-0.8,0.0,0.0,1.2,1.2,26.8,35.2,0.0,0.0,8.3,0.0,0.0,0.0,0.8,0.3,29.8,32.0,0.1,-6.1,1.1,0.0,0.0,0.0,-0.6,-1.2,-15.5,-24.1,0.0,0.0,0.6,-4.1,0.0,0.0,-0.1,0.8,-10.6,-4.9,-0.2,0.0,8.9,0.0,0.0,0.0,0.8,0.7,26.7,30.2,0.1,0.0,1.3,-5.4,1.9,0.0,0.2,0.8,-5.2,2.1,0.8,0.0,4.4,-8.5,0.0,0.0,0.8,3.9,-10.8,25.0,0.4,0.0,4.3,-7.3,0.0,0.0,1.1,4.0,-8.9,27.9,-0.5,0.0,7.0,-3.2,0.0,0.0,1.1,1.3,13.2,22.3,-0.5,0.0,10.9,-2.5,0.0,0.0,1.0,1.0,23.8,29.6,-0.5,-0.6,10.8,-1.7,0.0,0.0,0.8,0.9,20.1,25.1,10\n"
          ]
        }
      ]
    },
    {
      "cell_type": "code",
      "source": [
        "import pandas as pd"
      ],
      "metadata": {
        "id": "KAgbhEggVxLB"
      },
      "execution_count": 4,
      "outputs": []
    },
    {
      "cell_type": "code",
      "source": [
        "df = pd.read_csv('arrhythmia.data', header = None)"
      ],
      "metadata": {
        "id": "HQom2WvLV2C4"
      },
      "execution_count": 6,
      "outputs": []
    },
    {
      "cell_type": "code",
      "source": [
        "data = df[[0,1,2,3,4,5]]\n",
        "data.columns = ['age', 'sex', 'height', 'weight', 'QRS duration', 'P-R interval']"
      ],
      "metadata": {
        "id": "oegStUwAV8FY"
      },
      "execution_count": 11,
      "outputs": []
    },
    {
      "cell_type": "code",
      "source": [
        "data"
      ],
      "metadata": {
        "colab": {
          "base_uri": "https://localhost:8080/",
          "height": 424
        },
        "id": "HIXQ5QYkW_N4",
        "outputId": "47d4c052-e39a-46a6-e0a6-ecd18d212b45"
      },
      "execution_count": 10,
      "outputs": [
        {
          "output_type": "execute_result",
          "data": {
            "text/plain": [
              "     age  sex  height  weight  QRS duration  P-R interval\n",
              "0     75    0     190      80            91           193\n",
              "1     56    1     165      64            81           174\n",
              "2     54    0     172      95           138           163\n",
              "3     55    0     175      94           100           202\n",
              "4     75    0     190      80            88           181\n",
              "..   ...  ...     ...     ...           ...           ...\n",
              "447   53    1     160      70            80           199\n",
              "448   37    0     190      85           100           137\n",
              "449   36    0     166      68           108           176\n",
              "450   32    1     155      55            93           106\n",
              "451   78    1     160      70            79           127\n",
              "\n",
              "[452 rows x 6 columns]"
            ],
            "text/html": [
              "\n",
              "  <div id=\"df-961ca0c4-ef92-4188-9108-f4ca11a4e43f\">\n",
              "    <div class=\"colab-df-container\">\n",
              "      <div>\n",
              "<style scoped>\n",
              "    .dataframe tbody tr th:only-of-type {\n",
              "        vertical-align: middle;\n",
              "    }\n",
              "\n",
              "    .dataframe tbody tr th {\n",
              "        vertical-align: top;\n",
              "    }\n",
              "\n",
              "    .dataframe thead th {\n",
              "        text-align: right;\n",
              "    }\n",
              "</style>\n",
              "<table border=\"1\" class=\"dataframe\">\n",
              "  <thead>\n",
              "    <tr style=\"text-align: right;\">\n",
              "      <th></th>\n",
              "      <th>age</th>\n",
              "      <th>sex</th>\n",
              "      <th>height</th>\n",
              "      <th>weight</th>\n",
              "      <th>QRS duration</th>\n",
              "      <th>P-R interval</th>\n",
              "    </tr>\n",
              "  </thead>\n",
              "  <tbody>\n",
              "    <tr>\n",
              "      <th>0</th>\n",
              "      <td>75</td>\n",
              "      <td>0</td>\n",
              "      <td>190</td>\n",
              "      <td>80</td>\n",
              "      <td>91</td>\n",
              "      <td>193</td>\n",
              "    </tr>\n",
              "    <tr>\n",
              "      <th>1</th>\n",
              "      <td>56</td>\n",
              "      <td>1</td>\n",
              "      <td>165</td>\n",
              "      <td>64</td>\n",
              "      <td>81</td>\n",
              "      <td>174</td>\n",
              "    </tr>\n",
              "    <tr>\n",
              "      <th>2</th>\n",
              "      <td>54</td>\n",
              "      <td>0</td>\n",
              "      <td>172</td>\n",
              "      <td>95</td>\n",
              "      <td>138</td>\n",
              "      <td>163</td>\n",
              "    </tr>\n",
              "    <tr>\n",
              "      <th>3</th>\n",
              "      <td>55</td>\n",
              "      <td>0</td>\n",
              "      <td>175</td>\n",
              "      <td>94</td>\n",
              "      <td>100</td>\n",
              "      <td>202</td>\n",
              "    </tr>\n",
              "    <tr>\n",
              "      <th>4</th>\n",
              "      <td>75</td>\n",
              "      <td>0</td>\n",
              "      <td>190</td>\n",
              "      <td>80</td>\n",
              "      <td>88</td>\n",
              "      <td>181</td>\n",
              "    </tr>\n",
              "    <tr>\n",
              "      <th>...</th>\n",
              "      <td>...</td>\n",
              "      <td>...</td>\n",
              "      <td>...</td>\n",
              "      <td>...</td>\n",
              "      <td>...</td>\n",
              "      <td>...</td>\n",
              "    </tr>\n",
              "    <tr>\n",
              "      <th>447</th>\n",
              "      <td>53</td>\n",
              "      <td>1</td>\n",
              "      <td>160</td>\n",
              "      <td>70</td>\n",
              "      <td>80</td>\n",
              "      <td>199</td>\n",
              "    </tr>\n",
              "    <tr>\n",
              "      <th>448</th>\n",
              "      <td>37</td>\n",
              "      <td>0</td>\n",
              "      <td>190</td>\n",
              "      <td>85</td>\n",
              "      <td>100</td>\n",
              "      <td>137</td>\n",
              "    </tr>\n",
              "    <tr>\n",
              "      <th>449</th>\n",
              "      <td>36</td>\n",
              "      <td>0</td>\n",
              "      <td>166</td>\n",
              "      <td>68</td>\n",
              "      <td>108</td>\n",
              "      <td>176</td>\n",
              "    </tr>\n",
              "    <tr>\n",
              "      <th>450</th>\n",
              "      <td>32</td>\n",
              "      <td>1</td>\n",
              "      <td>155</td>\n",
              "      <td>55</td>\n",
              "      <td>93</td>\n",
              "      <td>106</td>\n",
              "    </tr>\n",
              "    <tr>\n",
              "      <th>451</th>\n",
              "      <td>78</td>\n",
              "      <td>1</td>\n",
              "      <td>160</td>\n",
              "      <td>70</td>\n",
              "      <td>79</td>\n",
              "      <td>127</td>\n",
              "    </tr>\n",
              "  </tbody>\n",
              "</table>\n",
              "<p>452 rows × 6 columns</p>\n",
              "</div>\n",
              "      <button class=\"colab-df-convert\" onclick=\"convertToInteractive('df-961ca0c4-ef92-4188-9108-f4ca11a4e43f')\"\n",
              "              title=\"Convert this dataframe to an interactive table.\"\n",
              "              style=\"display:none;\">\n",
              "        \n",
              "  <svg xmlns=\"http://www.w3.org/2000/svg\" height=\"24px\"viewBox=\"0 0 24 24\"\n",
              "       width=\"24px\">\n",
              "    <path d=\"M0 0h24v24H0V0z\" fill=\"none\"/>\n",
              "    <path d=\"M18.56 5.44l.94 2.06.94-2.06 2.06-.94-2.06-.94-.94-2.06-.94 2.06-2.06.94zm-11 1L8.5 8.5l.94-2.06 2.06-.94-2.06-.94L8.5 2.5l-.94 2.06-2.06.94zm10 10l.94 2.06.94-2.06 2.06-.94-2.06-.94-.94-2.06-.94 2.06-2.06.94z\"/><path d=\"M17.41 7.96l-1.37-1.37c-.4-.4-.92-.59-1.43-.59-.52 0-1.04.2-1.43.59L10.3 9.45l-7.72 7.72c-.78.78-.78 2.05 0 2.83L4 21.41c.39.39.9.59 1.41.59.51 0 1.02-.2 1.41-.59l7.78-7.78 2.81-2.81c.8-.78.8-2.07 0-2.86zM5.41 20L4 18.59l7.72-7.72 1.47 1.35L5.41 20z\"/>\n",
              "  </svg>\n",
              "      </button>\n",
              "      \n",
              "  <style>\n",
              "    .colab-df-container {\n",
              "      display:flex;\n",
              "      flex-wrap:wrap;\n",
              "      gap: 12px;\n",
              "    }\n",
              "\n",
              "    .colab-df-convert {\n",
              "      background-color: #E8F0FE;\n",
              "      border: none;\n",
              "      border-radius: 50%;\n",
              "      cursor: pointer;\n",
              "      display: none;\n",
              "      fill: #1967D2;\n",
              "      height: 32px;\n",
              "      padding: 0 0 0 0;\n",
              "      width: 32px;\n",
              "    }\n",
              "\n",
              "    .colab-df-convert:hover {\n",
              "      background-color: #E2EBFA;\n",
              "      box-shadow: 0px 1px 2px rgba(60, 64, 67, 0.3), 0px 1px 3px 1px rgba(60, 64, 67, 0.15);\n",
              "      fill: #174EA6;\n",
              "    }\n",
              "\n",
              "    [theme=dark] .colab-df-convert {\n",
              "      background-color: #3B4455;\n",
              "      fill: #D2E3FC;\n",
              "    }\n",
              "\n",
              "    [theme=dark] .colab-df-convert:hover {\n",
              "      background-color: #434B5C;\n",
              "      box-shadow: 0px 1px 3px 1px rgba(0, 0, 0, 0.15);\n",
              "      filter: drop-shadow(0px 1px 2px rgba(0, 0, 0, 0.3));\n",
              "      fill: #FFFFFF;\n",
              "    }\n",
              "  </style>\n",
              "\n",
              "      <script>\n",
              "        const buttonEl =\n",
              "          document.querySelector('#df-961ca0c4-ef92-4188-9108-f4ca11a4e43f button.colab-df-convert');\n",
              "        buttonEl.style.display =\n",
              "          google.colab.kernel.accessAllowed ? 'block' : 'none';\n",
              "\n",
              "        async function convertToInteractive(key) {\n",
              "          const element = document.querySelector('#df-961ca0c4-ef92-4188-9108-f4ca11a4e43f');\n",
              "          const dataTable =\n",
              "            await google.colab.kernel.invokeFunction('convertToInteractive',\n",
              "                                                     [key], {});\n",
              "          if (!dataTable) return;\n",
              "\n",
              "          const docLinkHtml = 'Like what you see? Visit the ' +\n",
              "            '<a target=\"_blank\" href=https://colab.research.google.com/notebooks/data_table.ipynb>data table notebook</a>'\n",
              "            + ' to learn more about interactive tables.';\n",
              "          element.innerHTML = '';\n",
              "          dataTable['output_type'] = 'display_data';\n",
              "          await google.colab.output.renderOutput(dataTable, element);\n",
              "          const docLink = document.createElement('div');\n",
              "          docLink.innerHTML = docLinkHtml;\n",
              "          element.appendChild(docLink);\n",
              "        }\n",
              "      </script>\n",
              "    </div>\n",
              "  </div>\n",
              "  "
            ]
          },
          "metadata": {},
          "execution_count": 10
        }
      ]
    },
    {
      "cell_type": "code",
      "source": [
        "import matplotlib.pyplot as plt\n",
        "plt.rcParams['figure.figsize'] = [15,15]\n",
        "data.hist()"
      ],
      "metadata": {
        "colab": {
          "base_uri": "https://localhost:8080/",
          "height": 1000
        },
        "id": "W0vFYu_AWM45",
        "outputId": "c3488046-ef20-49d9-8ca0-aaad2ffb2324"
      },
      "execution_count": 9,
      "outputs": [
        {
          "output_type": "execute_result",
          "data": {
            "text/plain": [
              "array([[<matplotlib.axes._subplots.AxesSubplot object at 0x7ff2a4e1f810>,\n",
              "        <matplotlib.axes._subplots.AxesSubplot object at 0x7ff2a4e6d5d0>],\n",
              "       [<matplotlib.axes._subplots.AxesSubplot object at 0x7ff2a4db1b90>,\n",
              "        <matplotlib.axes._subplots.AxesSubplot object at 0x7ff2a4d7e690>],\n",
              "       [<matplotlib.axes._subplots.AxesSubplot object at 0x7ff2a4d35c90>,\n",
              "        <matplotlib.axes._subplots.AxesSubplot object at 0x7ff2a4cf82d0>]],\n",
              "      dtype=object)"
            ]
          },
          "metadata": {},
          "execution_count": 9
        },
        {
          "output_type": "display_data",
          "data": {
            "text/plain": [
              "<Figure size 1080x1080 with 6 Axes>"
            ],
            "image/png": "[encoded data removed]"
          },
          "metadata": {
            "needs_background": "light"
          }
        }
      ]
    },
    {
      "cell_type": "markdown",
      "source": [
        "# Part 2:Using tf.keras"
      ],
      "metadata": {
        "id": "G4vlncXzXWd9"
      }
    },
    {
      "cell_type": "markdown",
      "source": [
        ""
      ],
      "metadata": {
        "id": "aTffx8XgX2dB"
      }
    },
    {
      "cell_type": "code",
      "source": [
        "url = 'https://archive.ics.uci.edu/ml/machine-learning-databases/auto-mpg/auto-mpg.data'"
      ],
      "metadata": {
        "id": "mUO-Rmd8XaSf"
      },
      "execution_count": 13,
      "outputs": []
    },
    {
      "cell_type": "code",
      "source": [
        "import tensorflow as tf\n",
        "print(tf.__version__)"
      ],
      "metadata": {
        "colab": {
          "base_uri": "https://localhost:8080/"
        },
        "id": "hT6Dhzy_XgEK",
        "outputId": "018dac87-cb0d-4084-c552-24f6a9c67d60"
      },
      "execution_count": 14,
      "outputs": [
        {
          "output_type": "stream",
          "name": "stdout",
          "text": [
            "2.8.2\n"
          ]
        }
      ]
    },
    {
      "cell_type": "code",
      "source": [
        "tf.keras.utils.get_file('auto-mpg.data', url)"
      ],
      "metadata": {
        "colab": {
          "base_uri": "https://localhost:8080/",
          "height": 87
        },
        "id": "zMHs0QUIXn7f",
        "outputId": "8a4a3506-5c23-4d53-f8d0-0f17ed45085e"
      },
      "execution_count": 15,
      "outputs": [
        {
          "output_type": "stream",
          "name": "stdout",
          "text": [
            "Downloading data from https://archive.ics.uci.edu/ml/machine-learning-databases/auto-mpg/auto-mpg.data\n",
            "32768/30286 [================================] - 0s 0us/step\n",
            "40960/30286 [========================================] - 0s 0us/step\n"
          ]
        },
        {
          "output_type": "execute_result",
          "data": {
            "text/plain": [
              "'/root/.keras/datasets/auto-mpg.data'"
            ],
            "application/vnd.google.colaboratory.intrinsic+json": {
              "type": "string"
            }
          },
          "metadata": {},
          "execution_count": 15
        }
      ]
    },
    {
      "cell_type": "code",
      "source": [
        "!head /root/.keras/datasets/auto-mpg.data"
      ],
      "metadata": {
        "colab": {
          "base_uri": "https://localhost:8080/"
        },
        "id": "i-hSdaagXubX",
        "outputId": "ae726462-abb3-439e-d2d1-6cd0c210f3ac"
      },
      "execution_count": 16,
      "outputs": [
        {
          "output_type": "stream",
          "name": "stdout",
          "text": [
            "18.0   8   307.0      130.0      3504.      12.0   70  1\t\"chevrolet chevelle malibu\"\n",
            "15.0   8   350.0      165.0      3693.      11.5   70  1\t\"buick skylark 320\"\n",
            "18.0   8   318.0      150.0      3436.      11.0   70  1\t\"plymouth satellite\"\n",
            "16.0   8   304.0      150.0      3433.      12.0   70  1\t\"amc rebel sst\"\n",
            "17.0   8   302.0      140.0      3449.      10.5   70  1\t\"ford torino\"\n",
            "15.0   8   429.0      198.0      4341.      10.0   70  1\t\"ford galaxie 500\"\n",
            "14.0   8   454.0      220.0      4354.       9.0   70  1\t\"chevrolet impala\"\n",
            "14.0   8   440.0      215.0      4312.       8.5   70  1\t\"plymouth fury iii\"\n",
            "14.0   8   455.0      225.0      4425.      10.0   70  1\t\"pontiac catalina\"\n",
            "15.0   8   390.0      190.0      3850.       8.5   70  1\t\"amc ambassador dpl\"\n"
          ]
        }
      ]
    },
    {
      "cell_type": "code",
      "source": [
        "df = pd.read_csv('/root/.keras/datasets/auto-mpg.data', header = None, delim_whitespace = True)"
      ],
      "metadata": {
        "id": "veFMNFnMX6ih"
      },
      "execution_count": 18,
      "outputs": []
    },
    {
      "cell_type": "code",
      "source": [
        "df.head()"
      ],
      "metadata": {
        "colab": {
          "base_uri": "https://localhost:8080/",
          "height": 206
        },
        "id": "xzM62dyHYBjI",
        "outputId": "19e51197-3ad7-44b9-c6a7-bbdbb630f6bd"
      },
      "execution_count": 19,
      "outputs": [
        {
          "output_type": "execute_result",
          "data": {
            "text/plain": [
              "      0  1      2      3       4     5   6  7                          8\n",
              "0  18.0  8  307.0  130.0  3504.0  12.0  70  1  chevrolet chevelle malibu\n",
              "1  15.0  8  350.0  165.0  3693.0  11.5  70  1          buick skylark 320\n",
              "2  18.0  8  318.0  150.0  3436.0  11.0  70  1         plymouth satellite\n",
              "3  16.0  8  304.0  150.0  3433.0  12.0  70  1              amc rebel sst\n",
              "4  17.0  8  302.0  140.0  3449.0  10.5  70  1                ford torino"
            ],
            "text/html": [
              "\n",
              "  <div id=\"df-43a1dad2-f053-4ca9-9db4-a7b2e4917aa4\">\n",
              "    <div class=\"colab-df-container\">\n",
              "      <div>\n",
              "<style scoped>\n",
              "    .dataframe tbody tr th:only-of-type {\n",
              "        vertical-align: middle;\n",
              "    }\n",
              "\n",
              "    .dataframe tbody tr th {\n",
              "        vertical-align: top;\n",
              "    }\n",
              "\n",
              "    .dataframe thead th {\n",
              "        text-align: right;\n",
              "    }\n",
              "</style>\n",
              "<table border=\"1\" class=\"dataframe\">\n",
              "  <thead>\n",
              "    <tr style=\"text-align: right;\">\n",
              "      <th></th>\n",
              "      <th>0</th>\n",
              "      <th>1</th>\n",
              "      <th>2</th>\n",
              "      <th>3</th>\n",
              "      <th>4</th>\n",
              "      <th>5</th>\n",
              "      <th>6</th>\n",
              "      <th>7</th>\n",
              "      <th>8</th>\n",
              "    </tr>\n",
              "  </thead>\n",
              "  <tbody>\n",
              "    <tr>\n",
              "      <th>0</th>\n",
              "      <td>18.0</td>\n",
              "      <td>8</td>\n",
              "      <td>307.0</td>\n",
              "      <td>130.0</td>\n",
              "      <td>3504.0</td>\n",
              "      <td>12.0</td>\n",
              "      <td>70</td>\n",
              "      <td>1</td>\n",
              "      <td>chevrolet chevelle malibu</td>\n",
              "    </tr>\n",
              "    <tr>\n",
              "      <th>1</th>\n",
              "      <td>15.0</td>\n",
              "      <td>8</td>\n",
              "      <td>350.0</td>\n",
              "      <td>165.0</td>\n",
              "      <td>3693.0</td>\n",
              "      <td>11.5</td>\n",
              "      <td>70</td>\n",
              "      <td>1</td>\n",
              "      <td>buick skylark 320</td>\n",
              "    </tr>\n",
              "    <tr>\n",
              "      <th>2</th>\n",
              "      <td>18.0</td>\n",
              "      <td>8</td>\n",
              "      <td>318.0</td>\n",
              "      <td>150.0</td>\n",
              "      <td>3436.0</td>\n",
              "      <td>11.0</td>\n",
              "      <td>70</td>\n",
              "      <td>1</td>\n",
              "      <td>plymouth satellite</td>\n",
              "    </tr>\n",
              "    <tr>\n",
              "      <th>3</th>\n",
              "      <td>16.0</td>\n",
              "      <td>8</td>\n",
              "      <td>304.0</td>\n",
              "      <td>150.0</td>\n",
              "      <td>3433.0</td>\n",
              "      <td>12.0</td>\n",
              "      <td>70</td>\n",
              "      <td>1</td>\n",
              "      <td>amc rebel sst</td>\n",
              "    </tr>\n",
              "    <tr>\n",
              "      <th>4</th>\n",
              "      <td>17.0</td>\n",
              "      <td>8</td>\n",
              "      <td>302.0</td>\n",
              "      <td>140.0</td>\n",
              "      <td>3449.0</td>\n",
              "      <td>10.5</td>\n",
              "      <td>70</td>\n",
              "      <td>1</td>\n",
              "      <td>ford torino</td>\n",
              "    </tr>\n",
              "  </tbody>\n",
              "</table>\n",
              "</div>\n",
              "      <button class=\"colab-df-convert\" onclick=\"convertToInteractive('df-43a1dad2-f053-4ca9-9db4-a7b2e4917aa4')\"\n",
              "              title=\"Convert this dataframe to an interactive table.\"\n",
              "              style=\"display:none;\">\n",
              "        \n",
              "  <svg xmlns=\"http://www.w3.org/2000/svg\" height=\"24px\"viewBox=\"0 0 24 24\"\n",
              "       width=\"24px\">\n",
              "    <path d=\"M0 0h24v24H0V0z\" fill=\"none\"/>\n",
              "    <path d=\"M18.56 5.44l.94 2.06.94-2.06 2.06-.94-2.06-.94-.94-2.06-.94 2.06-2.06.94zm-11 1L8.5 8.5l.94-2.06 2.06-.94-2.06-.94L8.5 2.5l-.94 2.06-2.06.94zm10 10l.94 2.06.94-2.06 2.06-.94-2.06-.94-.94-2.06-.94 2.06-2.06.94z\"/><path d=\"M17.41 7.96l-1.37-1.37c-.4-.4-.92-.59-1.43-.59-.52 0-1.04.2-1.43.59L10.3 9.45l-7.72 7.72c-.78.78-.78 2.05 0 2.83L4 21.41c.39.39.9.59 1.41.59.51 0 1.02-.2 1.41-.59l7.78-7.78 2.81-2.81c.8-.78.8-2.07 0-2.86zM5.41 20L4 18.59l7.72-7.72 1.47 1.35L5.41 20z\"/>\n",
              "  </svg>\n",
              "      </button>\n",
              "      \n",
              "  <style>\n",
              "    .colab-df-container {\n",
              "      display:flex;\n",
              "      flex-wrap:wrap;\n",
              "      gap: 12px;\n",
              "    }\n",
              "\n",
              "    .colab-df-convert {\n",
              "      background-color: #E8F0FE;\n",
              "      border: none;\n",
              "      border-radius: 50%;\n",
              "      cursor: pointer;\n",
              "      display: none;\n",
              "      fill: #1967D2;\n",
              "      height: 32px;\n",
              "      padding: 0 0 0 0;\n",
              "      width: 32px;\n",
              "    }\n",
              "\n",
              "    .colab-df-convert:hover {\n",
              "      background-color: #E2EBFA;\n",
              "      box-shadow: 0px 1px 2px rgba(60, 64, 67, 0.3), 0px 1px 3px 1px rgba(60, 64, 67, 0.15);\n",
              "      fill: #174EA6;\n",
              "    }\n",
              "\n",
              "    [theme=dark] .colab-df-convert {\n",
              "      background-color: #3B4455;\n",
              "      fill: #D2E3FC;\n",
              "    }\n",
              "\n",
              "    [theme=dark] .colab-df-convert:hover {\n",
              "      background-color: #434B5C;\n",
              "      box-shadow: 0px 1px 3px 1px rgba(0, 0, 0, 0.15);\n",
              "      filter: drop-shadow(0px 1px 2px rgba(0, 0, 0, 0.3));\n",
              "      fill: #FFFFFF;\n",
              "    }\n",
              "  </style>\n",
              "\n",
              "      <script>\n",
              "        const buttonEl =\n",
              "          document.querySelector('#df-43a1dad2-f053-4ca9-9db4-a7b2e4917aa4 button.colab-df-convert');\n",
              "        buttonEl.style.display =\n",
              "          google.colab.kernel.accessAllowed ? 'block' : 'none';\n",
              "\n",
              "        async function convertToInteractive(key) {\n",
              "          const element = document.querySelector('#df-43a1dad2-f053-4ca9-9db4-a7b2e4917aa4');\n",
              "          const dataTable =\n",
              "            await google.colab.kernel.invokeFunction('convertToInteractive',\n",
              "                                                     [key], {});\n",
              "          if (!dataTable) return;\n",
              "\n",
              "          const docLinkHtml = 'Like what you see? Visit the ' +\n",
              "            '<a target=\"_blank\" href=https://colab.research.google.com/notebooks/data_table.ipynb>data table notebook</a>'\n",
              "            + ' to learn more about interactive tables.';\n",
              "          element.innerHTML = '';\n",
              "          dataTable['output_type'] = 'display_data';\n",
              "          await google.colab.output.renderOutput(dataTable, element);\n",
              "          const docLink = document.createElement('div');\n",
              "          docLink.innerHTML = docLinkHtml;\n",
              "          element.appendChild(docLink);\n",
              "        }\n",
              "      </script>\n",
              "    </div>\n",
              "  </div>\n",
              "  "
            ]
          },
          "metadata": {},
          "execution_count": 19
        }
      ]
    },
    {
      "cell_type": "markdown",
      "source": [
        "# Part3: Upload the file yourself"
      ],
      "metadata": {
        "id": "BMXCNOx_YNnH"
      }
    },
    {
      "cell_type": "code",
      "source": [
        "from google.colab import files\n",
        "uploaded = files.upload()"
      ],
      "metadata": {
        "colab": {
          "resources": {
            "http://localhost:8080/nbextensions/google.colab/files.js": {
              "data": "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",
              "ok": true,
              "headers": [
                [
                  "content-type",
                  "application/javascript"
                ]
              ],
              "status": 200,
              "status_text": ""
            }
          },
          "base_uri": "https://localhost:8080/",
          "height": 73
        },
        "id": "O88hpOCwYP-_",
        "outputId": "38972110-3a61-434b-b4ba-02b9c5d5e7da"
      },
      "execution_count": 21,
      "outputs": [
        {
          "output_type": "display_data",
          "data": {
            "text/plain": [
              "<IPython.core.display.HTML object>"
            ],
            "text/html": [
              "\n",
              "     <input type=\"file\" id=\"files-4340a560-855d-4bf4-b98f-e11d8f2d0a33\" name=\"files[]\" multiple disabled\n",
              "        style=\"border:none\" />\n",
              "     <output id=\"result-4340a560-855d-4bf4-b98f-e11d8f2d0a33\">\n",
              "      Upload widget is only available when the cell has been executed in the\n",
              "      current browser session. Please rerun this cell to enable.\n",
              "      </output>\n",
              "      <script src=\"/nbextensions/google.colab/files.js\"></script> "
            ]
          },
          "metadata": {}
        },
        {
          "output_type": "stream",
          "name": "stdout",
          "text": [
            "Saving daily-minimum-temperatures-in-me.csv to daily-minimum-temperatures-in-me.csv\n"
          ]
        }
      ]
    },
    {
      "cell_type": "code",
      "source": [
        "uploaded"
      ],
      "metadata": {
        "colab": {
          "base_uri": "https://localhost:8080/"
        },
        "id": "LuBhKwIzYSzp",
        "outputId": "ad702269-89f7-4387-99f3-410b25411267"
      },
      "execution_count": 23,
      "outputs": [
        {
          "output_type": "execute_result",
          "data": {
            "text/plain": [
              "{'daily-minimum-temperatures-in-me.csv': b'Date,Daily minimum temperatures\\r\\n1/1/1981,20.7\\r\\n1/2/1981,17.9\\r\\n1/3/1981,18.8\\r\\n1/4/1981,14.6\\r\\n1/5/1981,15.8\\r\\n1/6/1981,15.8\\r\\n1/7/1981,15.8\\r\\n1/8/1981,17.4\\r\\n1/9/1981,21.8\\r\\n1/10/1981,20\\r\\n1/11/1981,16.2\\r\\n1/12/1981,13.3\\r\\n1/13/1981,16.7\\r\\n1/14/1981,21.5\\r\\n1/15/1981,25\\r\\n1/16/1981,20.7\\r\\n1/17/1981,20.6\\r\\n1/18/1981,24.8\\r\\n1/19/1981,17.7\\r\\n1/20/1981,15.5\\r\\n1/21/1981,18.2\\r\\n1/22/1981,12.1\\r\\n1/23/1981,14.4\\r\\n1/24/1981,16\\r\\n1/25/1981,16.5\\r\\n1/26/1981,18.7\\r\\n1/27/1981,19.4\\r\\n1/28/1981,17.2\\r\\n1/29/1981,15.5\\r\\n1/30/1981,15.1\\r\\n1/31/1981,15.4\\r\\n2/1/1981,15.3\\r\\n2/2/1981,18.8\\r\\n2/3/1981,21.9\\r\\n2/4/1981,19.9\\r\\n2/5/1981,16.6\\r\\n2/6/1981,16.8\\r\\n2/7/1981,14.6\\r\\n2/8/1981,17.1\\r\\n2/9/1981,25\\r\\n2/10/1981,15\\r\\n2/11/1981,13.7\\r\\n2/12/1981,13.9\\r\\n2/13/1981,18.3\\r\\n2/14/1981,22\\r\\n2/15/1981,22.1\\r\\n2/16/1981,21.2\\r\\n2/17/1981,18.4\\r\\n2/18/1981,16.6\\r\\n2/19/1981,16.1\\r\\n2/20/1981,15.7\\r\\n2/21/1981,16.6\\r\\n2/22/1981,16.5\\r\\n2/23/1981,14.4\\r\\n2/24/1981,14.4\\r\\n2/25/1981,18.5\\r\\n2/26/1981,16.9\\r\\n2/27/1981,17.5\\r\\n2/28/1981,21.2\\r\\n3/1/1981,17.8\\r\\n3/2/1981,18.6\\r\\n3/3/1981,17\\r\\n3/4/1981,16\\r\\n3/5/1981,13.3\\r\\n3/6/1981,14.3\\r\\n3/7/1981,11.4\\r\\n3/8/1981,16.3\\r\\n3/9/1981,16.1\\r\\n3/10/1981,11.8\\r\\n3/11/1981,12.2\\r\\n3/12/1981,14.7\\r\\n3/13/1981,11.8\\r\\n3/14/1981,11.3\\r\\n3/15/1981,10.6\\r\\n3/16/1981,11.7\\r\\n3/17/1981,14.2\\r\\n3/18/1981,11.2\\r\\n3/19/1981,16.9\\r\\n3/20/1981,16.7\\r\\n3/21/1981,8.1\\r\\n3/22/1981,8\\r\\n3/23/1981,8.8\\r\\n3/24/1981,13.4\\r\\n3/25/1981,10.9\\r\\n3/26/1981,13.4\\r\\n3/27/1981,11\\r\\n3/28/1981,15\\r\\n3/29/1981,15.7\\r\\n3/30/1981,14.5\\r\\n3/31/1981,15.8\\r\\n4/1/1981,16.7\\r\\n4/2/1981,16.8\\r\\n4/3/1981,17.5\\r\\n4/4/1981,17.1\\r\\n4/5/1981,18.1\\r\\n4/6/1981,16.6\\r\\n4/7/1981,10\\r\\n4/8/1981,14.9\\r\\n4/9/1981,15.9\\r\\n4/10/1981,13\\r\\n4/11/1981,7.6\\r\\n4/12/1981,11.5\\r\\n4/13/1981,13.5\\r\\n4/14/1981,13\\r\\n4/15/1981,13.3\\r\\n4/16/1981,12.1\\r\\n4/17/1981,12.4\\r\\n4/18/1981,13.2\\r\\n4/19/1981,13.8\\r\\n4/20/1981,10.6\\r\\n4/21/1981,9\\r\\n4/22/1981,10\\r\\n4/23/1981,9.8\\r\\n4/24/1981,11.5\\r\\n4/25/1981,8.9\\r\\n4/26/1981,7.4\\r\\n4/27/1981,9.9\\r\\n4/28/1981,9.3\\r\\n4/29/1981,9.9\\r\\n4/30/1981,7.4\\r\\n5/1/1981,8.6\\r\\n5/2/1981,11.9\\r\\n5/3/1981,14\\r\\n5/4/1981,8.6\\r\\n5/5/1981,10\\r\\n5/6/1981,13.5\\r\\n5/7/1981,12\\r\\n5/8/1981,10.5\\r\\n5/9/1981,10.7\\r\\n5/10/1981,8.1\\r\\n5/11/1981,10.1\\r\\n5/12/1981,10.6\\r\\n5/13/1981,5.3\\r\\n5/14/1981,6.6\\r\\n5/15/1981,8.5\\r\\n5/16/1981,11.2\\r\\n5/17/1981,9.8\\r\\n5/18/1981,5.9\\r\\n5/19/1981,3.2\\r\\n5/20/1981,2.1\\r\\n5/21/1981,3.4\\r\\n5/22/1981,5.4\\r\\n5/23/1981,9.6\\r\\n5/24/1981,11.5\\r\\n5/25/1981,12.3\\r\\n5/26/1981,12.6\\r\\n5/27/1981,11\\r\\n5/28/1981,11.2\\r\\n5/29/1981,11.4\\r\\n5/30/1981,11.8\\r\\n5/31/1981,12.8\\r\\n6/1/1981,11.6\\r\\n6/2/1981,10.6\\r\\n6/3/1981,9.8\\r\\n6/4/1981,11.2\\r\\n6/5/1981,5.7\\r\\n6/6/1981,7.1\\r\\n6/7/1981,2.5\\r\\n6/8/1981,3.5\\r\\n6/9/1981,4.6\\r\\n6/10/1981,11\\r\\n6/11/1981,5.7\\r\\n6/12/1981,7.7\\r\\n6/13/1981,10.4\\r\\n6/14/1981,11.4\\r\\n6/15/1981,9.2\\r\\n6/16/1981,6.1\\r\\n6/17/1981,2.7\\r\\n6/18/1981,4.3\\r\\n6/19/1981,6.3\\r\\n6/20/1981,3.8\\r\\n6/21/1981,4.4\\r\\n6/22/1981,7.1\\r\\n6/23/1981,4.8\\r\\n6/24/1981,5.8\\r\\n6/25/1981,6.2\\r\\n6/26/1981,7.3\\r\\n6/27/1981,9.2\\r\\n6/28/1981,10.2\\r\\n6/29/1981,9.5\\r\\n6/30/1981,9.5\\r\\n7/1/1981,10.7\\r\\n7/2/1981,10\\r\\n7/3/1981,6.5\\r\\n7/4/1981,7\\r\\n7/5/1981,7.4\\r\\n7/6/1981,8.1\\r\\n7/7/1981,6.6\\r\\n7/8/1981,8.3\\r\\n7/9/1981,8.9\\r\\n7/10/1981,4.6\\r\\n7/11/1981,6.8\\r\\n7/12/1981,5.7\\r\\n7/13/1981,6.1\\r\\n7/14/1981,7\\r\\n7/15/1981,7.2\\r\\n7/16/1981,6.3\\r\\n7/17/1981,8.8\\r\\n7/18/1981,5\\r\\n7/19/1981,7.4\\r\\n7/20/1981,10.1\\r\\n7/21/1981,12\\r\\n7/22/1981,9\\r\\n7/23/1981,8.9\\r\\n7/24/1981,9.8\\r\\n7/25/1981,9\\r\\n7/26/1981,9.2\\r\\n7/27/1981,7.7\\r\\n7/28/1981,8\\r\\n7/29/1981,6.1\\r\\n7/30/1981,3.5\\r\\n7/31/1981,3.2\\r\\n8/1/1981,5.7\\r\\n8/2/1981,7.7\\r\\n8/3/1981,9\\r\\n8/4/1981,10\\r\\n8/5/1981,6.2\\r\\n8/6/1981,6.9\\r\\n8/7/1981,6.5\\r\\n8/8/1981,6.8\\r\\n8/9/1981,7\\r\\n8/10/1981,5.2\\r\\n8/11/1981,3\\r\\n8/12/1981,5.6\\r\\n8/13/1981,7.9\\r\\n8/14/1981,9\\r\\n8/15/1981,8.6\\r\\n8/16/1981,10.3\\r\\n8/17/1981,10.5\\r\\n8/18/1981,7.6\\r\\n8/19/1981,9.7\\r\\n8/20/1981,12.5\\r\\n8/21/1981,7.4\\r\\n8/22/1981,7.9\\r\\n8/23/1981,3.9\\r\\n8/24/1981,6.6\\r\\n8/25/1981,4.6\\r\\n8/26/1981,7\\r\\n8/27/1981,6\\r\\n8/28/1981,5.5\\r\\n8/29/1981,8.1\\r\\n8/30/1981,5.5\\r\\n8/31/1981,6.2\\r\\n9/1/1981,8\\r\\n9/2/1981,10.3\\r\\n9/3/1981,9.8\\r\\n9/4/1981,9.6\\r\\n9/5/1981,8.5\\r\\n9/6/1981,7.5\\r\\n9/7/1981,11.2\\r\\n9/8/1981,14.6\\r\\n9/9/1981,11.7\\r\\n9/10/1981,7.8\\r\\n9/11/1981,12.3\\r\\n9/12/1981,10.1\\r\\n9/13/1981,11.5\\r\\n9/14/1981,7.3\\r\\n9/15/1981,10.9\\r\\n9/16/1981,14.1\\r\\n9/17/1981,10.7\\r\\n9/18/1981,16.9\\r\\n9/19/1981,10.5\\r\\n9/20/1981,6.5\\r\\n9/21/1981,11\\r\\n9/22/1981,6.3\\r\\n9/23/1981,10.5\\r\\n9/24/1981,7.2\\r\\n9/25/1981,7.6\\r\\n9/26/1981,10.7\\r\\n9/27/1981,7.8\\r\\n9/28/1981,9.6\\r\\n9/29/1981,11.4\\r\\n9/30/1981,12.4\\r\\n10/1/1981,8.9\\r\\n10/2/1981,13.2\\r\\n10/3/1981,8.6\\r\\n10/4/1981,6.2\\r\\n10/5/1981,11.4\\r\\n10/6/1981,13.2\\r\\n10/7/1981,14.3\\r\\n10/8/1981,7.3\\r\\n10/9/1981,12.9\\r\\n10/10/1981,7.8\\r\\n10/11/1981,6.2\\r\\n10/12/1981,5.6\\r\\n10/13/1981,10\\r\\n10/14/1981,13.3\\r\\n10/15/1981,8.3\\r\\n10/16/1981,10.2\\r\\n10/17/1981,8.6\\r\\n10/18/1981,7.3\\r\\n10/19/1981,10.4\\r\\n10/20/1981,11.2\\r\\n10/21/1981,13.2\\r\\n10/22/1981,11.4\\r\\n10/23/1981,9.1\\r\\n10/24/1981,6.6\\r\\n10/25/1981,8.4\\r\\n10/26/1981,9.7\\r\\n10/27/1981,13.2\\r\\n10/28/1981,12.5\\r\\n10/29/1981,11\\r\\n10/30/1981,11\\r\\n10/31/1981,11.7\\r\\n11/1/1981,9.2\\r\\n11/2/1981,11.5\\r\\n11/3/1981,13.6\\r\\n11/4/1981,13.7\\r\\n11/5/1981,10.4\\r\\n11/6/1981,11.5\\r\\n11/7/1981,7.6\\r\\n11/8/1981,9.6\\r\\n11/9/1981,14.2\\r\\n11/10/1981,15.7\\r\\n11/11/1981,10.5\\r\\n11/12/1981,10.5\\r\\n11/13/1981,9.7\\r\\n11/14/1981,9.5\\r\\n11/15/1981,11.3\\r\\n11/16/1981,8.9\\r\\n11/17/1981,9.4\\r\\n11/18/1981,11.9\\r\\n11/19/1981,11.7\\r\\n11/20/1981,13.4\\r\\n11/21/1981,12.6\\r\\n11/22/1981,10.1\\r\\n11/23/1981,15.8\\r\\n11/24/1981,13.6\\r\\n11/25/1981,11.9\\r\\n11/26/1981,9.9\\r\\n11/27/1981,12.6\\r\\n11/28/1981,17.8\\r\\n11/29/1981,15\\r\\n11/30/1981,13.6\\r\\n12/1/1981,13.4\\r\\n12/2/1981,10.5\\r\\n12/3/1981,14.2\\r\\n12/4/1981,11.5\\r\\n12/5/1981,13\\r\\n12/6/1981,15\\r\\n12/7/1981,14.7\\r\\n12/8/1981,12.6\\r\\n12/9/1981,12.5\\r\\n12/10/1981,13.5\\r\\n12/11/1981,14.8\\r\\n12/12/1981,17.2\\r\\n12/13/1981,9.7\\r\\n12/14/1981,12.1\\r\\n12/15/1981,12.8\\r\\n12/16/1981,11.2\\r\\n12/17/1981,16.4\\r\\n12/18/1981,15.6\\r\\n12/19/1981,13.3\\r\\n12/20/1981,11\\r\\n12/21/1981,11.1\\r\\n12/22/1981,15\\r\\n12/23/1981,12.8\\r\\n12/24/1981,15\\r\\n12/25/1981,14.2\\r\\n12/26/1981,14\\r\\n12/27/1981,15.5\\r\\n12/28/1981,13.3\\r\\n12/29/1981,15.6\\r\\n12/30/1981,15.2\\r\\n12/31/1981,17.4\\r\\n1/1/1982,17\\r\\n1/2/1982,15\\r\\n1/3/1982,13.5\\r\\n1/4/1982,15.2\\r\\n1/5/1982,13\\r\\n1/6/1982,12.5\\r\\n1/7/1982,14.1\\r\\n1/8/1982,14.8\\r\\n1/9/1982,16.2\\r\\n1/10/1982,15.8\\r\\n1/11/1982,19.1\\r\\n1/12/1982,22.2\\r\\n1/13/1982,15.9\\r\\n1/14/1982,13\\r\\n1/15/1982,14.1\\r\\n1/16/1982,15.8\\r\\n1/17/1982,24\\r\\n1/18/1982,18\\r\\n1/19/1982,19.7\\r\\n1/20/1982,25.2\\r\\n1/21/1982,20.5\\r\\n1/22/1982,19.3\\r\\n1/23/1982,15.8\\r\\n1/24/1982,17\\r\\n1/25/1982,18.4\\r\\n1/26/1982,13.3\\r\\n1/27/1982,14.6\\r\\n1/28/1982,12.5\\r\\n1/29/1982,17\\r\\n1/30/1982,17.1\\r\\n1/31/1982,14\\r\\n2/1/1982,14.6\\r\\n2/2/1982,13.3\\r\\n2/3/1982,14.8\\r\\n2/4/1982,15.1\\r\\n2/5/1982,13.1\\r\\n2/6/1982,13.6\\r\\n2/7/1982,19.5\\r\\n2/8/1982,22.7\\r\\n2/9/1982,17.2\\r\\n2/10/1982,13.5\\r\\n2/11/1982,15.4\\r\\n2/12/1982,17\\r\\n2/13/1982,19.2\\r\\n2/14/1982,22.8\\r\\n2/15/1982,26.3\\r\\n2/16/1982,18.2\\r\\n2/17/1982,17\\r\\n2/18/1982,14.8\\r\\n2/19/1982,12.8\\r\\n2/20/1982,15.5\\r\\n2/21/1982,15.6\\r\\n2/22/1982,13.1\\r\\n2/23/1982,15.2\\r\\n2/24/1982,14.1\\r\\n2/25/1982,12.5\\r\\n2/26/1982,14.6\\r\\n2/27/1982,10.4\\r\\n2/28/1982,13.9\\r\\n3/1/1982,11.9\\r\\n3/2/1982,13.5\\r\\n3/3/1982,9.8\\r\\n3/4/1982,14\\r\\n3/5/1982,21.5\\r\\n3/6/1982,19.5\\r\\n3/7/1982,16.7\\r\\n3/8/1982,19.1\\r\\n3/9/1982,11\\r\\n3/10/1982,9\\r\\n3/11/1982,10\\r\\n3/12/1982,14.6\\r\\n3/13/1982,12.5\\r\\n3/14/1982,17.2\\r\\n3/15/1982,19.2\\r\\n3/16/1982,22.2\\r\\n3/17/1982,15.7\\r\\n3/18/1982,14.2\\r\\n3/19/1982,9.8\\r\\n3/20/1982,14\\r\\n3/21/1982,17.5\\r\\n3/22/1982,20.7\\r\\n3/23/1982,15.6\\r\\n3/24/1982,13.2\\r\\n3/25/1982,14.5\\r\\n3/26/1982,16.8\\r\\n3/27/1982,17.2\\r\\n3/28/1982,13.4\\r\\n3/29/1982,14.2\\r\\n3/30/1982,14.3\\r\\n3/31/1982,10.2\\r\\n4/1/1982,10.4\\r\\n4/2/1982,12.3\\r\\n4/3/1982,11.9\\r\\n4/4/1982,11.2\\r\\n4/5/1982,8.5\\r\\n4/6/1982,12\\r\\n4/7/1982,12.4\\r\\n4/8/1982,12.9\\r\\n4/9/1982,10.1\\r\\n4/10/1982,15\\r\\n4/11/1982,13.6\\r\\n4/12/1982,12.4\\r\\n4/13/1982,13.6\\r\\n4/14/1982,16.1\\r\\n4/15/1982,19.5\\r\\n4/16/1982,14.2\\r\\n4/17/1982,9.3\\r\\n4/18/1982,10.1\\r\\n4/19/1982,7.4\\r\\n4/20/1982,8.6\\r\\n4/21/1982,7.8\\r\\n4/22/1982,9.1\\r\\n4/23/1982,13\\r\\n4/24/1982,16.5\\r\\n4/25/1982,12.9\\r\\n4/26/1982,6.9\\r\\n4/27/1982,6.9\\r\\n4/28/1982,8.7\\r\\n4/29/1982,10\\r\\n4/30/1982,10.8\\r\\n5/1/1982,7.5\\r\\n5/2/1982,6.3\\r\\n5/3/1982,11.9\\r\\n5/4/1982,13.8\\r\\n5/5/1982,11.8\\r\\n5/6/1982,11\\r\\n5/7/1982,10.1\\r\\n5/8/1982,8.5\\r\\n5/9/1982,5.5\\r\\n5/10/1982,7.6\\r\\n5/11/1982,8.7\\r\\n5/12/1982,10.8\\r\\n5/13/1982,11.2\\r\\n5/14/1982,9.1\\r\\n5/15/1982,3.7\\r\\n5/16/1982,4.6\\r\\n5/17/1982,6.6\\r\\n5/18/1982,13.2\\r\\n5/19/1982,15.2\\r\\n5/20/1982,7.6\\r\\n5/21/1982,8.4\\r\\n5/22/1982,6\\r\\n5/23/1982,8.3\\r\\n5/24/1982,8.6\\r\\n5/25/1982,11.1\\r\\n5/26/1982,12.1\\r\\n5/27/1982,12.9\\r\\n5/28/1982,14\\r\\n5/29/1982,12.5\\r\\n5/30/1982,11.5\\r\\n5/31/1982,7\\r\\n6/1/1982,7.1\\r\\n6/2/1982,9\\r\\n6/3/1982,3.1\\r\\n6/4/1982,2.5\\r\\n6/5/1982,0\\r\\n6/6/1982,1.6\\r\\n6/7/1982,2.6\\r\\n6/8/1982,5.7\\r\\n6/9/1982,2.3\\r\\n6/10/1982,4.5\\r\\n6/11/1982,8.2\\r\\n6/12/1982,6.9\\r\\n6/13/1982,7.3\\r\\n6/14/1982,6\\r\\n6/15/1982,7.3\\r\\n6/16/1982,7.6\\r\\n6/17/1982,8\\r\\n6/18/1982,8\\r\\n6/19/1982,6.8\\r\\n6/20/1982,7.3\\r\\n6/21/1982,6.2\\r\\n6/22/1982,6.9\\r\\n6/23/1982,8.9\\r\\n6/24/1982,4\\r\\n6/25/1982,1.3\\r\\n6/26/1982,0.8\\r\\n6/27/1982,4.3\\r\\n6/28/1982,7.3\\r\\n6/29/1982,7.7\\r\\n6/30/1982,9\\r\\n7/1/1982,4.2\\r\\n7/2/1982,1.6\\r\\n7/3/1982,2.6\\r\\n7/4/1982,3.4\\r\\n7/5/1982,3.9\\r\\n7/6/1982,7\\r\\n7/7/1982,7.8\\r\\n7/8/1982,5.3\\r\\n7/9/1982,2.4\\r\\n7/10/1982,2.8\\r\\n7/11/1982,4\\r\\n7/12/1982,7.5\\r\\n7/13/1982,7.8\\r\\n7/14/1982,5.6\\r\\n7/15/1982,3.3\\r\\n7/16/1982,5\\r\\n7/17/1982,3.7\\r\\n7/18/1982,3.9\\r\\n7/19/1982,5.2\\r\\n7/20/1982,0.2\\r\\n7/21/1982,0.8\\r\\n7/22/1982,0.9\\r\\n7/23/1982,3.5\\r\\n7/24/1982,6.6\\r\\n7/25/1982,9.5\\r\\n7/26/1982,9\\r\\n7/27/1982,3.5\\r\\n7/28/1982,4.5\\r\\n7/29/1982,5.7\\r\\n7/30/1982,5.6\\r\\n7/31/1982,7.1\\r\\n8/1/1982,9.7\\r\\n8/2/1982,8.3\\r\\n8/3/1982,9.1\\r\\n8/4/1982,2.8\\r\\n8/5/1982,2.2\\r\\n8/6/1982,4.5\\r\\n8/7/1982,3.8\\r\\n8/8/1982,3.8\\r\\n8/9/1982,6.2\\r\\n8/10/1982,11.5\\r\\n8/11/1982,10.2\\r\\n8/12/1982,7.9\\r\\n8/13/1982,9\\r\\n8/14/1982,9.5\\r\\n8/15/1982,6\\r\\n8/16/1982,8.2\\r\\n8/17/1982,9.2\\r\\n8/18/1982,4.3\\r\\n8/19/1982,6.6\\r\\n8/20/1982,9.4\\r\\n8/21/1982,13.2\\r\\n8/22/1982,6.6\\r\\n8/23/1982,5.1\\r\\n8/24/1982,12.1\\r\\n8/25/1982,11.2\\r\\n8/26/1982,8.5\\r\\n8/27/1982,4.6\\r\\n8/28/1982,7\\r\\n8/29/1982,14.2\\r\\n8/30/1982,12.7\\r\\n8/31/1982,7.6\\r\\n9/1/1982,4\\r\\n9/2/1982,10\\r\\n9/3/1982,10.5\\r\\n9/4/1982,5\\r\\n9/5/1982,4.5\\r\\n9/6/1982,8.2\\r\\n9/7/1982,4.3\\r\\n9/8/1982,9.8\\r\\n9/9/1982,5.8\\r\\n9/10/1982,5\\r\\n9/11/1982,8.5\\r\\n9/12/1982,9\\r\\n9/13/1982,3.6\\r\\n9/14/1982,6.7\\r\\n9/15/1982,6.7\\r\\n9/16/1982,10.1\\r\\n9/17/1982,15\\r\\n9/18/1982,8.9\\r\\n9/19/1982,5.7\\r\\n9/20/1982,4.2\\r\\n9/21/1982,4\\r\\n9/22/1982,5.3\\r\\n9/23/1982,6.3\\r\\n9/24/1982,8.5\\r\\n9/25/1982,11.5\\r\\n9/26/1982,7.7\\r\\n9/27/1982,9.2\\r\\n9/28/1982,7.8\\r\\n9/29/1982,6.3\\r\\n9/30/1982,6.3\\r\\n10/1/1982,8.6\\r\\n10/2/1982,6.1\\r\\n10/3/1982,13.2\\r\\n10/4/1982,9.9\\r\\n10/5/1982,4.7\\r\\n10/6/1982,5.8\\r\\n10/7/1982,14.9\\r\\n10/8/1982,10.7\\r\\n10/9/1982,8.6\\r\\n10/10/1982,9.4\\r\\n10/11/1982,5.7\\r\\n10/12/1982,10.9\\r\\n10/13/1982,13.1\\r\\n10/14/1982,10.4\\r\\n10/15/1982,8.2\\r\\n10/16/1982,9.8\\r\\n10/17/1982,7.5\\r\\n10/18/1982,5.8\\r\\n10/19/1982,9.8\\r\\n10/20/1982,7.9\\r\\n10/21/1982,8.7\\r\\n10/22/1982,10\\r\\n10/23/1982,10.6\\r\\n10/24/1982,8\\r\\n10/25/1982,10.2\\r\\n10/26/1982,15.1\\r\\n10/27/1982,13.9\\r\\n10/28/1982,9.2\\r\\n10/29/1982,9\\r\\n10/30/1982,13.2\\r\\n10/31/1982,7\\r\\n11/1/1982,10.6\\r\\n11/2/1982,6.9\\r\\n11/3/1982,9.5\\r\\n11/4/1982,12.5\\r\\n11/5/1982,13.6\\r\\n11/6/1982,17.7\\r\\n11/7/1982,16\\r\\n11/8/1982,11.3\\r\\n11/9/1982,10.5\\r\\n11/10/1982,14.4\\r\\n11/11/1982,10.3\\r\\n11/12/1982,9\\r\\n11/13/1982,11.1\\r\\n11/14/1982,14.5\\r\\n11/15/1982,18\\r\\n11/16/1982,12.8\\r\\n11/17/1982,10.7\\r\\n11/18/1982,9.1\\r\\n11/19/1982,8.7\\r\\n11/20/1982,12.4\\r\\n11/21/1982,12.6\\r\\n11/22/1982,10.3\\r\\n11/23/1982,13.7\\r\\n11/24/1982,16\\r\\n11/25/1982,15.8\\r\\n11/26/1982,12.1\\r\\n11/27/1982,12.5\\r\\n11/28/1982,12.2\\r\\n11/29/1982,13.7\\r\\n11/30/1982,16.1\\r\\n12/1/1982,15.5\\r\\n12/2/1982,10.3\\r\\n12/3/1982,10.5\\r\\n12/4/1982,11\\r\\n12/5/1982,11.9\\r\\n12/6/1982,13\\r\\n12/7/1982,12.2\\r\\n12/8/1982,10.6\\r\\n12/9/1982,13\\r\\n12/10/1982,13\\r\\n12/11/1982,12.2\\r\\n12/12/1982,12.6\\r\\n12/13/1982,18.7\\r\\n12/14/1982,15.2\\r\\n12/15/1982,15.3\\r\\n12/16/1982,13.9\\r\\n12/17/1982,15.8\\r\\n12/18/1982,13\\r\\n12/19/1982,13\\r\\n12/20/1982,13.7\\r\\n12/21/1982,12\\r\\n12/22/1982,10.8\\r\\n12/23/1982,15.6\\r\\n12/24/1982,15.3\\r\\n12/25/1982,13.9\\r\\n12/26/1982,13\\r\\n12/27/1982,15.3\\r\\n12/28/1982,16.3\\r\\n12/29/1982,15.8\\r\\n12/30/1982,17.7\\r\\n12/31/1982,16.3\\r\\n1/1/1983,18.4\\r\\n1/2/1983,15\\r\\n1/3/1983,10.9\\r\\n1/4/1983,11.4\\r\\n1/5/1983,14.8\\r\\n1/6/1983,12.1\\r\\n1/7/1983,12.8\\r\\n1/8/1983,16.2\\r\\n1/9/1983,15.5\\r\\n1/10/1983,13\\r\\n1/11/1983,10.5\\r\\n1/12/1983,9.1\\r\\n1/13/1983,10.5\\r\\n1/14/1983,11.8\\r\\n1/15/1983,12.7\\r\\n1/16/1983,12.7\\r\\n1/17/1983,11.5\\r\\n1/18/1983,13.8\\r\\n1/19/1983,13.3\\r\\n1/20/1983,11.6\\r\\n1/21/1983,15.4\\r\\n1/22/1983,12.4\\r\\n1/23/1983,16.9\\r\\n1/24/1983,14.7\\r\\n1/25/1983,10.6\\r\\n1/26/1983,15.6\\r\\n1/27/1983,10.7\\r\\n1/28/1983,12.6\\r\\n1/29/1983,13.8\\r\\n1/30/1983,14.3\\r\\n1/31/1983,14\\r\\n2/1/1983,18.1\\r\\n2/2/1983,17.3\\r\\n2/3/1983,13\\r\\n2/4/1983,16\\r\\n2/5/1983,14.9\\r\\n2/6/1983,16.2\\r\\n2/7/1983,20.3\\r\\n2/8/1983,22.5\\r\\n2/9/1983,17.2\\r\\n2/10/1983,15.9\\r\\n2/11/1983,16.8\\r\\n2/12/1983,13.8\\r\\n2/13/1983,12.8\\r\\n2/14/1983,14\\r\\n2/15/1983,17.5\\r\\n2/16/1983,21.5\\r\\n2/17/1983,16.8\\r\\n2/18/1983,13.6\\r\\n2/19/1983,14.5\\r\\n2/20/1983,14.2\\r\\n2/21/1983,15.7\\r\\n2/22/1983,19.7\\r\\n2/23/1983,17.4\\r\\n2/24/1983,14.4\\r\\n2/25/1983,16.9\\r\\n2/26/1983,19.1\\r\\n2/27/1983,20.4\\r\\n2/28/1983,20.1\\r\\n3/1/1983,19.9\\r\\n3/2/1983,22\\r\\n3/3/1983,20.5\\r\\n3/4/1983,22.1\\r\\n3/5/1983,20.6\\r\\n3/6/1983,15\\r\\n3/7/1983,20.6\\r\\n3/8/1983,21.5\\r\\n3/9/1983,16.2\\r\\n3/10/1983,14.1\\r\\n3/11/1983,14.5\\r\\n3/12/1983,21.1\\r\\n3/13/1983,15.9\\r\\n3/14/1983,15.2\\r\\n3/15/1983,13.1\\r\\n3/16/1983,13.2\\r\\n3/17/1983,12.5\\r\\n3/18/1983,15.2\\r\\n3/19/1983,17.6\\r\\n3/20/1983,15.5\\r\\n3/21/1983,16.7\\r\\n3/22/1983,16.3\\r\\n3/23/1983,15.1\\r\\n3/24/1983,12.7\\r\\n3/25/1983,10\\r\\n3/26/1983,11.4\\r\\n3/27/1983,12.6\\r\\n3/28/1983,10.7\\r\\n3/29/1983,10\\r\\n3/30/1983,13.9\\r\\n3/31/1983,13.4\\r\\n4/1/1983,12.5\\r\\n4/2/1983,12.8\\r\\n4/3/1983,7.8\\r\\n4/4/1983,11.1\\r\\n4/5/1983,10.7\\r\\n4/6/1983,7.1\\r\\n4/7/1983,6.7\\r\\n4/8/1983,5.7\\r\\n4/9/1983,9.1\\r\\n4/10/1983,15.2\\r\\n4/11/1983,15.5\\r\\n4/12/1983,11.1\\r\\n4/13/1983,11.7\\r\\n4/14/1983,11.5\\r\\n4/15/1983,9.8\\r\\n4/16/1983,6.2\\r\\n4/17/1983,6.7\\r\\n4/18/1983,7.5\\r\\n4/19/1983,8.8\\r\\n4/20/1983,8\\r\\n4/21/1983,10.4\\r\\n4/22/1983,14.5\\r\\n4/23/1983,16.5\\r\\n4/24/1983,14.1\\r\\n4/25/1983,10.5\\r\\n4/26/1983,12.6\\r\\n4/27/1983,13\\r\\n4/28/1983,8.7\\r\\n4/29/1983,10.1\\r\\n4/30/1983,12\\r\\n5/1/1983,12.5\\r\\n5/2/1983,13.5\\r\\n5/3/1983,13.7\\r\\n5/4/1983,13.5\\r\\n5/5/1983,10.7\\r\\n5/6/1983,13\\r\\n5/7/1983,11.6\\r\\n5/8/1983,13\\r\\n5/9/1983,11.2\\r\\n5/10/1983,13.5\\r\\n5/11/1983,12.9\\r\\n5/12/1983,6.8\\r\\n5/13/1983,10\\r\\n5/14/1983,14.5\\r\\n5/15/1983,11.7\\r\\n5/16/1983,6.7\\r\\n5/17/1983,4.6\\r\\n5/18/1983,4.9\\r\\n5/19/1983,7.4\\r\\n5/20/1983,8.3\\r\\n5/21/1983,7.5\\r\\n5/22/1983,6.2\\r\\n5/23/1983,7.8\\r\\n5/24/1983,13.2\\r\\n5/25/1983,11.9\\r\\n5/26/1983,6.5\\r\\n5/27/1983,8.3\\r\\n5/28/1983,12.1\\r\\n5/29/1983,9.3\\r\\n5/30/1983,7.5\\r\\n5/31/1983,9.3\\r\\n6/1/1983,11\\r\\n6/2/1983,10.8\\r\\n6/3/1983,5.3\\r\\n6/4/1983,7.6\\r\\n6/5/1983,5.6\\r\\n6/6/1983,7.2\\r\\n6/7/1983,9.6\\r\\n6/8/1983,7\\r\\n6/9/1983,8.3\\r\\n6/10/1983,7.8\\r\\n6/11/1983,4.7\\r\\n6/12/1983,6.8\\r\\n6/13/1983,7.2\\r\\n6/14/1983,8.3\\r\\n6/15/1983,9.5\\r\\n6/16/1983,4.7\\r\\n6/17/1983,3\\r\\n6/18/1983,1.5\\r\\n6/19/1983,2.5\\r\\n6/20/1983,6.2\\r\\n6/21/1983,11.6\\r\\n6/22/1983,6.6\\r\\n6/23/1983,6.6\\r\\n6/24/1983,8\\r\\n6/25/1983,7.9\\r\\n6/26/1983,3.3\\r\\n6/27/1983,3.9\\r\\n6/28/1983,6\\r\\n6/29/1983,4\\r\\n6/30/1983,5.5\\r\\n7/1/1983,8.5\\r\\n7/2/1983,9.8\\r\\n7/3/1983,9.5\\r\\n7/4/1983,7.2\\r\\n7/5/1983,8.1\\r\\n7/6/1983,8\\r\\n7/7/1983,8.5\\r\\n7/8/1983,8.8\\r\\n7/9/1983,8.3\\r\\n7/10/1983,2.4\\r\\n7/11/1983,4.9\\r\\n7/12/1983,5.9\\r\\n7/13/1983,6.7\\r\\n7/14/1983,8.4\\r\\n7/15/1983,6.5\\r\\n7/16/1983,7.9\\r\\n7/17/1983,4.1\\r\\n7/18/1983,5.4\\r\\n7/19/1983,7.5\\r\\n7/20/1983,3.9\\r\\n7/21/1983,2.5\\r\\n7/22/1983,5.3\\r\\n7/23/1983,6.6\\r\\n7/24/1983,0\\r\\n7/25/1983,0.7\\r\\n7/26/1983,7.6\\r\\n7/27/1983,12.3\\r\\n7/28/1983,9.2\\r\\n7/29/1983,9.6\\r\\n7/30/1983,9.5\\r\\n7/31/1983,10\\r\\n8/1/1983,7.7\\r\\n8/2/1983,8\\r\\n8/3/1983,8.3\\r\\n8/4/1983,8.3\\r\\n8/5/1983,4.5\\r\\n8/6/1983,6.5\\r\\n8/7/1983,9.4\\r\\n8/8/1983,9.4\\r\\n8/9/1983,10.5\\r\\n8/10/1983,10.7\\r\\n8/11/1983,9.9\\r\\n8/12/1983,7.6\\r\\n8/13/1983,5.8\\r\\n8/14/1983,8.5\\r\\n8/15/1983,13.8\\r\\n8/16/1983,14.3\\r\\n8/17/1983,8.3\\r\\n8/18/1983,5.3\\r\\n8/19/1983,3\\r\\n8/20/1983,5.2\\r\\n8/21/1983,10.3\\r\\n8/22/1983,11.1\\r\\n8/23/1983,10.5\\r\\n8/24/1983,9\\r\\n8/25/1983,13\\r\\n8/26/1983,6.4\\r\\n8/27/1983,8.4\\r\\n8/28/1983,6.7\\r\\n8/29/1983,8.3\\r\\n8/30/1983,11.2\\r\\n8/31/1983,10\\r\\n9/1/1983,10.1\\r\\n9/2/1983,10.6\\r\\n9/3/1983,10.9\\r\\n9/4/1983,5.7\\r\\n9/5/1983,9.5\\r\\n9/6/1983,10.4\\r\\n9/7/1983,11.1\\r\\n9/8/1983,12.2\\r\\n9/9/1983,10.6\\r\\n9/10/1983,8.8\\r\\n9/11/1983,9.2\\r\\n9/12/1983,5.5\\r\\n9/13/1983,7.1\\r\\n9/14/1983,6.5\\r\\n9/15/1983,4.3\\r\\n9/16/1983,5\\r\\n9/17/1983,11.2\\r\\n9/18/1983,7.5\\r\\n9/19/1983,12\\r\\n9/20/1983,13.6\\r\\n9/21/1983,8.3\\r\\n9/22/1983,8.5\\r\\n9/23/1983,12.9\\r\\n9/24/1983,7.7\\r\\n9/25/1983,7.6\\r\\n9/26/1983,3.5\\r\\n9/27/1983,10.4\\r\\n9/28/1983,15.4\\r\\n9/29/1983,10.6\\r\\n9/30/1983,9.6\\r\\n10/1/1983,9.3\\r\\n10/2/1983,13.9\\r\\n10/3/1983,7.7\\r\\n10/4/1983,9.5\\r\\n10/5/1983,7.6\\r\\n10/6/1983,6.9\\r\\n10/7/1983,6.8\\r\\n10/8/1983,5.8\\r\\n10/9/1983,6\\r\\n10/10/1983,8.3\\r\\n10/11/1983,9.1\\r\\n10/12/1983,12.5\\r\\n10/13/1983,13.2\\r\\n10/14/1983,16.2\\r\\n10/15/1983,12.5\\r\\n10/16/1983,11.8\\r\\n10/17/1983,10.6\\r\\n10/18/1983,10\\r\\n10/19/1983,12.2\\r\\n10/20/1983,8.9\\r\\n10/21/1983,10.3\\r\\n10/22/1983,7.5\\r\\n10/23/1983,11.6\\r\\n10/24/1983,12.6\\r\\n10/25/1983,12.9\\r\\n10/26/1983,11.7\\r\\n10/27/1983,14\\r\\n10/28/1983,12.3\\r\\n10/29/1983,9\\r\\n10/30/1983,9.2\\r\\n10/31/1983,9.8\\r\\n11/1/1983,11.8\\r\\n11/2/1983,10.6\\r\\n11/3/1983,12.6\\r\\n11/4/1983,11\\r\\n11/5/1983,8.2\\r\\n11/6/1983,7.5\\r\\n11/7/1983,13.6\\r\\n11/8/1983,14.8\\r\\n11/9/1983,10.9\\r\\n11/10/1983,7.7\\r\\n11/11/1983,10.2\\r\\n11/12/1983,10.8\\r\\n11/13/1983,10.8\\r\\n11/14/1983,12.5\\r\\n11/15/1983,13.2\\r\\n11/16/1983,8.7\\r\\n11/17/1983,5.7\\r\\n11/18/1983,9.8\\r\\n11/19/1983,7.3\\r\\n11/20/1983,10.8\\r\\n11/21/1983,10\\r\\n11/22/1983,16.2\\r\\n11/23/1983,15\\r\\n11/24/1983,14.5\\r\\n11/25/1983,15.9\\r\\n11/26/1983,14.9\\r\\n11/27/1983,14.2\\r\\n11/28/1983,15.8\\r\\n11/29/1983,17.2\\r\\n11/30/1983,17.6\\r\\n12/1/1983,12.1\\r\\n12/2/1983,11.4\\r\\n12/3/1983,13\\r\\n12/4/1983,13.2\\r\\n12/5/1983,12\\r\\n12/6/1983,15.3\\r\\n12/7/1983,12.7\\r\\n12/8/1983,12.1\\r\\n12/9/1983,13.8\\r\\n12/10/1983,10.9\\r\\n12/11/1983,12\\r\\n12/12/1983,16.5\\r\\n12/13/1983,15\\r\\n12/14/1983,11.2\\r\\n12/15/1983,13.9\\r\\n12/16/1983,15\\r\\n12/17/1983,14.8\\r\\n12/18/1983,15\\r\\n12/19/1983,13.3\\r\\n12/20/1983,20.4\\r\\n12/21/1983,18\\r\\n12/22/1983,12.2\\r\\n12/23/1983,16.7\\r\\n12/24/1983,13.8\\r\\n12/25/1983,17.5\\r\\n12/26/1983,15\\r\\n12/27/1983,13.9\\r\\n12/28/1983,11.1\\r\\n12/29/1983,16.1\\r\\n12/30/1983,20.4\\r\\n12/31/1983,18\\r\\n1/1/1984,19.5\\r\\n1/2/1984,17.1\\r\\n1/3/1984,17.1\\r\\n1/4/1984,12\\r\\n1/5/1984,11\\r\\n1/6/1984,16.3\\r\\n1/7/1984,16.1\\r\\n1/8/1984,13\\r\\n1/9/1984,13.4\\r\\n1/10/1984,15.2\\r\\n1/11/1984,12.5\\r\\n1/12/1984,14.3\\r\\n1/13/1984,16.5\\r\\n1/14/1984,18.6\\r\\n1/15/1984,18\\r\\n1/16/1984,18.2\\r\\n1/17/1984,11.4\\r\\n1/18/1984,11.9\\r\\n1/19/1984,12.2\\r\\n1/20/1984,14.8\\r\\n1/21/1984,13.1\\r\\n1/22/1984,12.7\\r\\n1/23/1984,10.5\\r\\n1/24/1984,13.8\\r\\n1/25/1984,18.8\\r\\n1/26/1984,13.9\\r\\n1/27/1984,11.2\\r\\n1/28/1984,10.6\\r\\n1/29/1984,14.7\\r\\n1/30/1984,13.1\\r\\n1/31/1984,12.1\\r\\n2/1/1984,14.7\\r\\n2/2/1984,11.1\\r\\n2/3/1984,13\\r\\n2/4/1984,15.6\\r\\n2/5/1984,14.2\\r\\n2/6/1984,15.5\\r\\n2/7/1984,18\\r\\n2/8/1984,15\\r\\n2/9/1984,15.9\\r\\n2/10/1984,15.5\\r\\n2/11/1984,15.8\\r\\n2/12/1984,16.6\\r\\n2/13/1984,13.6\\r\\n2/14/1984,13.8\\r\\n2/15/1984,14.6\\r\\n2/16/1984,15.6\\r\\n2/17/1984,16.6\\r\\n2/18/1984,14.3\\r\\n2/19/1984,16.3\\r\\n2/20/1984,18.9\\r\\n2/21/1984,18.7\\r\\n2/22/1984,14.5\\r\\n2/23/1984,16.5\\r\\n2/24/1984,14.1\\r\\n2/25/1984,13.5\\r\\n2/26/1984,11.7\\r\\n2/27/1984,15.1\\r\\n2/28/1984,11.2\\r\\n2/29/1984,13.5\\r\\n3/1/1984,12.6\\r\\n3/2/1984,8.8\\r\\n3/3/1984,10.5\\r\\n3/4/1984,12.1\\r\\n3/5/1984,14.5\\r\\n3/6/1984,19.5\\r\\n3/7/1984,14\\r\\n3/8/1984,13.8\\r\\n3/9/1984,10.5\\r\\n3/10/1984,13.8\\r\\n3/11/1984,11.4\\r\\n3/12/1984,15.6\\r\\n3/13/1984,11.1\\r\\n3/14/1984,12.1\\r\\n3/15/1984,14.2\\r\\n3/16/1984,10.9\\r\\n3/17/1984,14.2\\r\\n3/18/1984,13.8\\r\\n3/19/1984,15.1\\r\\n3/20/1984,14\\r\\n3/21/1984,12.1\\r\\n3/22/1984,13.8\\r\\n3/23/1984,16.6\\r\\n3/24/1984,17.8\\r\\n3/25/1984,9.4\\r\\n3/26/1984,10.2\\r\\n3/27/1984,7.4\\r\\n3/28/1984,8.7\\r\\n3/29/1984,14\\r\\n3/30/1984,15.3\\r\\n3/31/1984,11.1\\r\\n4/1/1984,9.7\\r\\n4/2/1984,10.3\\r\\n4/3/1984,9.2\\r\\n4/4/1984,8.2\\r\\n4/5/1984,9.7\\r\\n4/6/1984,12.4\\r\\n4/7/1984,12.5\\r\\n4/8/1984,9\\r\\n4/9/1984,9.7\\r\\n4/10/1984,10.1\\r\\n4/11/1984,11.2\\r\\n4/12/1984,12\\r\\n4/13/1984,11.1\\r\\n4/14/1984,10.8\\r\\n4/15/1984,12.8\\r\\n4/16/1984,9.8\\r\\n4/17/1984,13.7\\r\\n4/18/1984,11\\r\\n4/19/1984,13.2\\r\\n4/20/1984,13\\r\\n4/21/1984,10.2\\r\\n4/22/1984,13.2\\r\\n4/23/1984,9.3\\r\\n4/24/1984,11.1\\r\\n4/25/1984,10.3\\r\\n4/26/1984,8.7\\r\\n4/27/1984,11.7\\r\\n4/28/1984,12.5\\r\\n4/29/1984,6.5\\r\\n4/30/1984,9.6\\r\\n5/1/1984,13.8\\r\\n5/2/1984,14.7\\r\\n5/3/1984,9.1\\r\\n5/4/1984,4.8\\r\\n5/5/1984,3.3\\r\\n5/6/1984,3.5\\r\\n5/7/1984,5.7\\r\\n5/8/1984,5.5\\r\\n5/9/1984,7\\r\\n5/10/1984,9.5\\r\\n5/11/1984,9.9\\r\\n5/12/1984,4.9\\r\\n5/13/1984,6.3\\r\\n5/14/1984,4.8\\r\\n5/15/1984,6.2\\r\\n5/16/1984,7.1\\r\\n5/17/1984,7.5\\r\\n5/18/1984,9.4\\r\\n5/19/1984,8.7\\r\\n5/20/1984,9.5\\r\\n5/21/1984,12.1\\r\\n5/22/1984,9.5\\r\\n5/23/1984,9.3\\r\\n5/24/1984,8.5\\r\\n5/25/1984,8\\r\\n5/26/1984,9.8\\r\\n5/27/1984,6.2\\r\\n5/28/1984,7.3\\r\\n5/29/1984,10.9\\r\\n5/30/1984,10\\r\\n5/31/1984,8.7\\r\\n6/1/1984,9\\r\\n6/2/1984,10.8\\r\\n6/3/1984,12.4\\r\\n6/4/1984,7.2\\r\\n6/5/1984,7.2\\r\\n6/6/1984,11.1\\r\\n6/7/1984,9.3\\r\\n6/8/1984,10.1\\r\\n6/9/1984,3.9\\r\\n6/10/1984,5\\r\\n6/11/1984,8.2\\r\\n6/12/1984,2.8\\r\\n6/13/1984,4.3\\r\\n6/14/1984,8.1\\r\\n6/15/1984,11.1\\r\\n6/16/1984,4.7\\r\\n6/17/1984,5.3\\r\\n6/18/1984,10\\r\\n6/19/1984,5.6\\r\\n6/20/1984,2.2\\r\\n6/21/1984,7.1\\r\\n6/22/1984,8.3\\r\\n6/23/1984,8.6\\r\\n6/24/1984,10.1\\r\\n6/25/1984,8.3\\r\\n6/26/1984,7.2\\r\\n6/27/1984,7.7\\r\\n6/28/1984,7.8\\r\\n6/29/1984,9.1\\r\\n6/30/1984,9.4\\r\\n7/1/1984,7.8\\r\\n7/2/1984,2.6\\r\\n7/3/1984,2.4\\r\\n7/4/1984,3.9\\r\\n7/5/1984,1.3\\r\\n7/6/1984,2.1\\r\\n7/7/1984,7.4\\r\\n7/8/1984,7.2\\r\\n7/9/1984,8.8\\r\\n7/10/1984,8.9\\r\\n7/11/1984,8.8\\r\\n7/12/1984,8\\r\\n7/13/1984,0.7\\r\\n7/14/1984,0.1\\r\\n7/15/1984,0.9\\r\\n7/16/1984,7.8\\r\\n7/17/1984,7.2\\r\\n7/18/1984,8\\r\\n7/19/1984,4.6\\r\\n7/20/1984,5.2\\r\\n7/21/1984,5.8\\r\\n7/22/1984,6.8\\r\\n7/23/1984,8.1\\r\\n7/24/1984,7.5\\r\\n7/25/1984,5.4\\r\\n7/26/1984,4.6\\r\\n7/27/1984,6.4\\r\\n7/28/1984,9.7\\r\\n7/29/1984,7\\r\\n7/30/1984,10\\r\\n7/31/1984,10.6\\r\\n8/1/1984,11.5\\r\\n8/2/1984,10.2\\r\\n8/3/1984,11.1\\r\\n8/4/1984,11\\r\\n8/5/1984,8.9\\r\\n8/6/1984,9.9\\r\\n8/7/1984,11.7\\r\\n8/8/1984,11.6\\r\\n8/9/1984,9\\r\\n8/10/1984,6.3\\r\\n8/11/1984,8.7\\r\\n8/12/1984,8.5\\r\\n8/13/1984,8.5\\r\\n8/14/1984,8\\r\\n8/15/1984,6\\r\\n8/16/1984,8\\r\\n8/17/1984,8.5\\r\\n8/18/1984,7.7\\r\\n8/19/1984,8.4\\r\\n8/20/1984,9\\r\\n8/21/1984,8.3\\r\\n8/22/1984,6.8\\r\\n8/23/1984,9.3\\r\\n8/24/1984,6.7\\r\\n8/25/1984,9\\r\\n8/26/1984,7.3\\r\\n8/27/1984,6.3\\r\\n8/28/1984,7.9\\r\\n8/29/1984,5.2\\r\\n8/30/1984,9\\r\\n8/31/1984,11.3\\r\\n9/1/1984,9.2\\r\\n9/2/1984,11.3\\r\\n9/3/1984,7\\r\\n9/4/1984,8\\r\\n9/5/1984,4.6\\r\\n9/6/1984,8.5\\r\\n9/7/1984,9.5\\r\\n9/8/1984,9.4\\r\\n9/9/1984,10.5\\r\\n9/10/1984,9.7\\r\\n9/11/1984,4.9\\r\\n9/12/1984,8\\r\\n9/13/1984,5.8\\r\\n9/14/1984,5.5\\r\\n9/15/1984,10.9\\r\\n9/16/1984,11.7\\r\\n9/17/1984,9.2\\r\\n9/18/1984,8.9\\r\\n9/19/1984,11.3\\r\\n9/20/1984,8.6\\r\\n9/21/1984,6.2\\r\\n9/22/1984,6.6\\r\\n9/23/1984,9.1\\r\\n9/24/1984,6.1\\r\\n9/25/1984,7.5\\r\\n9/26/1984,10.7\\r\\n9/27/1984,6.3\\r\\n9/28/1984,5.5\\r\\n9/29/1984,6.7\\r\\n9/30/1984,4.2\\r\\n10/1/1984,11.3\\r\\n10/2/1984,16.3\\r\\n10/3/1984,10.5\\r\\n10/4/1984,10.3\\r\\n10/5/1984,7.9\\r\\n10/6/1984,7.7\\r\\n10/7/1984,16\\r\\n10/8/1984,14.6\\r\\n10/9/1984,12.5\\r\\n10/10/1984,8.1\\r\\n10/11/1984,12.2\\r\\n10/12/1984,17.2\\r\\n10/13/1984,9.4\\r\\n10/14/1984,8.7\\r\\n10/15/1984,5.9\\r\\n10/16/1984,4.8\\r\\n10/17/1984,7.4\\r\\n10/18/1984,9.4\\r\\n10/19/1984,9.7\\r\\n10/20/1984,9.9\\r\\n10/21/1984,6.5\\r\\n10/22/1984,9.8\\r\\n10/23/1984,18.2\\r\\n10/24/1984,11.3\\r\\n10/25/1984,9.1\\r\\n10/26/1984,9.6\\r\\n10/27/1984,13.5\\r\\n10/28/1984,10.7\\r\\n10/29/1984,10\\r\\n10/30/1984,8.5\\r\\n10/31/1984,12.6\\r\\n11/1/1984,16.6\\r\\n11/2/1984,11.6\\r\\n11/3/1984,12.2\\r\\n11/4/1984,11.2\\r\\n11/5/1984,9.2\\r\\n11/6/1984,9.9\\r\\n11/7/1984,11.9\\r\\n11/8/1984,15.6\\r\\n11/9/1984,19\\r\\n11/10/1984,12.8\\r\\n11/11/1984,12.2\\r\\n11/12/1984,12\\r\\n11/13/1984,11.1\\r\\n11/14/1984,11.8\\r\\n11/15/1984,7.6\\r\\n11/16/1984,13\\r\\n11/17/1984,12.7\\r\\n11/18/1984,16\\r\\n11/19/1984,14.8\\r\\n11/20/1984,14.2\\r\\n11/21/1984,10\\r\\n11/22/1984,8.8\\r\\n11/23/1984,11.6\\r\\n11/24/1984,8.6\\r\\n11/25/1984,14.6\\r\\n11/26/1984,24.3\\r\\n11/27/1984,11.6\\r\\n11/28/1984,10.8\\r\\n11/29/1984,12\\r\\n11/30/1984,11\\r\\n12/1/1984,12.6\\r\\n12/2/1984,10.8\\r\\n12/3/1984,9.1\\r\\n12/4/1984,11\\r\\n12/5/1984,13\\r\\n12/6/1984,12.8\\r\\n12/7/1984,9.9\\r\\n12/8/1984,11.6\\r\\n12/9/1984,10.5\\r\\n12/10/1984,15.9\\r\\n12/11/1984,12.2\\r\\n12/12/1984,13\\r\\n12/13/1984,12.5\\r\\n12/14/1984,12.5\\r\\n12/15/1984,11.4\\r\\n12/16/1984,12.1\\r\\n12/17/1984,16.8\\r\\n12/18/1984,12.1\\r\\n12/19/1984,11.3\\r\\n12/20/1984,10.4\\r\\n12/21/1984,14.2\\r\\n12/22/1984,11.4\\r\\n12/23/1984,13.7\\r\\n12/24/1984,16.5\\r\\n12/25/1984,12.8\\r\\n12/26/1984,12.2\\r\\n12/27/1984,12\\r\\n12/28/1984,12.6\\r\\n12/29/1984,16\\r\\n12/30/1984,16.4\\r\\n1/1/1985,13.3\\r\\n1/2/1985,15.2\\r\\n1/3/1985,13.1\\r\\n1/4/1985,12.7\\r\\n1/5/1985,14.6\\r\\n1/6/1985,11\\r\\n1/7/1985,13.2\\r\\n1/8/1985,12.2\\r\\n1/9/1985,14.4\\r\\n1/10/1985,13.7\\r\\n1/11/1985,14.5\\r\\n1/12/1985,14.1\\r\\n1/13/1985,14.4\\r\\n1/14/1985,19.7\\r\\n1/15/1985,16.5\\r\\n1/16/1985,15.9\\r\\n1/17/1985,11.8\\r\\n1/18/1985,12\\r\\n1/19/1985,11.4\\r\\n1/20/1985,14.4\\r\\n1/21/1985,12.4\\r\\n1/22/1985,15.1\\r\\n1/23/1985,15.6\\r\\n1/24/1985,15.2\\r\\n1/25/1985,12.8\\r\\n1/26/1985,13.3\\r\\n1/27/1985,17.5\\r\\n1/28/1985,15.4\\r\\n1/29/1985,13.5\\r\\n1/30/1985,16.7\\r\\n1/31/1985,15.2\\r\\n2/1/1985,14.9\\r\\n2/2/1985,10.2\\r\\n2/3/1985,13.6\\r\\n2/4/1985,19\\r\\n2/5/1985,15.7\\r\\n2/6/1985,18\\r\\n2/7/1985,14.8\\r\\n2/8/1985,13.9\\r\\n2/9/1985,13\\r\\n2/10/1985,15.3\\r\\n2/11/1985,14.3\\r\\n2/12/1985,15.6\\r\\n2/13/1985,16\\r\\n2/14/1985,14.9\\r\\n2/15/1985,11.1\\r\\n2/16/1985,14.8\\r\\n2/17/1985,13\\r\\n2/18/1985,12.2\\r\\n2/19/1985,10.9\\r\\n2/20/1985,14.6\\r\\n2/21/1985,16.6\\r\\n2/22/1985,18.1\\r\\n2/23/1985,13.4\\r\\n2/24/1985,10.3\\r\\n2/25/1985,13.6\\r\\n2/26/1985,13.8\\r\\n2/27/1985,10.3\\r\\n2/28/1985,11\\r\\n3/1/1985,14.3\\r\\n3/2/1985,15.5\\r\\n3/3/1985,14.7\\r\\n3/4/1985,12.7\\r\\n3/5/1985,10.7\\r\\n3/6/1985,12.6\\r\\n3/7/1985,9.8\\r\\n3/8/1985,13.2\\r\\n3/9/1985,15.2\\r\\n3/10/1985,16.6\\r\\n3/11/1985,21\\r\\n3/12/1985,22.4\\r\\n3/13/1985,17\\r\\n3/14/1985,21.7\\r\\n3/15/1985,21.4\\r\\n3/16/1985,18.6\\r\\n3/17/1985,16.2\\r\\n3/18/1985,16.8\\r\\n3/19/1985,17\\r\\n3/20/1985,18.4\\r\\n3/21/1985,17.2\\r\\n3/22/1985,18.4\\r\\n3/23/1985,18.8\\r\\n3/24/1985,16.5\\r\\n3/25/1985,13.3\\r\\n3/26/1985,12.2\\r\\n3/27/1985,11.3\\r\\n3/28/1985,13.8\\r\\n3/29/1985,16.6\\r\\n3/30/1985,14\\r\\n3/31/1985,14.3\\r\\n4/1/1985,16.4\\r\\n4/2/1985,11.9\\r\\n4/3/1985,15.7\\r\\n4/4/1985,17.6\\r\\n4/5/1985,17.5\\r\\n4/6/1985,15.9\\r\\n4/7/1985,16.2\\r\\n4/8/1985,16\\r\\n4/9/1985,15.9\\r\\n4/10/1985,16.2\\r\\n4/11/1985,16.2\\r\\n4/12/1985,19.5\\r\\n4/13/1985,18.2\\r\\n4/14/1985,21.8\\r\\n4/15/1985,15.1\\r\\n4/16/1985,11\\r\\n4/17/1985,8.1\\r\\n4/18/1985,9.5\\r\\n4/19/1985,9.3\\r\\n4/20/1985,10.6\\r\\n4/21/1985,6.3\\r\\n4/22/1985,8.6\\r\\n4/23/1985,6.8\\r\\n4/24/1985,8.7\\r\\n4/25/1985,8.4\\r\\n4/26/1985,9.3\\r\\n4/27/1985,10\\r\\n4/28/1985,10.5\\r\\n4/29/1985,12\\r\\n4/30/1985,10.1\\r\\n5/1/1985,9.4\\r\\n5/2/1985,10.1\\r\\n5/3/1985,8\\r\\n5/4/1985,10.6\\r\\n5/5/1985,13.6\\r\\n5/6/1985,15.4\\r\\n5/7/1985,9\\r\\n5/8/1985,10.4\\r\\n5/9/1985,11\\r\\n5/10/1985,12.1\\r\\n5/11/1985,13.4\\r\\n5/12/1985,11.3\\r\\n5/13/1985,6.7\\r\\n5/14/1985,9.8\\r\\n5/15/1985,10.8\\r\\n5/16/1985,7.8\\r\\n5/17/1985,4.5\\r\\n5/18/1985,7.6\\r\\n5/19/1985,6.9\\r\\n5/20/1985,7.5\\r\\n5/21/1985,8.5\\r\\n5/22/1985,5.5\\r\\n5/23/1985,9.5\\r\\n5/24/1985,7.3\\r\\n5/25/1985,5.4\\r\\n5/26/1985,5.5\\r\\n5/27/1985,8.1\\r\\n5/28/1985,11.2\\r\\n5/29/1985,13.4\\r\\n5/30/1985,11.6\\r\\n5/31/1985,10.1\\r\\n6/1/1985,4.3\\r\\n6/2/1985,5.5\\r\\n6/3/1985,4.4\\r\\n6/4/1985,5.9\\r\\n6/5/1985,5.7\\r\\n6/6/1985,8.2\\r\\n6/7/1985,8.2\\r\\n6/8/1985,4.2\\r\\n6/9/1985,6.5\\r\\n6/10/1985,10\\r\\n6/11/1985,8.8\\r\\n6/12/1985,6.6\\r\\n6/13/1985,7.8\\r\\n6/14/1985,10.1\\r\\n6/15/1985,7.1\\r\\n6/16/1985,7.7\\r\\n6/17/1985,8.5\\r\\n6/18/1985,7.3\\r\\n6/19/1985,6.9\\r\\n6/20/1985,8.4\\r\\n6/21/1985,7.1\\r\\n6/22/1985,6.3\\r\\n6/23/1985,0.6\\r\\n6/24/1985,1.6\\r\\n6/25/1985,7\\r\\n6/26/1985,8.3\\r\\n6/27/1985,8\\r\\n6/28/1985,10.2\\r\\n6/29/1985,10.6\\r\\n6/30/1985,10.4\\r\\n7/1/1985,11.6\\r\\n7/2/1985,11\\r\\n7/3/1985,10.7\\r\\n7/4/1985,7.3\\r\\n7/5/1985,4.2\\r\\n7/6/1985,4.7\\r\\n7/7/1985,5.6\\r\\n7/8/1985,7.7\\r\\n7/9/1985,7.5\\r\\n7/10/1985,4.9\\r\\n7/11/1985,5.9\\r\\n7/12/1985,7.8\\r\\n7/13/1985,5.8\\r\\n7/14/1985,7\\r\\n7/15/1985,8.4\\r\\n7/16/1985,6.2\\r\\n7/17/1985,7.5\\r\\n7/18/1985,4.8\\r\\n7/19/1985,3.3\\r\\n7/20/1985,3.2\\r\\n7/21/1985,7\\r\\n7/22/1985,8.4\\r\\n7/23/1985,0.3\\r\\n7/24/1985,0.3\\r\\n7/25/1985,2.1\\r\\n7/26/1985,8.5\\r\\n7/27/1985,1.4\\r\\n7/28/1985,4.1\\r\\n7/29/1985,10.3\\r\\n7/30/1985,6.6\\r\\n7/31/1985,6.1\\r\\n8/1/1985,7\\r\\n8/2/1985,5.1\\r\\n8/3/1985,6.3\\r\\n8/4/1985,6.9\\r\\n8/5/1985,11.4\\r\\n8/6/1985,10.4\\r\\n8/7/1985,10.3\\r\\n8/8/1985,9.2\\r\\n8/9/1985,7.2\\r\\n8/10/1985,7.5\\r\\n8/11/1985,4\\r\\n8/12/1985,5.6\\r\\n8/13/1985,6.7\\r\\n8/14/1985,8.4\\r\\n8/15/1985,11\\r\\n8/16/1985,8.4\\r\\n8/17/1985,8.8\\r\\n8/18/1985,8.6\\r\\n8/19/1985,8.3\\r\\n8/20/1985,4\\r\\n8/21/1985,3.6\\r\\n8/22/1985,5.7\\r\\n8/23/1985,10.6\\r\\n8/24/1985,6.9\\r\\n8/25/1985,10\\r\\n8/26/1985,9.8\\r\\n8/27/1985,7.2\\r\\n8/28/1985,10.5\\r\\n8/29/1985,3.6\\r\\n8/30/1985,5.3\\r\\n8/31/1985,8.4\\r\\n9/1/1985,10.3\\r\\n9/2/1985,7.9\\r\\n9/3/1985,8.5\\r\\n9/4/1985,7.9\\r\\n9/5/1985,8\\r\\n9/6/1985,9.8\\r\\n9/7/1985,6.7\\r\\n9/8/1985,4.8\\r\\n9/9/1985,9.9\\r\\n9/10/1985,12.8\\r\\n9/11/1985,10.9\\r\\n9/12/1985,11.7\\r\\n9/13/1985,11.7\\r\\n9/14/1985,11\\r\\n9/15/1985,8.2\\r\\n9/16/1985,7.5\\r\\n9/17/1985,5.4\\r\\n9/18/1985,7.2\\r\\n9/19/1985,9.7\\r\\n9/20/1985,8.4\\r\\n9/21/1985,9\\r\\n9/22/1985,8.7\\r\\n9/23/1985,6.6\\r\\n9/24/1985,11.6\\r\\n9/25/1985,13.1\\r\\n9/26/1985,6.7\\r\\n9/27/1985,6.5\\r\\n9/28/1985,7.7\\r\\n9/29/1985,8.7\\r\\n9/30/1985,7.2\\r\\n10/1/1985,10.5\\r\\n10/2/1985,8.6\\r\\n10/3/1985,7.2\\r\\n10/4/1985,11.4\\r\\n10/5/1985,16.2\\r\\n10/6/1985,6.1\\r\\n10/7/1985,9.6\\r\\n10/8/1985,11.1\\r\\n10/9/1985,13.6\\r\\n10/10/1985,10.7\\r\\n10/11/1985,14.7\\r\\n10/12/1985,11.6\\r\\n10/13/1985,7.3\\r\\n10/14/1985,8\\r\\n10/15/1985,9.6\\r\\n10/16/1985,16\\r\\n10/17/1985,15.1\\r\\n10/18/1985,12.8\\r\\n10/19/1985,6.2\\r\\n10/20/1985,7.1\\r\\n10/21/1985,8.4\\r\\n10/22/1985,10\\r\\n10/23/1985,12.7\\r\\n10/24/1985,10\\r\\n10/25/1985,10.2\\r\\n10/26/1985,6.5\\r\\n10/27/1985,9.2\\r\\n10/28/1985,11.9\\r\\n10/29/1985,14.7\\r\\n10/30/1985,11.4\\r\\n10/31/1985,6.8\\r\\n11/1/1985,7.4\\r\\n11/2/1985,11.2\\r\\n11/3/1985,9.2\\r\\n11/4/1985,12.6\\r\\n11/5/1985,16\\r\\n11/6/1985,17.1\\r\\n11/7/1985,15.3\\r\\n11/8/1985,13.3\\r\\n11/9/1985,15.4\\r\\n11/10/1985,13.2\\r\\n11/11/1985,14.4\\r\\n11/12/1985,14\\r\\n11/13/1985,15.5\\r\\n11/14/1985,21\\r\\n11/15/1985,10\\r\\n11/16/1985,9.6\\r\\n11/17/1985,12\\r\\n11/18/1985,12.2\\r\\n11/19/1985,11.3\\r\\n11/20/1985,13.2\\r\\n11/21/1985,10.5\\r\\n11/22/1985,10.1\\r\\n11/23/1985,8.8\\r\\n11/24/1985,13.7\\r\\n11/25/1985,16.2\\r\\n11/26/1985,16\\r\\n11/27/1985,14\\r\\n11/28/1985,13.7\\r\\n11/29/1985,12.5\\r\\n11/30/1985,12.8\\r\\n12/1/1985,12.3\\r\\n12/2/1985,15.2\\r\\n12/3/1985,15\\r\\n12/4/1985,16.4\\r\\n12/5/1985,16.1\\r\\n12/6/1985,14.6\\r\\n12/7/1985,18.2\\r\\n12/8/1985,16.4\\r\\n12/9/1985,16.6\\r\\n12/10/1985,14.7\\r\\n12/11/1985,15.8\\r\\n12/12/1985,14.1\\r\\n12/13/1985,13.5\\r\\n12/14/1985,13.6\\r\\n12/15/1985,13.7\\r\\n12/16/1985,13.6\\r\\n12/17/1985,12.1\\r\\n12/18/1985,12.7\\r\\n12/19/1985,13.3\\r\\n12/20/1985,14.2\\r\\n12/21/1985,15\\r\\n12/22/1985,13.7\\r\\n12/23/1985,12\\r\\n12/24/1985,13.1\\r\\n12/25/1985,13.2\\r\\n12/26/1985,13.3\\r\\n12/27/1985,11.5\\r\\n12/28/1985,10.8\\r\\n12/29/1985,12\\r\\n12/30/1985,16.3\\r\\n12/31/1985,14.4\\r\\n1/1/1986,12.9\\r\\n1/2/1986,13.8\\r\\n1/3/1986,10.6\\r\\n1/4/1986,12.6\\r\\n1/5/1986,13.7\\r\\n1/6/1986,12.6\\r\\n1/7/1986,13.1\\r\\n1/8/1986,15.4\\r\\n1/9/1986,11.9\\r\\n1/10/1986,13.8\\r\\n1/11/1986,14.4\\r\\n1/12/1986,15.2\\r\\n1/13/1986,12.5\\r\\n1/14/1986,12.2\\r\\n1/15/1986,16.1\\r\\n1/16/1986,14.6\\r\\n1/17/1986,11.6\\r\\n1/18/1986,13.1\\r\\n1/19/1986,12.8\\r\\n1/20/1986,15.2\\r\\n1/21/1986,13.8\\r\\n1/22/1986,15\\r\\n1/23/1986,13.5\\r\\n1/24/1986,11.8\\r\\n1/25/1986,15.3\\r\\n1/26/1986,13.5\\r\\n1/27/1986,15.3\\r\\n1/28/1986,13.8\\r\\n1/29/1986,15.8\\r\\n1/30/1986,17.4\\r\\n1/31/1986,15.3\\r\\n2/1/1986,14.6\\r\\n2/2/1986,14.8\\r\\n2/3/1986,10.7\\r\\n2/4/1986,11.6\\r\\n2/5/1986,13.6\\r\\n2/6/1986,14.4\\r\\n2/7/1986,11.8\\r\\n2/8/1986,15.8\\r\\n2/9/1986,16\\r\\n2/10/1986,11.8\\r\\n2/11/1986,14.5\\r\\n2/12/1986,10.7\\r\\n2/13/1986,14.2\\r\\n2/14/1986,19.5\\r\\n2/15/1986,21.4\\r\\n2/16/1986,17.9\\r\\n2/17/1986,17.4\\r\\n2/18/1986,12.7\\r\\n2/19/1986,13.8\\r\\n2/20/1986,14\\r\\n2/21/1986,15\\r\\n2/22/1986,14.5\\r\\n2/23/1986,13.1\\r\\n2/24/1986,11.4\\r\\n2/25/1986,12.5\\r\\n2/26/1986,12\\r\\n2/27/1986,13.4\\r\\n2/28/1986,14.4\\r\\n3/1/1986,17.7\\r\\n3/2/1986,13.9\\r\\n3/3/1986,13.3\\r\\n3/4/1986,14.6\\r\\n3/5/1986,16.4\\r\\n3/6/1986,16.8\\r\\n3/7/1986,20\\r\\n3/8/1986,12.5\\r\\n3/9/1986,12.7\\r\\n3/10/1986,11.7\\r\\n3/11/1986,12.7\\r\\n3/12/1986,8.6\\r\\n3/13/1986,11.9\\r\\n3/14/1986,16\\r\\n3/15/1986,15.2\\r\\n3/16/1986,13.4\\r\\n3/17/1986,11.6\\r\\n3/18/1986,11.1\\r\\n3/19/1986,15.6\\r\\n3/20/1986,17\\r\\n3/21/1986,18.5\\r\\n3/22/1986,17.4\\r\\n3/23/1986,16.5\\r\\n3/24/1986,16.2\\r\\n3/25/1986,16.1\\r\\n3/26/1986,13.2\\r\\n3/27/1986,18\\r\\n3/28/1986,12.8\\r\\n3/29/1986,11.7\\r\\n3/30/1986,16.7\\r\\n3/31/1986,15.6\\r\\n4/1/1986,10.2\\r\\n4/2/1986,10.3\\r\\n4/3/1986,15\\r\\n4/4/1986,18\\r\\n4/5/1986,13.8\\r\\n4/6/1986,10.5\\r\\n4/7/1986,11.8\\r\\n4/8/1986,7.2\\r\\n4/9/1986,11.6\\r\\n4/10/1986,7.4\\r\\n4/11/1986,14.2\\r\\n4/12/1986,12.2\\r\\n4/13/1986,9\\r\\n4/14/1986,12.3\\r\\n4/15/1986,19.7\\r\\n4/16/1986,12.8\\r\\n4/17/1986,12.4\\r\\n4/18/1986,12\\r\\n4/19/1986,12\\r\\n4/20/1986,11.1\\r\\n4/21/1986,12.7\\r\\n4/22/1986,14.2\\r\\n4/23/1986,11.6\\r\\n4/24/1986,12\\r\\n4/25/1986,11.5\\r\\n4/26/1986,8.3\\r\\n4/27/1986,10.5\\r\\n4/28/1986,9\\r\\n4/29/1986,6.9\\r\\n4/30/1986,9.4\\r\\n5/1/1986,11.1\\r\\n5/2/1986,9.1\\r\\n5/3/1986,7.7\\r\\n5/4/1986,10\\r\\n5/5/1986,10.4\\r\\n5/6/1986,8\\r\\n5/7/1986,9.8\\r\\n5/8/1986,12.4\\r\\n5/9/1986,12.9\\r\\n5/10/1986,12.3\\r\\n5/11/1986,6.9\\r\\n5/12/1986,10.5\\r\\n5/13/1986,11\\r\\n5/14/1986,9.7\\r\\n5/15/1986,11.1\\r\\n5/16/1986,11.5\\r\\n5/17/1986,13.4\\r\\n5/18/1986,10.9\\r\\n5/19/1986,12\\r\\n5/20/1986,12.1\\r\\n5/21/1986,10.4\\r\\n5/22/1986,10\\r\\n5/23/1986,9.6\\r\\n5/24/1986,11.3\\r\\n5/25/1986,8.5\\r\\n5/26/1986,6.3\\r\\n5/27/1986,8.2\\r\\n5/28/1986,10.7\\r\\n5/29/1986,10.3\\r\\n5/30/1986,9.5\\r\\n5/31/1986,10.9\\r\\n6/1/1986,10.9\\r\\n6/2/1986,4.3\\r\\n6/3/1986,5.2\\r\\n6/4/1986,11\\r\\n6/5/1986,11.6\\r\\n6/6/1986,10.6\\r\\n6/7/1986,9.4\\r\\n6/8/1986,10\\r\\n6/9/1986,9.6\\r\\n6/10/1986,9.5\\r\\n6/11/1986,9.7\\r\\n6/12/1986,9.6\\r\\n6/13/1986,7\\r\\n6/14/1986,7\\r\\n6/15/1986,6.8\\r\\n6/16/1986,6.9\\r\\n6/17/1986,8\\r\\n6/18/1986,7.6\\r\\n6/19/1986,8.6\\r\\n6/20/1986,5.7\\r\\n6/21/1986,5.5\\r\\n6/22/1986,5.7\\r\\n6/23/1986,5.7\\r\\n6/24/1986,6.6\\r\\n6/25/1986,6\\r\\n6/26/1986,6.9\\r\\n6/27/1986,7.7\\r\\n6/28/1986,8\\r\\n6/29/1986,3.9\\r\\n6/30/1986,0.8\\r\\n7/1/1986,2.8\\r\\n7/2/1986,8\\r\\n7/3/1986,9.8\\r\\n7/4/1986,11.4\\r\\n7/5/1986,8.6\\r\\n7/6/1986,5.2\\r\\n7/7/1986,6.6\\r\\n7/8/1986,5.7\\r\\n7/9/1986,4.6\\r\\n7/10/1986,5.8\\r\\n7/11/1986,7\\r\\n7/12/1986,4.8\\r\\n7/13/1986,4.4\\r\\n7/14/1986,4.4\\r\\n7/15/1986,7.9\\r\\n7/16/1986,10.6\\r\\n7/17/1986,5\\r\\n7/18/1986,7.6\\r\\n7/19/1986,9.2\\r\\n7/20/1986,9.7\\r\\n7/21/1986,8.8\\r\\n7/22/1986,6.8\\r\\n7/23/1986,9.4\\r\\n7/24/1986,11\\r\\n7/25/1986,2.5\\r\\n7/26/1986,2.1\\r\\n7/27/1986,5.4\\r\\n7/28/1986,6.2\\r\\n7/29/1986,7.8\\r\\n7/30/1986,7.4\\r\\n7/31/1986,9.3\\r\\n8/1/1986,9.3\\r\\n8/2/1986,9.5\\r\\n8/3/1986,8.5\\r\\n8/4/1986,10\\r\\n8/5/1986,7.7\\r\\n8/6/1986,9.3\\r\\n8/7/1986,9.1\\r\\n8/8/1986,3.5\\r\\n8/9/1986,3.6\\r\\n8/10/1986,2.5\\r\\n8/11/1986,1.7\\r\\n8/12/1986,2.7\\r\\n8/13/1986,2.9\\r\\n8/14/1986,5.3\\r\\n8/15/1986,7.7\\r\\n8/16/1986,9.1\\r\\n8/17/1986,9.4\\r\\n8/18/1986,7.3\\r\\n8/19/1986,8.4\\r\\n8/20/1986,9.2\\r\\n8/21/1986,6.6\\r\\n8/22/1986,9.7\\r\\n8/23/1986,12.4\\r\\n8/24/1986,10.2\\r\\n8/25/1986,5.9\\r\\n8/26/1986,7.1\\r\\n8/27/1986,7.5\\r\\n8/28/1986,9.7\\r\\n8/29/1986,12.2\\r\\n8/30/1986,5.6\\r\\n8/31/1986,5.4\\r\\n9/1/1986,8.3\\r\\n9/2/1986,10.6\\r\\n9/3/1986,9.1\\r\\n9/4/1986,11.3\\r\\n9/5/1986,10.9\\r\\n9/6/1986,8.9\\r\\n9/7/1986,6.3\\r\\n9/8/1986,9\\r\\n9/9/1986,6.1\\r\\n9/10/1986,9.1\\r\\n9/11/1986,9.6\\r\\n9/12/1986,6\\r\\n9/13/1986,10\\r\\n9/14/1986,11\\r\\n9/15/1986,6.2\\r\\n9/16/1986,8.3\\r\\n9/17/1986,11.3\\r\\n9/18/1986,11.3\\r\\n9/19/1986,6.7\\r\\n9/20/1986,6.6\\r\\n9/21/1986,11.4\\r\\n9/22/1986,6.9\\r\\n9/23/1986,10.6\\r\\n9/24/1986,8.6\\r\\n9/25/1986,11.3\\r\\n9/26/1986,12.5\\r\\n9/27/1986,9.9\\r\\n9/28/1986,6.9\\r\\n9/29/1986,5.5\\r\\n9/30/1986,7.8\\r\\n10/1/1986,11\\r\\n10/2/1986,16.2\\r\\n10/3/1986,9.9\\r\\n10/4/1986,8.7\\r\\n10/5/1986,10.5\\r\\n10/6/1986,12.2\\r\\n10/7/1986,10.6\\r\\n10/8/1986,8.3\\r\\n10/9/1986,5.5\\r\\n10/10/1986,9\\r\\n10/11/1986,6.4\\r\\n10/12/1986,7.2\\r\\n10/13/1986,12.9\\r\\n10/14/1986,12\\r\\n10/15/1986,7.3\\r\\n10/16/1986,9.7\\r\\n10/17/1986,8.4\\r\\n10/18/1986,14.7\\r\\n10/19/1986,9.5\\r\\n10/20/1986,7.9\\r\\n10/21/1986,6.8\\r\\n10/22/1986,12.6\\r\\n10/23/1986,5.2\\r\\n10/24/1986,7.5\\r\\n10/25/1986,8.7\\r\\n10/26/1986,7.6\\r\\n10/27/1986,9\\r\\n10/28/1986,7.2\\r\\n10/29/1986,10.7\\r\\n10/30/1986,13.1\\r\\n10/31/1986,13.9\\r\\n11/1/1986,10.8\\r\\n11/2/1986,10.4\\r\\n11/3/1986,9.1\\r\\n11/4/1986,16\\r\\n11/5/1986,21\\r\\n11/6/1986,16.2\\r\\n11/7/1986,8.6\\r\\n11/8/1986,9.2\\r\\n11/9/1986,12.5\\r\\n11/10/1986,9.7\\r\\n11/11/1986,12.5\\r\\n11/12/1986,10.3\\r\\n11/13/1986,12\\r\\n11/14/1986,11\\r\\n11/15/1986,14.8\\r\\n11/16/1986,15\\r\\n11/17/1986,15.3\\r\\n11/18/1986,10.3\\r\\n11/19/1986,10.7\\r\\n11/20/1986,10.5\\r\\n11/21/1986,8.9\\r\\n11/22/1986,8.1\\r\\n11/23/1986,11.5\\r\\n11/24/1986,12.8\\r\\n11/25/1986,9.1\\r\\n11/26/1986,14.6\\r\\n11/27/1986,11.6\\r\\n11/28/1986,11.2\\r\\n11/29/1986,12.6\\r\\n11/30/1986,7.5\\r\\n12/1/1986,11\\r\\n12/2/1986,14.5\\r\\n12/3/1986,18.5\\r\\n12/4/1986,15.4\\r\\n12/5/1986,13.1\\r\\n12/6/1986,16.3\\r\\n12/7/1986,20.2\\r\\n12/8/1986,11.5\\r\\n12/9/1986,12.4\\r\\n12/10/1986,10.9\\r\\n12/11/1986,12.7\\r\\n12/12/1986,12.2\\r\\n12/13/1986,12.4\\r\\n12/14/1986,9.8\\r\\n12/15/1986,8.5\\r\\n12/16/1986,14.7\\r\\n12/17/1986,12\\r\\n12/18/1986,10.3\\r\\n12/19/1986,11\\r\\n12/20/1986,10.2\\r\\n12/21/1986,12.6\\r\\n12/22/1986,11.6\\r\\n12/23/1986,9.7\\r\\n12/24/1986,13.4\\r\\n12/25/1986,10.5\\r\\n12/26/1986,14.7\\r\\n12/27/1986,14.6\\r\\n12/28/1986,14.2\\r\\n12/29/1986,13.2\\r\\n12/30/1986,11.7\\r\\n12/31/1986,17.2\\r\\n1/1/1987,12.3\\r\\n1/2/1987,13.8\\r\\n1/3/1987,15.3\\r\\n1/4/1987,15.6\\r\\n1/5/1987,16.2\\r\\n1/6/1987,16.3\\r\\n1/7/1987,16.8\\r\\n1/8/1987,11\\r\\n1/9/1987,8.5\\r\\n1/10/1987,13.2\\r\\n1/11/1987,13\\r\\n1/12/1987,12.4\\r\\n1/13/1987,13\\r\\n1/14/1987,16.6\\r\\n1/15/1987,12\\r\\n1/16/1987,12.4\\r\\n1/17/1987,15\\r\\n1/18/1987,11.8\\r\\n1/19/1987,11.6\\r\\n1/20/1987,12.2\\r\\n1/21/1987,13.7\\r\\n1/22/1987,11.2\\r\\n1/23/1987,12.4\\r\\n1/24/1987,11.5\\r\\n1/25/1987,13.8\\r\\n1/26/1987,15.7\\r\\n1/27/1987,12.9\\r\\n1/28/1987,11.5\\r\\n1/29/1987,11\\r\\n1/30/1987,12.7\\r\\n1/31/1987,14.9\\r\\n2/1/1987,16.5\\r\\n2/2/1987,12.8\\r\\n2/3/1987,12.7\\r\\n2/4/1987,12.7\\r\\n2/5/1987,11.6\\r\\n2/6/1987,13.3\\r\\n2/7/1987,15.2\\r\\n2/8/1987,16.4\\r\\n2/9/1987,11.9\\r\\n2/10/1987,15.1\\r\\n2/11/1987,10.6\\r\\n2/12/1987,13.6\\r\\n2/13/1987,12.1\\r\\n2/14/1987,16\\r\\n2/15/1987,16.8\\r\\n2/16/1987,16.6\\r\\n2/17/1987,15.6\\r\\n2/18/1987,15.2\\r\\n2/19/1987,17.7\\r\\n2/20/1987,21\\r\\n2/21/1987,13.4\\r\\n2/22/1987,10.5\\r\\n2/23/1987,9.5\\r\\n2/24/1987,12\\r\\n2/25/1987,10.4\\r\\n2/26/1987,11.5\\r\\n2/27/1987,13.2\\r\\n2/28/1987,15\\r\\n3/1/1987,14.1\\r\\n3/2/1987,12.4\\r\\n3/3/1987,13.4\\r\\n3/4/1987,12.5\\r\\n3/5/1987,14.3\\r\\n3/6/1987,17.6\\r\\n3/7/1987,10.4\\r\\n3/8/1987,9.9\\r\\n3/9/1987,10.2\\r\\n3/10/1987,11.3\\r\\n3/11/1987,9.5\\r\\n3/12/1987,11.8\\r\\n3/13/1987,11.5\\r\\n3/14/1987,10.5\\r\\n3/15/1987,10.8\\r\\n3/16/1987,13\\r\\n3/17/1987,18.5\\r\\n3/18/1987,18.7\\r\\n3/19/1987,15\\r\\n3/20/1987,13\\r\\n3/21/1987,11.3\\r\\n3/22/1987,13\\r\\n3/23/1987,13.3\\r\\n3/24/1987,11\\r\\n3/25/1987,10.3\\r\\n3/26/1987,13\\r\\n3/27/1987,12.3\\r\\n3/28/1987,15.6\\r\\n3/29/1987,10.2\\r\\n3/30/1987,10.8\\r\\n3/31/1987,12\\r\\n4/1/1987,13.3\\r\\n4/2/1987,11.7\\r\\n4/3/1987,12.5\\r\\n4/4/1987,13.7\\r\\n4/5/1987,14.9\\r\\n4/6/1987,20.2\\r\\n4/7/1987,16.3\\r\\n4/8/1987,13.9\\r\\n4/9/1987,10.1\\r\\n4/10/1987,7.3\\r\\n4/11/1987,14\\r\\n4/12/1987,17.7\\r\\n4/13/1987,16.3\\r\\n4/14/1987,10.6\\r\\n4/15/1987,9.7\\r\\n4/16/1987,7.8\\r\\n4/17/1987,10.4\\r\\n4/18/1987,10.4\\r\\n4/19/1987,14.1\\r\\n4/20/1987,7.1\\r\\n4/21/1987,8.1\\r\\n4/22/1987,7.8\\r\\n4/23/1987,10.6\\r\\n4/24/1987,9.1\\r\\n4/25/1987,9\\r\\n4/26/1987,11.9\\r\\n4/27/1987,17.1\\r\\n4/28/1987,16.8\\r\\n4/29/1987,13.5\\r\\n4/30/1987,11.6\\r\\n5/1/1987,7\\r\\n5/2/1987,9.7\\r\\n5/3/1987,9.9\\r\\n5/4/1987,11.2\\r\\n5/5/1987,11.3\\r\\n5/6/1987,11.8\\r\\n5/7/1987,9.9\\r\\n5/8/1987,7.1\\r\\n5/9/1987,9.6\\r\\n5/10/1987,9.8\\r\\n5/11/1987,10.6\\r\\n5/12/1987,12.8\\r\\n5/13/1987,16.5\\r\\n5/14/1987,11.7\\r\\n5/15/1987,12.3\\r\\n5/16/1987,12.2\\r\\n5/17/1987,11.8\\r\\n5/18/1987,10.7\\r\\n5/19/1987,10.2\\r\\n5/20/1987,10\\r\\n5/21/1987,8.3\\r\\n5/22/1987,6.6\\r\\n5/23/1987,9.5\\r\\n5/24/1987,12.3\\r\\n5/25/1987,7.6\\r\\n5/26/1987,9.3\\r\\n5/27/1987,5\\r\\n5/28/1987,4.3\\r\\n5/29/1987,6.4\\r\\n5/30/1987,10.8\\r\\n5/31/1987,7.8\\r\\n6/1/1987,8.5\\r\\n6/2/1987,9.7\\r\\n6/3/1987,10\\r\\n6/4/1987,11\\r\\n6/5/1987,10.2\\r\\n6/6/1987,6.6\\r\\n6/7/1987,6.1\\r\\n6/8/1987,5.9\\r\\n6/9/1987,8.9\\r\\n6/10/1987,13\\r\\n6/11/1987,12.6\\r\\n6/12/1987,5.4\\r\\n6/13/1987,6\\r\\n6/14/1987,7.8\\r\\n6/15/1987,9\\r\\n6/16/1987,4.2\\r\\n6/17/1987,3\\r\\n6/18/1987,4.5\\r\\n6/19/1987,6.2\\r\\n6/20/1987,11.9\\r\\n6/21/1987,11.8\\r\\n6/22/1987,9.4\\r\\n6/23/1987,9.6\\r\\n6/24/1987,9.4\\r\\n6/25/1987,7\\r\\n6/26/1987,8.9\\r\\n6/27/1987,9.3\\r\\n6/28/1987,6.8\\r\\n6/29/1987,7.5\\r\\n6/30/1987,8\\r\\n7/1/1987,8.3\\r\\n7/2/1987,2.7\\r\\n7/3/1987,3.9\\r\\n7/4/1987,4.1\\r\\n7/5/1987,5\\r\\n7/6/1987,5.8\\r\\n7/7/1987,4.4\\r\\n7/8/1987,4.1\\r\\n7/9/1987,5.8\\r\\n7/10/1987,9.1\\r\\n7/11/1987,7.9\\r\\n7/12/1987,5\\r\\n7/13/1987,2.8\\r\\n7/14/1987,4.7\\r\\n7/15/1987,8.9\\r\\n7/16/1987,5.4\\r\\n7/17/1987,7.1\\r\\n7/18/1987,9\\r\\n7/19/1987,9.4\\r\\n7/20/1987,6.3\\r\\n7/21/1987,7\\r\\n7/22/1987,6.4\\r\\n7/23/1987,6.7\\r\\n7/24/1987,1.5\\r\\n7/25/1987,2.9\\r\\n7/26/1987,4.8\\r\\n7/27/1987,6.3\\r\\n7/28/1987,5.7\\r\\n7/29/1987,7\\r\\n7/30/1987,8.8\\r\\n7/31/1987,8.7\\r\\n8/1/1987,9\\r\\n8/2/1987,9.6\\r\\n8/3/1987,8\\r\\n8/4/1987,8.4\\r\\n8/5/1987,8.1\\r\\n8/6/1987,9\\r\\n8/7/1987,5.3\\r\\n8/8/1987,8.9\\r\\n8/9/1987,8.7\\r\\n8/10/1987,4.9\\r\\n8/11/1987,7\\r\\n8/12/1987,7.5\\r\\n8/13/1987,7\\r\\n8/14/1987,9.1\\r\\n8/15/1987,11.8\\r\\n8/16/1987,9.9\\r\\n8/17/1987,5.6\\r\\n8/18/1987,4.2\\r\\n8/19/1987,4.3\\r\\n8/20/1987,8\\r\\n8/21/1987,5.1\\r\\n8/22/1987,9.4\\r\\n8/23/1987,9.1\\r\\n8/24/1987,9.7\\r\\n8/25/1987,10.6\\r\\n8/26/1987,8.6\\r\\n8/27/1987,10.1\\r\\n8/28/1987,11\\r\\n8/29/1987,9.7\\r\\n8/30/1987,5\\r\\n8/31/1987,6.1\\r\\n9/1/1987,5.4\\r\\n9/2/1987,5.8\\r\\n9/3/1987,7.3\\r\\n9/4/1987,6.3\\r\\n9/5/1987,4.8\\r\\n9/6/1987,7.6\\r\\n9/7/1987,8.1\\r\\n9/8/1987,9.5\\r\\n9/9/1987,10.3\\r\\n9/10/1987,7\\r\\n9/11/1987,9\\r\\n9/12/1987,10.2\\r\\n9/13/1987,6.8\\r\\n9/14/1987,9.3\\r\\n9/15/1987,9.8\\r\\n9/16/1987,10.7\\r\\n9/17/1987,7.8\\r\\n9/18/1987,9.2\\r\\n9/19/1987,15\\r\\n9/20/1987,7.8\\r\\n9/21/1987,5.3\\r\\n9/22/1987,9.5\\r\\n9/23/1987,7.6\\r\\n9/24/1987,14\\r\\n9/25/1987,14.9\\r\\n9/26/1987,14.9\\r\\n9/27/1987,19.2\\r\\n9/28/1987,17\\r\\n9/29/1987,13\\r\\n9/30/1987,11.2\\r\\n10/1/1987,9.5\\r\\n10/2/1987,10.3\\r\\n10/3/1987,9.3\\r\\n10/4/1987,11.3\\r\\n10/5/1987,6.5\\r\\n10/6/1987,12\\r\\n10/7/1987,8.3\\r\\n10/8/1987,8.7\\r\\n10/9/1987,8.7\\r\\n10/10/1987,10.2\\r\\n10/11/1987,6.9\\r\\n10/12/1987,4.9\\r\\n10/13/1987,10\\r\\n10/14/1987,7.6\\r\\n10/15/1987,14.5\\r\\n10/16/1987,13.2\\r\\n10/17/1987,9.9\\r\\n10/18/1987,10.1\\r\\n10/19/1987,11.3\\r\\n10/20/1987,10.4\\r\\n10/21/1987,10.9\\r\\n10/22/1987,9.2\\r\\n10/23/1987,10.5\\r\\n10/24/1987,11.4\\r\\n10/25/1987,13.5\\r\\n10/26/1987,9.8\\r\\n10/27/1987,13.1\\r\\n10/28/1987,9.7\\r\\n10/29/1987,11.4\\r\\n10/30/1987,9.9\\r\\n10/31/1987,14.4\\r\\n11/1/1987,19\\r\\n11/2/1987,23\\r\\n11/3/1987,15.4\\r\\n11/4/1987,9.6\\r\\n11/5/1987,10.8\\r\\n11/6/1987,12.1\\r\\n11/7/1987,11\\r\\n11/8/1987,12.6\\r\\n11/9/1987,14.7\\r\\n11/10/1987,11.1\\r\\n11/11/1987,10.1\\r\\n11/12/1987,11.4\\r\\n11/13/1987,13\\r\\n11/14/1987,11.9\\r\\n11/15/1987,9.5\\r\\n11/16/1987,13.5\\r\\n11/17/1987,15.2\\r\\n11/18/1987,18.4\\r\\n11/19/1987,24.1\\r\\n11/20/1987,14.1\\r\\n11/21/1987,10.7\\r\\n11/22/1987,8.7\\r\\n11/23/1987,13.3\\r\\n11/24/1987,11.6\\r\\n11/25/1987,9.9\\r\\n11/26/1987,10.8\\r\\n11/27/1987,11.5\\r\\n11/28/1987,10\\r\\n11/29/1987,13.9\\r\\n11/30/1987,13.6\\r\\n12/1/1987,11.9\\r\\n12/2/1987,11.1\\r\\n12/3/1987,8.2\\r\\n12/4/1987,9.4\\r\\n12/5/1987,12.7\\r\\n12/6/1987,11.6\\r\\n12/7/1987,11\\r\\n12/8/1987,11.3\\r\\n12/9/1987,13.4\\r\\n12/10/1987,14.9\\r\\n12/11/1987,15.2\\r\\n12/12/1987,13.9\\r\\n12/13/1987,15\\r\\n12/14/1987,16.2\\r\\n12/15/1987,17.7\\r\\n12/16/1987,20.5\\r\\n12/17/1987,14.7\\r\\n12/18/1987,12.5\\r\\n12/19/1987,10.9\\r\\n12/20/1987,12.8\\r\\n12/21/1987,12.7\\r\\n12/22/1987,11.2\\r\\n12/23/1987,11.4\\r\\n12/24/1987,11.2\\r\\n12/25/1987,12.1\\r\\n12/26/1987,12.7\\r\\n12/27/1987,16.2\\r\\n12/28/1987,14.2\\r\\n12/29/1987,14.3\\r\\n12/30/1987,13.3\\r\\n12/31/1987,16.7\\r\\n1/1/1988,15.3\\r\\n1/2/1988,14.3\\r\\n1/3/1988,13.5\\r\\n1/4/1988,15\\r\\n1/5/1988,13.6\\r\\n1/6/1988,15.2\\r\\n1/7/1988,17\\r\\n1/8/1988,18.7\\r\\n1/9/1988,16.5\\r\\n1/10/1988,17.4\\r\\n1/11/1988,18.3\\r\\n1/12/1988,18.3\\r\\n1/13/1988,22.4\\r\\n1/14/1988,21.4\\r\\n1/15/1988,20.9\\r\\n1/16/1988,17.6\\r\\n1/17/1988,15.5\\r\\n1/18/1988,16.6\\r\\n1/19/1988,16.2\\r\\n1/20/1988,15.6\\r\\n1/21/1988,14.5\\r\\n1/22/1988,14\\r\\n1/23/1988,15.6\\r\\n1/24/1988,12.3\\r\\n1/25/1988,11.6\\r\\n1/26/1988,12.6\\r\\n1/27/1988,14.9\\r\\n1/28/1988,17.3\\r\\n1/29/1988,21.4\\r\\n1/30/1988,23.4\\r\\n1/31/1988,14.4\\r\\n2/1/1988,14.1\\r\\n2/2/1988,15\\r\\n2/3/1988,14.5\\r\\n2/4/1988,15.1\\r\\n2/5/1988,13.9\\r\\n2/6/1988,13.4\\r\\n2/7/1988,9.2\\r\\n2/8/1988,12.5\\r\\n2/9/1988,15.1\\r\\n2/10/1988,12.1\\r\\n2/11/1988,14.5\\r\\n2/12/1988,16.3\\r\\n2/13/1988,16.5\\r\\n2/14/1988,14.9\\r\\n2/15/1988,13.2\\r\\n2/16/1988,11.8\\r\\n2/17/1988,13.6\\r\\n2/18/1988,16.2\\r\\n2/19/1988,14.1\\r\\n2/20/1988,13.5\\r\\n2/21/1988,15\\r\\n2/22/1988,14.8\\r\\n2/23/1988,16.2\\r\\n2/24/1988,16.2\\r\\n2/25/1988,13.3\\r\\n2/26/1988,15.3\\r\\n2/27/1988,18.4\\r\\n2/28/1988,16.2\\r\\n2/29/1988,16.3\\r\\n3/1/1988,12.4\\r\\n3/2/1988,15.6\\r\\n3/3/1988,14.9\\r\\n3/4/1988,14.8\\r\\n3/5/1988,12.7\\r\\n3/6/1988,14.2\\r\\n3/7/1988,16.8\\r\\n3/8/1988,16.7\\r\\n3/9/1988,16.2\\r\\n3/10/1988,14.5\\r\\n3/11/1988,10\\r\\n3/12/1988,12.6\\r\\n3/13/1988,11.9\\r\\n3/14/1988,11.8\\r\\n3/15/1988,13.4\\r\\n3/16/1988,14.5\\r\\n3/17/1988,15.7\\r\\n3/18/1988,15.3\\r\\n3/19/1988,13.9\\r\\n3/20/1988,13.7\\r\\n3/21/1988,15.1\\r\\n3/22/1988,15.6\\r\\n3/23/1988,14.4\\r\\n3/24/1988,13.9\\r\\n3/25/1988,16.2\\r\\n3/26/1988,16.7\\r\\n3/27/1988,15.5\\r\\n3/28/1988,16.4\\r\\n3/29/1988,17.5\\r\\n3/30/1988,18.2\\r\\n3/31/1988,16.1\\r\\n4/1/1988,16.5\\r\\n4/2/1988,14.6\\r\\n4/3/1988,16.4\\r\\n4/4/1988,13.6\\r\\n4/5/1988,15.9\\r\\n4/6/1988,11.9\\r\\n4/7/1988,14.7\\r\\n4/8/1988,9.4\\r\\n4/9/1988,6.6\\r\\n4/10/1988,7.9\\r\\n4/11/1988,11\\r\\n4/12/1988,15.7\\r\\n4/13/1988,15.2\\r\\n4/14/1988,15.9\\r\\n4/15/1988,10.6\\r\\n4/16/1988,8.3\\r\\n4/17/1988,8.6\\r\\n4/18/1988,12.7\\r\\n4/19/1988,10.5\\r\\n4/20/1988,12\\r\\n4/21/1988,11.1\\r\\n4/22/1988,13\\r\\n4/23/1988,12.4\\r\\n4/24/1988,13.3\\r\\n4/25/1988,15.9\\r\\n4/26/1988,12\\r\\n4/27/1988,13.7\\r\\n4/28/1988,17.6\\r\\n4/29/1988,14.3\\r\\n4/30/1988,13.7\\r\\n5/1/1988,15.2\\r\\n5/2/1988,14.5\\r\\n5/3/1988,14.9\\r\\n5/4/1988,15.5\\r\\n5/5/1988,16.4\\r\\n5/6/1988,14.5\\r\\n5/7/1988,12.6\\r\\n5/8/1988,13.6\\r\\n5/9/1988,11.2\\r\\n5/10/1988,11\\r\\n5/11/1988,12\\r\\n5/12/1988,6.8\\r\\n5/13/1988,10.6\\r\\n5/14/1988,13.1\\r\\n5/15/1988,13.5\\r\\n5/16/1988,11.7\\r\\n5/17/1988,13.2\\r\\n5/18/1988,12\\r\\n5/19/1988,10.4\\r\\n5/20/1988,10\\r\\n5/21/1988,8.2\\r\\n5/22/1988,9.4\\r\\n5/23/1988,10.3\\r\\n5/24/1988,8.1\\r\\n5/25/1988,8.7\\r\\n5/26/1988,12.6\\r\\n5/27/1988,10.9\\r\\n5/28/1988,8.7\\r\\n5/29/1988,9.3\\r\\n5/30/1988,6.3\\r\\n5/31/1988,7.8\\r\\n6/1/1988,10\\r\\n6/2/1988,11\\r\\n6/3/1988,11.1\\r\\n6/4/1988,12.6\\r\\n6/5/1988,10.2\\r\\n6/6/1988,11.1\\r\\n6/7/1988,8.7\\r\\n6/8/1988,9.5\\r\\n6/9/1988,9.7\\r\\n6/10/1988,8.2\\r\\n6/11/1988,5\\r\\n6/12/1988,6.5\\r\\n6/13/1988,12.1\\r\\n6/14/1988,8.9\\r\\n6/15/1988,6.1\\r\\n6/16/1988,2.8\\r\\n6/17/1988,3.7\\r\\n6/18/1988,6.8\\r\\n6/19/1988,6.6\\r\\n6/20/1988,7\\r\\n6/21/1988,7.3\\r\\n6/22/1988,7.9\\r\\n6/23/1988,10.6\\r\\n6/24/1988,8.1\\r\\n6/25/1988,6.7\\r\\n6/26/1988,8\\r\\n6/27/1988,10\\r\\n6/28/1988,6.7\\r\\n6/29/1988,9.4\\r\\n6/30/1988,9.3\\r\\n7/1/1988,6\\r\\n7/2/1988,5.8\\r\\n7/3/1988,4.9\\r\\n7/4/1988,5\\r\\n7/5/1988,8.4\\r\\n7/6/1988,12.3\\r\\n7/7/1988,13\\r\\n7/8/1988,11.4\\r\\n7/9/1988,6.8\\r\\n7/10/1988,7.6\\r\\n7/11/1988,12.4\\r\\n7/12/1988,7.1\\r\\n7/13/1988,7.5\\r\\n7/14/1988,10\\r\\n7/15/1988,5.3\\r\\n7/16/1988,6.3\\r\\n7/17/1988,8\\r\\n7/18/1988,8.3\\r\\n7/19/1988,9.3\\r\\n7/20/1988,9.5\\r\\n7/21/1988,5.6\\r\\n7/22/1988,7\\r\\n7/23/1988,8.5\\r\\n7/24/1988,8.5\\r\\n7/25/1988,8.2\\r\\n7/26/1988,8.5\\r\\n7/27/1988,9.6\\r\\n7/28/1988,9.7\\r\\n7/29/1988,7.1\\r\\n7/30/1988,8.4\\r\\n7/31/1988,9.2\\r\\n8/1/1988,9.8\\r\\n8/2/1988,8.1\\r\\n8/3/1988,9.4\\r\\n8/4/1988,10\\r\\n8/5/1988,5.1\\r\\n8/6/1988,6.7\\r\\n8/7/1988,6.9\\r\\n8/8/1988,6.8\\r\\n8/9/1988,8.6\\r\\n8/10/1988,9.1\\r\\n8/11/1988,3.9\\r\\n8/12/1988,4.8\\r\\n8/13/1988,8.4\\r\\n8/14/1988,11.6\\r\\n8/15/1988,12.1\\r\\n8/16/1988,12.4\\r\\n8/17/1988,10\\r\\n8/18/1988,10.1\\r\\n8/19/1988,9.7\\r\\n8/20/1988,11.7\\r\\n8/21/1988,7.9\\r\\n8/22/1988,8.6\\r\\n8/23/1988,7.7\\r\\n8/24/1988,5.8\\r\\n8/25/1988,8.7\\r\\n8/26/1988,10.6\\r\\n8/27/1988,6.7\\r\\n8/28/1988,8.8\\r\\n8/29/1988,9.7\\r\\n8/30/1988,9\\r\\n8/31/1988,11.8\\r\\n9/1/1988,15.2\\r\\n9/2/1988,10\\r\\n9/3/1988,10.5\\r\\n9/4/1988,5.5\\r\\n9/5/1988,9.4\\r\\n9/6/1988,8.8\\r\\n9/7/1988,5.3\\r\\n9/8/1988,13\\r\\n9/9/1988,15.2\\r\\n9/10/1988,13.2\\r\\n9/11/1988,11.5\\r\\n9/12/1988,6.8\\r\\n9/13/1988,4.7\\r\\n9/14/1988,5.2\\r\\n9/15/1988,6.8\\r\\n9/16/1988,10.7\\r\\n9/17/1988,10.1\\r\\n9/18/1988,10\\r\\n9/19/1988,9.8\\r\\n9/20/1988,5.5\\r\\n9/21/1988,13.5\\r\\n9/22/1988,16.6\\r\\n9/23/1988,8.4\\r\\n9/24/1988,8.2\\r\\n9/25/1988,11.1\\r\\n9/26/1988,10.8\\r\\n9/27/1988,8.8\\r\\n9/28/1988,10.8\\r\\n9/29/1988,8.7\\r\\n9/30/1988,12.4\\r\\n10/1/1988,9\\r\\n10/2/1988,13.5\\r\\n10/3/1988,14.7\\r\\n10/4/1988,10.9\\r\\n10/5/1988,8.5\\r\\n10/6/1988,6\\r\\n10/7/1988,12.7\\r\\n10/8/1988,11.1\\r\\n10/9/1988,8.7\\r\\n10/10/1988,12.3\\r\\n10/11/1988,13.3\\r\\n10/12/1988,5.6\\r\\n10/13/1988,13.7\\r\\n10/14/1988,8.5\\r\\n10/15/1988,11.2\\r\\n10/16/1988,8.7\\r\\n10/17/1988,11.7\\r\\n10/18/1988,12.5\\r\\n10/19/1988,8.2\\r\\n10/20/1988,15.6\\r\\n10/21/1988,10.3\\r\\n10/22/1988,11.4\\r\\n10/23/1988,9.7\\r\\n10/24/1988,6.3\\r\\n10/25/1988,14.3\\r\\n10/26/1988,11.3\\r\\n10/27/1988,7.3\\r\\n10/28/1988,12.8\\r\\n10/29/1988,11.9\\r\\n10/30/1988,14.3\\r\\n10/31/1988,11.6\\r\\n11/1/1988,13.2\\r\\n11/2/1988,15.5\\r\\n11/3/1988,14.1\\r\\n11/4/1988,9.5\\r\\n11/5/1988,7.2\\r\\n11/6/1988,11.8\\r\\n11/7/1988,16.8\\r\\n11/8/1988,12.5\\r\\n11/9/1988,9.4\\r\\n11/10/1988,11.9\\r\\n11/11/1988,10.3\\r\\n11/12/1988,16.9\\r\\n11/13/1988,17.5\\r\\n11/14/1988,7.5\\r\\n11/15/1988,8.6\\r\\n11/16/1988,11.1\\r\\n11/17/1988,11.5\\r\\n11/18/1988,10.7\\r\\n11/19/1988,15.7\\r\\n11/20/1988,12.8\\r\\n11/21/1988,13\\r\\n11/22/1988,12.9\\r\\n11/23/1988,14.3\\r\\n11/24/1988,13.7\\r\\n11/25/1988,12.1\\r\\n11/26/1988,11.9\\r\\n11/27/1988,11.8\\r\\n11/28/1988,11.4\\r\\n11/29/1988,10.3\\r\\n11/30/1988,11.7\\r\\n12/1/1988,12\\r\\n12/2/1988,17.4\\r\\n12/3/1988,16.8\\r\\n12/4/1988,16.2\\r\\n12/5/1988,13\\r\\n12/6/1988,12.5\\r\\n12/7/1988,12.4\\r\\n12/8/1988,16.1\\r\\n12/9/1988,20.2\\r\\n12/10/1988,14.3\\r\\n12/11/1988,11\\r\\n12/12/1988,14.4\\r\\n12/13/1988,15.7\\r\\n12/14/1988,19.7\\r\\n12/15/1988,20.7\\r\\n12/16/1988,23.9\\r\\n12/17/1988,16.6\\r\\n12/18/1988,17.5\\r\\n12/19/1988,14.9\\r\\n12/20/1988,13.6\\r\\n12/21/1988,11.9\\r\\n12/22/1988,15.2\\r\\n12/23/1988,17.3\\r\\n12/24/1988,19.8\\r\\n12/25/1988,15.8\\r\\n12/26/1988,9.5\\r\\n12/27/1988,12.9\\r\\n12/28/1988,12.9\\r\\n12/29/1988,14.8\\r\\n12/30/1988,14.1\\r\\n1/1/1989,14.3\\r\\n1/2/1989,17.4\\r\\n1/3/1989,18.5\\r\\n1/4/1989,16.8\\r\\n1/5/1989,11.5\\r\\n1/6/1989,9.5\\r\\n1/7/1989,12.2\\r\\n1/8/1989,15.7\\r\\n1/9/1989,16.3\\r\\n1/10/1989,13.6\\r\\n1/11/1989,12.6\\r\\n1/12/1989,13.8\\r\\n1/13/1989,12.1\\r\\n1/14/1989,13.4\\r\\n1/15/1989,17.3\\r\\n1/16/1989,19.4\\r\\n1/17/1989,16.6\\r\\n1/18/1989,13.9\\r\\n1/19/1989,13.1\\r\\n1/20/1989,16\\r\\n1/21/1989,14.5\\r\\n1/22/1989,15\\r\\n1/23/1989,12.6\\r\\n1/24/1989,12.5\\r\\n1/25/1989,15.2\\r\\n1/26/1989,16.2\\r\\n1/27/1989,16.5\\r\\n1/28/1989,20.1\\r\\n1/29/1989,20.6\\r\\n1/30/1989,16.9\\r\\n1/31/1989,16.5\\r\\n2/1/1989,16.1\\r\\n2/2/1989,14.4\\r\\n2/3/1989,16.3\\r\\n2/4/1989,15.7\\r\\n2/5/1989,14.2\\r\\n2/6/1989,13.2\\r\\n2/7/1989,16.8\\r\\n2/8/1989,18.5\\r\\n2/9/1989,16.7\\r\\n2/10/1989,15.3\\r\\n2/11/1989,15.9\\r\\n2/12/1989,15.2\\r\\n2/13/1989,17.5\\r\\n2/14/1989,18.3\\r\\n2/15/1989,19.4\\r\\n2/16/1989,19.4\\r\\n2/17/1989,19.5\\r\\n2/18/1989,20.5\\r\\n2/19/1989,15.7\\r\\n2/20/1989,15\\r\\n2/21/1989,16.1\\r\\n2/22/1989,14.3\\r\\n2/23/1989,13\\r\\n2/24/1989,16.2\\r\\n2/25/1989,17.7\\r\\n2/26/1989,13.2\\r\\n2/27/1989,15.8\\r\\n2/28/1989,18.5\\r\\n3/1/1989,20.4\\r\\n3/2/1989,22\\r\\n3/3/1989,19.7\\r\\n3/4/1989,19.6\\r\\n3/5/1989,20.3\\r\\n3/6/1989,18.3\\r\\n3/7/1989,18.9\\r\\n3/8/1989,20.3\\r\\n3/9/1989,21.4\\r\\n3/10/1989,18.3\\r\\n3/11/1989,17.8\\r\\n3/12/1989,17.7\\r\\n3/13/1989,12.8\\r\\n3/14/1989,15.1\\r\\n3/15/1989,15\\r\\n3/16/1989,14.8\\r\\n3/17/1989,12\\r\\n3/18/1989,12.5\\r\\n3/19/1989,15\\r\\n3/20/1989,17.1\\r\\n3/21/1989,17.3\\r\\n3/22/1989,16.9\\r\\n3/23/1989,16.5\\r\\n3/24/1989,13.6\\r\\n3/25/1989,13.2\\r\\n3/26/1989,9.4\\r\\n3/27/1989,9.5\\r\\n3/28/1989,11.8\\r\\n3/29/1989,10.4\\r\\n3/30/1989,9.7\\r\\n3/31/1989,12.6\\r\\n4/1/1989,13.3\\r\\n4/2/1989,15.1\\r\\n4/3/1989,14.2\\r\\n4/4/1989,14.2\\r\\n4/5/1989,19.2\\r\\n4/6/1989,12.6\\r\\n4/7/1989,14.2\\r\\n4/8/1989,11.9\\r\\n4/9/1989,13.9\\r\\n4/10/1989,13.5\\r\\n4/11/1989,15.3\\r\\n4/12/1989,13.9\\r\\n4/13/1989,14\\r\\n4/14/1989,12.9\\r\\n4/15/1989,8.5\\r\\n4/16/1989,11.4\\r\\n4/17/1989,10.9\\r\\n4/18/1989,12\\r\\n4/19/1989,8.6\\r\\n4/20/1989,9\\r\\n4/21/1989,9.6\\r\\n4/22/1989,10.2\\r\\n4/23/1989,9.8\\r\\n4/24/1989,8.3\\r\\n4/25/1989,11\\r\\n4/26/1989,11.9\\r\\n4/27/1989,14\\r\\n4/28/1989,15.8\\r\\n4/29/1989,14.5\\r\\n4/30/1989,13.2\\r\\n5/1/1989,14.2\\r\\n5/2/1989,14.6\\r\\n5/3/1989,11.8\\r\\n5/4/1989,14.4\\r\\n5/5/1989,10.4\\r\\n5/6/1989,10.3\\r\\n5/7/1989,10.8\\r\\n5/8/1989,10.5\\r\\n5/9/1989,9.5\\r\\n5/10/1989,12.5\\r\\n5/11/1989,13.7\\r\\n5/12/1989,12.7\\r\\n5/13/1989,11.9\\r\\n5/14/1989,11.4\\r\\n5/15/1989,9.7\\r\\n5/16/1989,8.3\\r\\n5/17/1989,8.1\\r\\n5/18/1989,11.7\\r\\n5/19/1989,11.6\\r\\n5/20/1989,7.4\\r\\n5/21/1989,5.2\\r\\n5/22/1989,11\\r\\n5/23/1989,9.5\\r\\n5/24/1989,9.2\\r\\n5/25/1989,10.7\\r\\n5/26/1989,9\\r\\n5/27/1989,10.2\\r\\n5/28/1989,10.3\\r\\n5/29/1989,12.1\\r\\n5/30/1989,13.2\\r\\n5/31/1989,6.6\\r\\n6/1/1989,2.3\\r\\n6/2/1989,1.4\\r\\n6/3/1989,2.1\\r\\n6/4/1989,6.6\\r\\n6/5/1989,8.9\\r\\n6/6/1989,7.8\\r\\n6/7/1989,9\\r\\n6/8/1989,10.3\\r\\n6/9/1989,7.9\\r\\n6/10/1989,7.2\\r\\n6/11/1989,8.6\\r\\n6/12/1989,8.8\\r\\n6/13/1989,6.2\\r\\n6/14/1989,9.5\\r\\n6/15/1989,10.2\\r\\n6/16/1989,9.7\\r\\n6/17/1989,11.2\\r\\n6/18/1989,10.2\\r\\n6/19/1989,10.1\\r\\n6/20/1989,8.1\\r\\n6/21/1989,6.6\\r\\n6/22/1989,5\\r\\n6/23/1989,4.7\\r\\n6/24/1989,5.3\\r\\n6/25/1989,4.5\\r\\n6/26/1989,2.3\\r\\n6/27/1989,1.4\\r\\n6/28/1989,0.5\\r\\n6/29/1989,2.4\\r\\n6/30/1989,8\\r\\n7/1/1989,6\\r\\n7/2/1989,7.1\\r\\n7/3/1989,9.7\\r\\n7/4/1989,6.9\\r\\n7/5/1989,5.3\\r\\n7/6/1989,7\\r\\n7/7/1989,6.2\\r\\n7/8/1989,7\\r\\n7/9/1989,9.7\\r\\n7/10/1989,8\\r\\n7/11/1989,8.5\\r\\n7/12/1989,7.1\\r\\n7/13/1989,7.5\\r\\n7/14/1989,3.3\\r\\n7/15/1989,1.8\\r\\n7/16/1989,2.6\\r\\n7/17/1989,5.3\\r\\n7/18/1989,5.8\\r\\n7/19/1989,5.8\\r\\n7/20/1989,7.2\\r\\n7/21/1989,5.3\\r\\n7/22/1989,1.6\\r\\n7/23/1989,3.1\\r\\n7/24/1989,5.3\\r\\n7/25/1989,7.7\\r\\n7/26/1989,4.2\\r\\n7/27/1989,5.5\\r\\n7/28/1989,9\\r\\n7/29/1989,11.2\\r\\n7/30/1989,8\\r\\n7/31/1989,7.6\\r\\n8/1/1989,3.7\\r\\n8/2/1989,7.5\\r\\n8/3/1989,8.1\\r\\n8/4/1989,8.4\\r\\n8/5/1989,7.1\\r\\n8/6/1989,7.6\\r\\n8/7/1989,7.6\\r\\n8/8/1989,5.6\\r\\n8/9/1989,7\\r\\n8/10/1989,10.5\\r\\n8/11/1989,7.3\\r\\n8/12/1989,7.8\\r\\n8/13/1989,5.8\\r\\n8/14/1989,3.8\\r\\n8/15/1989,5.8\\r\\n8/16/1989,6.7\\r\\n8/17/1989,6.6\\r\\n8/18/1989,6.6\\r\\n8/19/1989,9\\r\\n8/20/1989,8.1\\r\\n8/21/1989,5.1\\r\\n8/22/1989,8.6\\r\\n8/23/1989,7\\r\\n8/24/1989,5.5\\r\\n8/25/1989,7.4\\r\\n8/26/1989,6.2\\r\\n8/27/1989,4.2\\r\\n8/28/1989,6.3\\r\\n8/29/1989,7\\r\\n8/30/1989,4\\r\\n8/31/1989,8\\r\\n9/1/1989,8.8\\r\\n9/2/1989,8.8\\r\\n9/3/1989,6.1\\r\\n9/4/1989,8.6\\r\\n9/5/1989,8.9\\r\\n9/6/1989,7.8\\r\\n9/7/1989,5\\r\\n9/8/1989,7\\r\\n9/9/1989,13.3\\r\\n9/10/1989,7.9\\r\\n9/11/1989,7.5\\r\\n9/12/1989,8.3\\r\\n9/13/1989,7.2\\r\\n9/14/1989,6.5\\r\\n9/15/1989,8.9\\r\\n9/16/1989,7.4\\r\\n9/17/1989,9.9\\r\\n9/18/1989,9.3\\r\\n9/19/1989,10.6\\r\\n9/20/1989,8.6\\r\\n9/21/1989,7.2\\r\\n9/22/1989,12.6\\r\\n9/23/1989,7.8\\r\\n9/24/1989,6.3\\r\\n9/25/1989,9.2\\r\\n9/26/1989,5.8\\r\\n9/27/1989,9\\r\\n9/28/1989,5\\r\\n9/29/1989,11.9\\r\\n9/30/1989,13.4\\r\\n10/1/1989,10.5\\r\\n10/2/1989,6.2\\r\\n10/3/1989,5.1\\r\\n10/4/1989,9.5\\r\\n10/5/1989,11.7\\r\\n10/6/1989,9.2\\r\\n10/7/1989,7.3\\r\\n10/8/1989,9.7\\r\\n10/9/1989,9.4\\r\\n10/10/1989,10\\r\\n10/11/1989,10.9\\r\\n10/12/1989,11\\r\\n10/13/1989,10.9\\r\\n10/14/1989,8\\r\\n10/15/1989,11.2\\r\\n10/16/1989,7.5\\r\\n10/17/1989,7.2\\r\\n10/18/1989,13.2\\r\\n10/19/1989,12.9\\r\\n10/20/1989,9.4\\r\\n10/21/1989,10.2\\r\\n10/22/1989,9.5\\r\\n10/23/1989,12.4\\r\\n10/24/1989,10.2\\r\\n10/25/1989,13.4\\r\\n10/26/1989,11.6\\r\\n10/27/1989,8\\r\\n10/28/1989,9\\r\\n10/29/1989,9.3\\r\\n10/30/1989,13.5\\r\\n10/31/1989,8\\r\\n11/1/1989,8.1\\r\\n11/2/1989,10\\r\\n11/3/1989,8.5\\r\\n11/4/1989,12.5\\r\\n11/5/1989,15\\r\\n11/6/1989,13.3\\r\\n11/7/1989,11\\r\\n11/8/1989,11.9\\r\\n11/9/1989,8.3\\r\\n11/10/1989,9.7\\r\\n11/11/1989,11.3\\r\\n11/12/1989,12.5\\r\\n11/13/1989,9.4\\r\\n11/14/1989,11.4\\r\\n11/15/1989,13.2\\r\\n11/16/1989,13.8\\r\\n11/17/1989,16\\r\\n11/18/1989,10.9\\r\\n11/19/1989,11.9\\r\\n11/20/1989,12.4\\r\\n11/21/1989,13.2\\r\\n11/22/1989,15.5\\r\\n11/23/1989,21.6\\r\\n11/24/1989,14.9\\r\\n11/25/1989,14.4\\r\\n11/26/1989,12.9\\r\\n11/27/1989,13.1\\r\\n11/28/1989,14\\r\\n11/29/1989,17.9\\r\\n11/30/1989,17.7\\r\\n12/1/1989,16.3\\r\\n12/2/1989,18.3\\r\\n12/3/1989,13.7\\r\\n12/4/1989,13.3\\r\\n12/5/1989,10.6\\r\\n12/6/1989,14.1\\r\\n12/7/1989,16\\r\\n12/8/1989,16.5\\r\\n12/9/1989,14.1\\r\\n12/10/1989,18.7\\r\\n12/11/1989,16.2\\r\\n12/12/1989,14.8\\r\\n12/13/1989,12.6\\r\\n12/14/1989,10.4\\r\\n12/15/1989,12.2\\r\\n12/16/1989,12.6\\r\\n12/17/1989,12.1\\r\\n12/18/1989,17.3\\r\\n12/19/1989,16.4\\r\\n12/20/1989,12.6\\r\\n12/21/1989,12.3\\r\\n12/22/1989,11.8\\r\\n12/23/1989,12\\r\\n12/24/1989,12.7\\r\\n12/25/1989,16.4\\r\\n12/26/1989,16\\r\\n12/27/1989,13.3\\r\\n12/28/1989,11.7\\r\\n12/29/1989,10.4\\r\\n12/30/1989,14.4\\r\\n12/31/1989,12.7\\r\\n1/1/1990,14.8\\r\\n1/2/1990,13.3\\r\\n1/3/1990,15.6\\r\\n1/4/1990,14.5\\r\\n1/5/1990,14.3\\r\\n1/6/1990,15.3\\r\\n1/7/1990,16.4\\r\\n1/8/1990,14.8\\r\\n1/9/1990,17.4\\r\\n1/10/1990,18.8\\r\\n1/11/1990,22.1\\r\\n1/12/1990,19\\r\\n1/13/1990,15.5\\r\\n1/14/1990,15.8\\r\\n1/15/1990,14.7\\r\\n1/16/1990,10.7\\r\\n1/17/1990,11.5\\r\\n1/18/1990,15\\r\\n1/19/1990,14.5\\r\\n1/20/1990,14.5\\r\\n1/21/1990,13.3\\r\\n1/22/1990,14.3\\r\\n1/23/1990,14.3\\r\\n1/24/1990,20.5\\r\\n1/25/1990,15\\r\\n1/26/1990,17.1\\r\\n1/27/1990,16.9\\r\\n1/28/1990,16.9\\r\\n1/29/1990,13.6\\r\\n1/30/1990,16.4\\r\\n1/31/1990,16.1\\r\\n2/1/1990,12\\r\\n2/2/1990,12.2\\r\\n2/3/1990,14.8\\r\\n2/4/1990,14.8\\r\\n2/5/1990,14.4\\r\\n2/6/1990,12.9\\r\\n2/7/1990,13.4\\r\\n2/8/1990,15.9\\r\\n2/9/1990,16.1\\r\\n2/10/1990,17.6\\r\\n2/11/1990,15.6\\r\\n2/12/1990,15\\r\\n2/13/1990,13\\r\\n2/14/1990,14.1\\r\\n2/15/1990,17.3\\r\\n2/16/1990,15.7\\r\\n2/17/1990,18.6\\r\\n2/18/1990,12.7\\r\\n2/19/1990,14\\r\\n2/20/1990,13.7\\r\\n2/21/1990,16.3\\r\\n2/22/1990,20\\r\\n2/23/1990,17\\r\\n2/24/1990,15.2\\r\\n2/25/1990,16.5\\r\\n2/26/1990,16.5\\r\\n2/27/1990,17.3\\r\\n2/28/1990,19.1\\r\\n3/1/1990,19.3\\r\\n3/2/1990,17.3\\r\\n3/3/1990,19\\r\\n3/4/1990,19.8\\r\\n3/5/1990,19.3\\r\\n3/6/1990,17.2\\r\\n3/7/1990,14.2\\r\\n3/8/1990,10.3\\r\\n3/9/1990,13\\r\\n3/10/1990,15.3\\r\\n3/11/1990,15\\r\\n3/12/1990,12.1\\r\\n3/13/1990,9.2\\r\\n3/14/1990,11\\r\\n3/15/1990,15\\r\\n3/16/1990,11.6\\r\\n3/17/1990,11.6\\r\\n3/18/1990,15.1\\r\\n3/19/1990,15\\r\\n3/20/1990,13.6\\r\\n3/21/1990,12.5\\r\\n3/22/1990,14.3\\r\\n3/23/1990,16\\r\\n3/24/1990,17.4\\r\\n3/25/1990,16.9\\r\\n3/26/1990,18\\r\\n3/27/1990,20.6\\r\\n3/28/1990,14.2\\r\\n3/29/1990,10.9\\r\\n3/30/1990,11.9\\r\\n3/31/1990,13.3\\r\\n4/1/1990,15.3\\r\\n4/2/1990,14.7\\r\\n4/3/1990,11\\r\\n4/4/1990,12.2\\r\\n4/5/1990,14.2\\r\\n4/6/1990,17\\r\\n4/7/1990,15.8\\r\\n4/8/1990,15.2\\r\\n4/9/1990,15.1\\r\\n4/10/1990,14.7\\r\\n4/11/1990,18.5\\r\\n4/12/1990,16.4\\r\\n4/13/1990,18.4\\r\\n4/14/1990,15.1\\r\\n4/15/1990,9.9\\r\\n4/16/1990,10.2\\r\\n4/17/1990,12.6\\r\\n4/18/1990,13.2\\r\\n4/19/1990,11.5\\r\\n4/20/1990,13.8\\r\\n4/21/1990,14.5\\r\\n4/22/1990,14.7\\r\\n4/23/1990,11.2\\r\\n4/24/1990,12.7\\r\\n4/25/1990,13.7\\r\\n4/26/1990,11.5\\r\\n4/27/1990,10.4\\r\\n4/28/1990,8.9\\r\\n4/29/1990,11.1\\r\\n4/30/1990,9.5\\r\\n5/1/1990,13\\r\\n5/2/1990,13.9\\r\\n5/3/1990,12.6\\r\\n5/4/1990,14.3\\r\\n5/5/1990,16\\r\\n5/6/1990,13.3\\r\\n5/7/1990,7\\r\\n5/8/1990,4.9\\r\\n5/9/1990,6.9\\r\\n5/10/1990,13.7\\r\\n5/11/1990,10.6\\r\\n5/12/1990,12.3\\r\\n5/13/1990,11.1\\r\\n5/14/1990,10.2\\r\\n5/15/1990,9.5\\r\\n5/16/1990,8.9\\r\\n5/17/1990,13.4\\r\\n5/18/1990,9.1\\r\\n5/19/1990,9.4\\r\\n5/20/1990,8.7\\r\\n5/21/1990,5.8\\r\\n5/22/1990,4.5\\r\\n5/23/1990,7.2\\r\\n5/24/1990,10\\r\\n5/25/1990,10.5\\r\\n5/26/1990,10.7\\r\\n5/27/1990,8.2\\r\\n5/28/1990,6.1\\r\\n5/29/1990,4.5\\r\\n5/30/1990,6.1\\r\\n5/31/1990,9.8\\r\\n6/1/1990,9.7\\r\\n6/2/1990,8.2\\r\\n6/3/1990,8.4\\r\\n6/4/1990,8.5\\r\\n6/5/1990,10.4\\r\\n6/6/1990,6.8\\r\\n6/7/1990,6\\r\\n6/8/1990,6.6\\r\\n6/9/1990,7.8\\r\\n6/10/1990,10.3\\r\\n6/11/1990,7.2\\r\\n6/12/1990,7.4\\r\\n6/13/1990,11.4\\r\\n6/14/1990,5.4\\r\\n6/15/1990,4.4\\r\\n6/16/1990,6.4\\r\\n6/17/1990,9.3\\r\\n6/18/1990,7.7\\r\\n6/19/1990,8.1\\r\\n6/20/1990,8.3\\r\\n6/21/1990,9.1\\r\\n6/22/1990,7.7\\r\\n6/23/1990,10.6\\r\\n6/24/1990,8.2\\r\\n6/25/1990,7.9\\r\\n6/26/1990,5.2\\r\\n6/27/1990,5.9\\r\\n6/28/1990,3.7\\r\\n6/29/1990,5.6\\r\\n6/30/1990,9.4\\r\\n7/1/1990,7.4\\r\\n7/2/1990,7.3\\r\\n7/3/1990,7.7\\r\\n7/4/1990,7.7\\r\\n7/5/1990,9.3\\r\\n7/6/1990,4.4\\r\\n7/7/1990,5.7\\r\\n7/8/1990,10.2\\r\\n7/9/1990,10.2\\r\\n7/10/1990,9.3\\r\\n7/11/1990,5.4\\r\\n7/12/1990,5\\r\\n7/13/1990,7.6\\r\\n7/14/1990,9.6\\r\\n7/15/1990,10.4\\r\\n7/16/1990,11.2\\r\\n7/17/1990,9.1\\r\\n7/18/1990,11.2\\r\\n7/19/1990,6.8\\r\\n7/20/1990,8.3\\r\\n7/21/1990,9.7\\r\\n7/22/1990,9.6\\r\\n7/23/1990,9.8\\r\\n7/24/1990,10.8\\r\\n7/25/1990,9.2\\r\\n7/26/1990,6.5\\r\\n7/27/1990,8.1\\r\\n7/28/1990,7.3\\r\\n7/29/1990,7.9\\r\\n7/30/1990,6\\r\\n7/31/1990,5\\r\\n8/1/1990,6.8\\r\\n8/2/1990,9.8\\r\\n8/3/1990,5.7\\r\\n8/4/1990,8.6\\r\\n8/5/1990,10.6\\r\\n8/6/1990,7.8\\r\\n8/7/1990,7.7\\r\\n8/8/1990,8.6\\r\\n8/9/1990,6.5\\r\\n8/10/1990,6.9\\r\\n8/11/1990,6.4\\r\\n8/12/1990,8.5\\r\\n8/13/1990,7.8\\r\\n8/14/1990,9.3\\r\\n8/15/1990,8.4\\r\\n8/16/1990,7.8\\r\\n8/17/1990,7.4\\r\\n8/18/1990,7.7\\r\\n8/19/1990,8.9\\r\\n8/20/1990,9.7\\r\\n8/21/1990,9.9\\r\\n8/22/1990,6.1\\r\\n8/23/1990,6.6\\r\\n8/24/1990,7.6\\r\\n8/25/1990,7.4\\r\\n8/26/1990,8\\r\\n8/27/1990,2.1\\r\\n8/28/1990,5.9\\r\\n8/29/1990,11.6\\r\\n8/30/1990,8.6\\r\\n8/31/1990,7.9\\r\\n9/1/1990,6\\r\\n9/2/1990,9.5\\r\\n9/3/1990,8.6\\r\\n9/4/1990,7.6\\r\\n9/5/1990,10.4\\r\\n9/6/1990,10.3\\r\\n9/7/1990,7.5\\r\\n9/8/1990,3\\r\\n9/9/1990,5.3\\r\\n9/10/1990,10.5\\r\\n9/11/1990,14.6\\r\\n9/12/1990,12.6\\r\\n9/13/1990,9.8\\r\\n9/14/1990,7.2\\r\\n9/15/1990,10.1\\r\\n9/16/1990,10.4\\r\\n9/17/1990,3.7\\r\\n9/18/1990,7.3\\r\\n9/19/1990,11.6\\r\\n9/20/1990,16.3\\r\\n9/21/1990,9.6\\r\\n9/22/1990,6.8\\r\\n9/23/1990,5.2\\r\\n9/24/1990,10.6\\r\\n9/25/1990,16.3\\r\\n9/26/1990,9.8\\r\\n9/27/1990,4.6\\r\\n9/28/1990,11.1\\r\\n9/29/1990,8.7\\r\\n9/30/1990,10\\r\\n10/1/1990,11.3\\r\\n10/2/1990,10.5\\r\\n10/3/1990,9.9\\r\\n10/4/1990,11\\r\\n10/5/1990,14\\r\\n10/6/1990,9.2\\r\\n10/7/1990,9.8\\r\\n10/8/1990,6\\r\\n10/9/1990,9.8\\r\\n10/10/1990,9.2\\r\\n10/11/1990,11.8\\r\\n10/12/1990,10.3\\r\\n10/13/1990,7.5\\r\\n10/14/1990,7.7\\r\\n10/15/1990,15.8\\r\\n10/16/1990,14.6\\r\\n10/17/1990,10.5\\r\\n10/18/1990,11.3\\r\\n10/19/1990,10.9\\r\\n10/20/1990,6.4\\r\\n10/21/1990,10.9\\r\\n10/22/1990,9\\r\\n10/23/1990,10.9\\r\\n10/24/1990,12.4\\r\\n10/25/1990,11.6\\r\\n10/26/1990,13.3\\r\\n10/27/1990,14.4\\r\\n10/28/1990,18.4\\r\\n10/29/1990,13.6\\r\\n10/30/1990,14.9\\r\\n10/31/1990,14.8\\r\\n11/1/1990,15.4\\r\\n11/2/1990,11.8\\r\\n11/3/1990,13\\r\\n11/4/1990,11.1\\r\\n11/5/1990,12.5\\r\\n11/6/1990,18.3\\r\\n11/7/1990,19.2\\r\\n11/8/1990,15.4\\r\\n11/9/1990,13.1\\r\\n11/10/1990,11.5\\r\\n11/11/1990,8.6\\r\\n11/12/1990,12.6\\r\\n11/13/1990,13.8\\r\\n11/14/1990,14.6\\r\\n11/15/1990,13.2\\r\\n11/16/1990,12.3\\r\\n11/17/1990,8.8\\r\\n11/18/1990,10.7\\r\\n11/19/1990,9.9\\r\\n11/20/1990,8.3\\r\\n11/21/1990,15\\r\\n11/22/1990,12.2\\r\\n11/23/1990,10.5\\r\\n11/24/1990,11.1\\r\\n11/25/1990,13\\r\\n11/26/1990,12.9\\r\\n11/27/1990,8.8\\r\\n11/28/1990,14.7\\r\\n11/29/1990,14.7\\r\\n11/30/1990,12.7\\r\\n12/1/1990,13.3\\r\\n12/2/1990,13.2\\r\\n12/3/1990,16.2\\r\\n12/4/1990,17.3\\r\\n12/5/1990,20.5\\r\\n12/6/1990,20.2\\r\\n12/7/1990,19.4\\r\\n12/8/1990,15.5\\r\\n12/9/1990,14.1\\r\\n12/10/1990,11\\r\\n12/11/1990,11.1\\r\\n12/12/1990,14\\r\\n12/13/1990,11.4\\r\\n12/14/1990,12.5\\r\\n12/15/1990,13.4\\r\\n12/16/1990,13.6\\r\\n12/17/1990,13.9\\r\\n12/18/1990,17.2\\r\\n12/19/1990,14.7\\r\\n12/20/1990,15.4\\r\\n12/21/1990,13.1\\r\\n12/22/1990,13.2\\r\\n12/23/1990,13.9\\r\\n12/24/1990,10\\r\\n12/25/1990,12.9\\r\\n12/26/1990,14.6\\r\\n12/27/1990,14\\r\\n12/28/1990,13.6\\r\\n12/29/1990,13.5\\r\\n12/30/1990,15.7\\r\\n12/31/1990,13\\r\\n'}"
            ]
          },
          "metadata": {},
          "execution_count": 23
        }
      ]
    },
    {
      "cell_type": "code",
      "source": [
        "!ls"
      ],
      "metadata": {
        "colab": {
          "base_uri": "https://localhost:8080/"
        },
        "id": "JoQ9782YY2Lp",
        "outputId": "4c54cad1-60c8-4d4a-94c2-53231a36a688"
      },
      "execution_count": 24,
      "outputs": [
        {
          "output_type": "stream",
          "name": "stdout",
          "text": [
            "arrhythmia.data  daily-minimum-temperatures-in-me.csv  sample_data\n"
          ]
        }
      ]
    },
    {
      "cell_type": "code",
      "source": [
        "df = pd.read_csv('daily-minimum-temperatures-in-me.csv', error_bad_lines=False)\n",
        "df.head()"
      ],
      "metadata": {
        "colab": {
          "base_uri": "https://localhost:8080/",
          "height": 276
        },
        "id": "8lXGcySnY8Bf",
        "outputId": "aeb0b4dd-ff12-4973-f8a3-008ddd3e7d84"
      },
      "execution_count": 27,
      "outputs": [
        {
          "output_type": "stream",
          "name": "stderr",
          "text": [
            "/usr/local/lib/python3.7/dist-packages/IPython/core/interactiveshell.py:2882: FutureWarning: The error_bad_lines argument has been deprecated and will be removed in a future version.\n",
            "\n",
            "\n",
            "  exec(code_obj, self.user_global_ns, self.user_ns)\n"
          ]
        },
        {
          "output_type": "execute_result",
          "data": {
            "text/plain": [
              "       Date  Daily minimum temperatures\n",
              "0  1/1/1981                        20.7\n",
              "1  1/2/1981                        17.9\n",
              "2  1/3/1981                        18.8\n",
              "3  1/4/1981                        14.6\n",
              "4  1/5/1981                        15.8"
            ],
            "text/html": [
              "\n",
              "  <div id=\"df-5681d873-3f90-47b2-89e4-2f346f66cc10\">\n",
              "    <div class=\"colab-df-container\">\n",
              "      <div>\n",
              "<style scoped>\n",
              "    .dataframe tbody tr th:only-of-type {\n",
              "        vertical-align: middle;\n",
              "    }\n",
              "\n",
              "    .dataframe tbody tr th {\n",
              "        vertical-align: top;\n",
              "    }\n",
              "\n",
              "    .dataframe thead th {\n",
              "        text-align: right;\n",
              "    }\n",
              "</style>\n",
              "<table border=\"1\" class=\"dataframe\">\n",
              "  <thead>\n",
              "    <tr style=\"text-align: right;\">\n",
              "      <th></th>\n",
              "      <th>Date</th>\n",
              "      <th>Daily minimum temperatures</th>\n",
              "    </tr>\n",
              "  </thead>\n",
              "  <tbody>\n",
              "    <tr>\n",
              "      <th>0</th>\n",
              "      <td>1/1/1981</td>\n",
              "      <td>20.7</td>\n",
              "    </tr>\n",
              "    <tr>\n",
              "      <th>1</th>\n",
              "      <td>1/2/1981</td>\n",
              "      <td>17.9</td>\n",
              "    </tr>\n",
              "    <tr>\n",
              "      <th>2</th>\n",
              "      <td>1/3/1981</td>\n",
              "      <td>18.8</td>\n",
              "    </tr>\n",
              "    <tr>\n",
              "      <th>3</th>\n",
              "      <td>1/4/1981</td>\n",
              "      <td>14.6</td>\n",
              "    </tr>\n",
              "    <tr>\n",
              "      <th>4</th>\n",
              "      <td>1/5/1981</td>\n",
              "      <td>15.8</td>\n",
              "    </tr>\n",
              "  </tbody>\n",
              "</table>\n",
              "</div>\n",
              "      <button class=\"colab-df-convert\" onclick=\"convertToInteractive('df-5681d873-3f90-47b2-89e4-2f346f66cc10')\"\n",
              "              title=\"Convert this dataframe to an interactive table.\"\n",
              "              style=\"display:none;\">\n",
              "        \n",
              "  <svg xmlns=\"http://www.w3.org/2000/svg\" height=\"24px\"viewBox=\"0 0 24 24\"\n",
              "       width=\"24px\">\n",
              "    <path d=\"M0 0h24v24H0V0z\" fill=\"none\"/>\n",
              "    <path d=\"M18.56 5.44l.94 2.06.94-2.06 2.06-.94-2.06-.94-.94-2.06-.94 2.06-2.06.94zm-11 1L8.5 8.5l.94-2.06 2.06-.94-2.06-.94L8.5 2.5l-.94 2.06-2.06.94zm10 10l.94 2.06.94-2.06 2.06-.94-2.06-.94-.94-2.06-.94 2.06-2.06.94z\"/><path d=\"M17.41 7.96l-1.37-1.37c-.4-.4-.92-.59-1.43-.59-.52 0-1.04.2-1.43.59L10.3 9.45l-7.72 7.72c-.78.78-.78 2.05 0 2.83L4 21.41c.39.39.9.59 1.41.59.51 0 1.02-.2 1.41-.59l7.78-7.78 2.81-2.81c.8-.78.8-2.07 0-2.86zM5.41 20L4 18.59l7.72-7.72 1.47 1.35L5.41 20z\"/>\n",
              "  </svg>\n",
              "      </button>\n",
              "      \n",
              "  <style>\n",
              "    .colab-df-container {\n",
              "      display:flex;\n",
              "      flex-wrap:wrap;\n",
              "      gap: 12px;\n",
              "    }\n",
              "\n",
              "    .colab-df-convert {\n",
              "      background-color: #E8F0FE;\n",
              "      border: none;\n",
              "      border-radius: 50%;\n",
              "      cursor: pointer;\n",
              "      display: none;\n",
              "      fill: #1967D2;\n",
              "      height: 32px;\n",
              "      padding: 0 0 0 0;\n",
              "      width: 32px;\n",
              "    }\n",
              "\n",
              "    .colab-df-convert:hover {\n",
              "      background-color: #E2EBFA;\n",
              "      box-shadow: 0px 1px 2px rgba(60, 64, 67, 0.3), 0px 1px 3px 1px rgba(60, 64, 67, 0.15);\n",
              "      fill: #174EA6;\n",
              "    }\n",
              "\n",
              "    [theme=dark] .colab-df-convert {\n",
              "      background-color: #3B4455;\n",
              "      fill: #D2E3FC;\n",
              "    }\n",
              "\n",
              "    [theme=dark] .colab-df-convert:hover {\n",
              "      background-color: #434B5C;\n",
              "      box-shadow: 0px 1px 3px 1px rgba(0, 0, 0, 0.15);\n",
              "      filter: drop-shadow(0px 1px 2px rgba(0, 0, 0, 0.3));\n",
              "      fill: #FFFFFF;\n",
              "    }\n",
              "  </style>\n",
              "\n",
              "      <script>\n",
              "        const buttonEl =\n",
              "          document.querySelector('#df-5681d873-3f90-47b2-89e4-2f346f66cc10 button.colab-df-convert');\n",
              "        buttonEl.style.display =\n",
              "          google.colab.kernel.accessAllowed ? 'block' : 'none';\n",
              "\n",
              "        async function convertToInteractive(key) {\n",
              "          const element = document.querySelector('#df-5681d873-3f90-47b2-89e4-2f346f66cc10');\n",
              "          const dataTable =\n",
              "            await google.colab.kernel.invokeFunction('convertToInteractive',\n",
              "                                                     [key], {});\n",
              "          if (!dataTable) return;\n",
              "\n",
              "          const docLinkHtml = 'Like what you see? Visit the ' +\n",
              "            '<a target=\"_blank\" href=https://colab.research.google.com/notebooks/data_table.ipynb>data table notebook</a>'\n",
              "            + ' to learn more about interactive tables.';\n",
              "          element.innerHTML = '';\n",
              "          dataTable['output_type'] = 'display_data';\n",
              "          await google.colab.output.renderOutput(dataTable, element);\n",
              "          const docLink = document.createElement('div');\n",
              "          docLink.innerHTML = docLinkHtml;\n",
              "          element.appendChild(docLink);\n",
              "        }\n",
              "      </script>\n",
              "    </div>\n",
              "  </div>\n",
              "  "
            ]
          },
          "metadata": {},
          "execution_count": 27
        }
      ]
    },
    {
      "cell_type": "code",
      "source": [
        "!pwd"
      ],
      "metadata": {
        "colab": {
          "base_uri": "https://localhost:8080/"
        },
        "id": "yNTyfZtFZGH3",
        "outputId": "bdbaf89f-2d34-4a13-b423-b9a4aa12d7b2"
      },
      "execution_count": 28,
      "outputs": [
        {
          "output_type": "stream",
          "name": "stdout",
          "text": [
            "/content\n"
          ]
        }
      ]
    },
    {
      "cell_type": "code",
      "source": [
        "uploaded = files.upload()"
      ],
      "metadata": {
        "colab": {
          "resources": {
            "http://localhost:8080/nbextensions/google.colab/files.js": {
              "data": "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",
              "ok": true,
              "headers": [
                [
                  "content-type",
                  "application/javascript"
                ]
              ],
              "status": 200,
              "status_text": ""
            }
          },
          "base_uri": "https://localhost:8080/",
          "height": 73
        },
        "id": "C1Ika65LZmJH",
        "outputId": "ebc8a078-20b7-4493-c7d0-42af30fa000f"
      },
      "execution_count": 29,
      "outputs": [
        {
          "output_type": "display_data",
          "data": {
            "text/plain": [
              "<IPython.core.display.HTML object>"
            ],
            "text/html": [
              "\n",
              "     <input type=\"file\" id=\"files-08647443-678c-4ede-a188-47eb3d9b23a6\" name=\"files[]\" multiple disabled\n",
              "        style=\"border:none\" />\n",
              "     <output id=\"result-08647443-678c-4ede-a188-47eb3d9b23a6\">\n",
              "      Upload widget is only available when the cell has been executed in the\n",
              "      current browser session. Please rerun this cell to enable.\n",
              "      </output>\n",
              "      <script src=\"/nbextensions/google.colab/files.js\"></script> "
            ]
          },
          "metadata": {}
        },
        {
          "output_type": "stream",
          "name": "stdout",
          "text": [
            "Saving fake_util.py to fake_util.py\n"
          ]
        }
      ]
    },
    {
      "cell_type": "code",
      "source": [
        "from fake_util import my_useful_function\n",
        "my_useful_function()"
      ],
      "metadata": {
        "colab": {
          "base_uri": "https://localhost:8080/"
        },
        "id": "NZ_Fz1G6ZpB-",
        "outputId": "3e423dd7-1d38-497c-f6fa-6ffc6b5a180d"
      },
      "execution_count": 30,
      "outputs": [
        {
          "output_type": "stream",
          "name": "stdout",
          "text": [
            "hello world\n"
          ]
        }
      ]
    },
    {
      "cell_type": "markdown",
      "source": [
        "# Part4: Access files from Google Drive"
      ],
      "metadata": {
        "id": "cXqd1fbsZ9F-"
      }
    },
    {
      "cell_type": "code",
      "source": [
        "from google.colab import drive\n",
        "drive.mount('/content/gdrive')"
      ],
      "metadata": {
        "colab": {
          "base_uri": "https://localhost:8080/"
        },
        "id": "Sd8vC8CdaAV1",
        "outputId": "a0f2c7ce-d94c-4bf6-ac02-3a2da5d6c8a1"
      },
      "execution_count": 31,
      "outputs": [
        {
          "output_type": "stream",
          "name": "stdout",
          "text": [
            "Mounted at /content/gdrive\n"
          ]
        }
      ]
    },
    {
      "cell_type": "code",
      "source": [
        "!ls"
      ],
      "metadata": {
        "colab": {
          "base_uri": "https://localhost:8080/"
        },
        "id": "s99rTvPJaEG4",
        "outputId": "42928a20-c1b9-4681-8c33-fc6f5b0a2afe"
      },
      "execution_count": 32,
      "outputs": [
        {
          "output_type": "stream",
          "name": "stdout",
          "text": [
            "arrhythmia.data\t\t\t      fake_util.py  __pycache__\n",
            "daily-minimum-temperatures-in-me.csv  gdrive\t    sample_data\n"
          ]
        }
      ]
    },
    {
      "cell_type": "code",
      "source": [
        "!ls '/content/gdrive/MyDrive'"
      ],
      "metadata": {
        "colab": {
          "base_uri": "https://localhost:8080/"
        },
        "id": "z3P4oyj6aJ4u",
        "outputId": "b06432f8-ea28-456a-adca-611963c8d79f"
      },
      "execution_count": 33,
      "outputs": [
        {
          "output_type": "stream",
          "name": "stdout",
          "text": [
            " 하늬\t   'Colab Notebooks'  'OPT extenstion'\t'San Jose University'\n",
            " 중요문서  'C++ 코드.zip'     'Sanghyun Ryu'\n"
          ]
        }
      ]
    },
    {
      "cell_type": "code",
      "source": [
        ""
      ],
      "metadata": {
        "id": "1LjNEliHaWeW"
      },
      "execution_count": null,
      "outputs": []
    }
  ]
}