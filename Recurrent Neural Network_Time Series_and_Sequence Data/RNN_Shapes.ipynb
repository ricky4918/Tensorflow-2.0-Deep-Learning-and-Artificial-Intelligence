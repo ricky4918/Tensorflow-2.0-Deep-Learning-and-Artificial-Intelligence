{
  "nbformat": 4,
  "nbformat_minor": 0,
  "metadata": {
    "colab": {
      "name": "RNN Shapes.ipynb",
      "provenance": [],
      "authorship_tag": "ABX9TyOlpbdgPJsI4inRLQkOlHjk",
      "include_colab_link": true
    },
    "kernelspec": {
      "name": "python3",
      "display_name": "Python 3"
    },
    "language_info": {
      "name": "python"
    }
  },
  "cells": [
    {
      "cell_type": "markdown",
      "metadata": {
        "id": "view-in-github",
        "colab_type": "text"
      },
      "source": [
        "<a href=\"https://colab.research.google.com/github/ricky4918/Tensorflow-2.0-Deep-Learning-and-Artificial-Intelligence/blob/main/Recurrent%20Neural%20Network_Time%20Series_and_Sequence%20Data/RNN_Shapes.ipynb\" target=\"_parent\"><img src=\"https://colab.research.google.com/assets/colab-badge.svg\" alt=\"Open In Colab\"/></a>"
      ]
    },
    {
      "cell_type": "code",
      "execution_count": 1,
      "metadata": {
        "id": "TsyOwMB3RQXJ"
      },
      "outputs": [],
      "source": [
        "import tensorflow as tf \n",
        "import numpy as np\n",
        "import matplotlib.pyplot as plt\n",
        "from tensorflow.keras.layers import Input, Conv2D, Dense, Flatten, Dropout, BatchNormalization, MaxPooling2D, SimpleRNN\n",
        "from tensorflow.keras.optimizers import SGD,Adam\n",
        "import pandas as pd\n",
        "from sklearn.metrics import confusion_matrix\n",
        "import itertools\n",
        "from tensorflow.keras.models import Model"
      ]
    },
    {
      "cell_type": "code",
      "source": [
        "# N = number of samples\n",
        "# T = Sequence length\n",
        "# D = number of input features\n",
        "# M = number of hidden units\n",
        "# K = number of output units"
      ],
      "metadata": {
        "id": "FLi-XSgaR4yf"
      },
      "execution_count": 2,
      "outputs": []
    },
    {
      "cell_type": "code",
      "source": [
        "N = 1\n",
        "T = 10\n",
        "D = 3\n",
        "K = 2\n",
        "X = np.random.randn(N,T,D)"
      ],
      "metadata": {
        "id": "Q6vYDs6hS-2G"
      },
      "execution_count": 7,
      "outputs": []
    },
    {
      "cell_type": "code",
      "source": [
        "X"
      ],
      "metadata": {
        "colab": {
          "base_uri": "https://localhost:8080/"
        },
        "id": "Y3ZpRdcNTMIL",
        "outputId": "b7bf20e7-e0ec-4f3a-87ff-db1957ea977a"
      },
      "execution_count": 8,
      "outputs": [
        {
          "output_type": "execute_result",
          "data": {
            "text/plain": [
              "array([[[ 0.26798507,  1.12155149, -0.14510374],\n",
              "        [-0.90557895,  0.35114638, -2.57734277],\n",
              "        [ 0.12252614, -1.65612611, -0.70052438],\n",
              "        [ 1.42839432, -0.31365979, -0.37145796],\n",
              "        [ 1.58764572,  0.04525383, -0.53985764],\n",
              "        [-0.37454101, -0.77023127,  0.97375256],\n",
              "        [-0.65094244, -0.34872249, -1.59614571],\n",
              "        [-2.27872646,  0.62538622,  0.47072975],\n",
              "        [ 0.6367497 ,  0.59943428,  2.33378501],\n",
              "        [ 0.99834395, -0.22655347,  0.25180558]]])"
            ]
          },
          "metadata": {},
          "execution_count": 8
        }
      ]
    },
    {
      "cell_type": "code",
      "source": [
        "M = 5\n",
        "i = Input(shape = (T,D))\n",
        "x = SimpleRNN(M)(i)\n",
        "x = Dense(K)(x)\n",
        "\n",
        "model = Model(i, x)"
      ],
      "metadata": {
        "id": "ZmKCQM7ITMg6"
      },
      "execution_count": 9,
      "outputs": []
    },
    {
      "cell_type": "code",
      "source": [
        "Yhat = model.predict(X)\n",
        "print(Yhat)"
      ],
      "metadata": {
        "colab": {
          "base_uri": "https://localhost:8080/"
        },
        "id": "MLocPlClTgEp",
        "outputId": "d5168c4d-57a9-4d73-a7d6-e18deb488c83"
      },
      "execution_count": 10,
      "outputs": [
        {
          "output_type": "stream",
          "name": "stdout",
          "text": [
            "[[-0.04046737  0.263453  ]]\n"
          ]
        }
      ]
    },
    {
      "cell_type": "code",
      "source": [
        "model.summary()"
      ],
      "metadata": {
        "colab": {
          "base_uri": "https://localhost:8080/"
        },
        "id": "W8TTdju-TnDL",
        "outputId": "1463cf54-da20-407d-ca73-4355887efd24"
      },
      "execution_count": 11,
      "outputs": [
        {
          "output_type": "stream",
          "name": "stdout",
          "text": [
            "Model: \"model\"\n",
            "_________________________________________________________________\n",
            " Layer (type)                Output Shape              Param #   \n",
            "=================================================================\n",
            " input_2 (InputLayer)        [(None, 10, 3)]           0         \n",
            "                                                                 \n",
            " simple_rnn_1 (SimpleRNN)    (None, 5)                 45        \n",
            "                                                                 \n",
            " dense (Dense)               (None, 2)                 12        \n",
            "                                                                 \n",
            "=================================================================\n",
            "Total params: 57\n",
            "Trainable params: 57\n",
            "Non-trainable params: 0\n",
            "_________________________________________________________________\n"
          ]
        }
      ]
    },
    {
      "cell_type": "code",
      "source": [
        "model.layers[1].get_weights()"
      ],
      "metadata": {
        "colab": {
          "base_uri": "https://localhost:8080/"
        },
        "id": "23shPrNXUAe5",
        "outputId": "d0945aa0-8e68-4cdd-d537-6983ceda6684"
      },
      "execution_count": 13,
      "outputs": [
        {
          "output_type": "execute_result",
          "data": {
            "text/plain": [
              "[array([[-0.14670902, -0.04153913, -0.30521488, -0.82509184,  0.6071866 ],\n",
              "        [ 0.03621638, -0.38707104, -0.28982532,  0.04852837, -0.17109412],\n",
              "        [-0.0605315 ,  0.8505636 ,  0.6771241 ,  0.3885284 , -0.5952591 ]],\n",
              "       dtype=float32),\n",
              " array([[ 0.13223171,  0.20073363, -0.46242875, -0.8305343 ,  0.19645163],\n",
              "        [-0.7953935 ,  0.38801506,  0.02166573,  0.06404689,  0.46067566],\n",
              "        [-0.10705155, -0.58708775, -0.6836708 ,  0.29293585,  0.3010826 ],\n",
              "        [-0.53294224, -0.5728874 ,  0.21794379, -0.43625712, -0.38723725],\n",
              "        [-0.23318774,  0.36915866, -0.52037007,  0.17314465, -0.71314883]],\n",
              "       dtype=float32),\n",
              " array([0., 0., 0., 0., 0.], dtype=float32)]"
            ]
          },
          "metadata": {},
          "execution_count": 13
        }
      ]
    },
    {
      "cell_type": "code",
      "source": [
        "a,b,c = model.layers[1].get_weights()\n",
        "print(a.shape, b.shape, c.shape)"
      ],
      "metadata": {
        "colab": {
          "base_uri": "https://localhost:8080/"
        },
        "id": "WiT5PLUzULYR",
        "outputId": "cb1b6fc6-d042-432b-9e2f-e951769b8d5c"
      },
      "execution_count": 14,
      "outputs": [
        {
          "output_type": "stream",
          "name": "stdout",
          "text": [
            "(3, 5) (5, 5) (5,)\n"
          ]
        }
      ]
    },
    {
      "cell_type": "code",
      "source": [
        "Wx, Wh, bh =model.layers[1].get_weights()\n",
        "Wo,bo = model.layers[2].get_weights()"
      ],
      "metadata": {
        "id": "vb6ylRe1VriV"
      },
      "execution_count": 17,
      "outputs": []
    },
    {
      "cell_type": "code",
      "source": [
        "h_last = np.zeros(M) # initial hidden state\n",
        "x = X[0] # the one and only sample\n",
        "Yhats = []\n",
        "\n",
        "for t in range(T):\n",
        "  h = np.tanh(x[t].dot(Wx) + h_last.dot(Wh) + bh)\n",
        "  y = h.dot(Wo) + bo\n",
        "  Yhats.append(y)\n",
        "\n",
        "  h_last = h\n",
        "\n",
        "\n",
        "print(Yhats[-1])"
      ],
      "metadata": {
        "colab": {
          "base_uri": "https://localhost:8080/"
        },
        "id": "mFqOdtnYWDdZ",
        "outputId": "b4fb1736-ffeb-4d05-c7a8-9544a0859fe8"
      },
      "execution_count": 21,
      "outputs": [
        {
          "output_type": "stream",
          "name": "stdout",
          "text": [
            "[-0.04046732  0.26345303]\n"
          ]
        }
      ]
    },
    {
      "cell_type": "code",
      "source": [
        ""
      ],
      "metadata": {
        "id": "vrZVzXCfYHLy"
      },
      "execution_count": null,
      "outputs": []
    }
  ]
}