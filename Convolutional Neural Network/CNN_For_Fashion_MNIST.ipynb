{
  "nbformat": 4,
  "nbformat_minor": 0,
  "metadata": {
    "colab": {
      "name": "CNN_For_Fashion_MNIST.ipynb",
      "provenance": [],
      "authorship_tag": "ABX9TyPHGMQ0GuCJ/JXGj1NGFkt5",
      "include_colab_link": true
    },
    "kernelspec": {
      "name": "python3",
      "display_name": "Python 3"
    },
    "language_info": {
      "name": "python"
    }
  },
  "cells": [
    {
      "cell_type": "markdown",
      "metadata": {
        "id": "view-in-github",
        "colab_type": "text"
      },
      "source": [
        "<a href=\"https://colab.research.google.com/github/ricky4918/Tensorflow-2.0-Deep-Learning-and-Artificial-Intelligence/blob/main/Convolutional%20Neural%20Network/CNN_For_Fashion_MNIST.ipynb\" target=\"_parent\"><img src=\"https://colab.research.google.com/assets/colab-badge.svg\" alt=\"Open In Colab\"/></a>"
      ]
    },
    {
      "cell_type": "code",
      "execution_count": 1,
      "metadata": {
        "id": "38RaflYXztLP"
      },
      "outputs": [],
      "source": [
        ""
      ]
    },
    {
      "cell_type": "code",
      "source": [
        "import tensorflow as tf \n",
        "import numpy as np\n",
        "import matplotlib.pyplot as plt\n",
        "from tensorflow.keras.layers import Input, Conv2D, Dense, Flatten, Dropout\n",
        "from sklearn.metrics import confusion_matrix\n",
        "import itertools\n",
        "from tensorflow.keras.models import Model"
      ],
      "metadata": {
        "id": "lpGwenMtz0re"
      },
      "execution_count": 27,
      "outputs": []
    },
    {
      "cell_type": "code",
      "source": [
        "fashion_mnist = tf.keras.datasets.fashion_mnist"
      ],
      "metadata": {
        "id": "rI42LeV10BP5"
      },
      "execution_count": 4,
      "outputs": []
    },
    {
      "cell_type": "code",
      "source": [
        "(x_train, y_train), (x_test,y_test) = fashion_mnist.load_data()"
      ],
      "metadata": {
        "colab": {
          "base_uri": "https://localhost:8080/"
        },
        "id": "NuxKeAQt0HzC",
        "outputId": "ddade423-fe77-44c8-dc10-a4a479477b8e"
      },
      "execution_count": 5,
      "outputs": [
        {
          "output_type": "stream",
          "name": "stdout",
          "text": [
            "Downloading data from https://storage.googleapis.com/tensorflow/tf-keras-datasets/train-labels-idx1-ubyte.gz\n",
            "32768/29515 [=================================] - 0s 0us/step\n",
            "40960/29515 [=========================================] - 0s 0us/step\n",
            "Downloading data from https://storage.googleapis.com/tensorflow/tf-keras-datasets/train-images-idx3-ubyte.gz\n",
            "26427392/26421880 [==============================] - 0s 0us/step\n",
            "26435584/26421880 [==============================] - 0s 0us/step\n",
            "Downloading data from https://storage.googleapis.com/tensorflow/tf-keras-datasets/t10k-labels-idx1-ubyte.gz\n",
            "16384/5148 [===============================================================================================] - 0s 0us/step\n",
            "Downloading data from https://storage.googleapis.com/tensorflow/tf-keras-datasets/t10k-images-idx3-ubyte.gz\n",
            "4423680/4422102 [==============================] - 0s 0us/step\n",
            "4431872/4422102 [==============================] - 0s 0us/step\n"
          ]
        }
      ]
    },
    {
      "cell_type": "code",
      "source": [
        "x_train, x_test = x_train/255.0, x_test/255.0"
      ],
      "metadata": {
        "id": "X8bq5rxM0PVx"
      },
      "execution_count": 6,
      "outputs": []
    },
    {
      "cell_type": "code",
      "source": [
        "print('x_train.shape:', x_train.shape)"
      ],
      "metadata": {
        "colab": {
          "base_uri": "https://localhost:8080/"
        },
        "id": "Y9Cv1XoE0Tg5",
        "outputId": "02edc812-f05f-4738-f2ec-62993dd04289"
      },
      "execution_count": 7,
      "outputs": [
        {
          "output_type": "stream",
          "name": "stdout",
          "text": [
            "x_train.shape: (60000, 28, 28)\n"
          ]
        }
      ]
    },
    {
      "cell_type": "code",
      "source": [
        "#Convolution expects height x width x color\n",
        "x_train = np.expand_dims(x_train,-1)\n",
        "x_test = np.expand_dims(x_test, -1)"
      ],
      "metadata": {
        "id": "l8sffskw0XsR"
      },
      "execution_count": 8,
      "outputs": []
    },
    {
      "cell_type": "code",
      "source": [
        "print(x_train.shape)\n",
        "print(x_test.shape)"
      ],
      "metadata": {
        "colab": {
          "base_uri": "https://localhost:8080/"
        },
        "id": "GnBn79-90gSJ",
        "outputId": "dd807988-f6bf-4655-8a21-76cd40ca8bc3"
      },
      "execution_count": 19,
      "outputs": [
        {
          "output_type": "stream",
          "name": "stdout",
          "text": [
            "(60000, 28, 28, 1)\n",
            "(10000, 28, 28, 1)\n"
          ]
        }
      ]
    },
    {
      "cell_type": "code",
      "source": [
        "k = len(set(y_train))\n",
        "print(\"number of classes: \", k)"
      ],
      "metadata": {
        "colab": {
          "base_uri": "https://localhost:8080/"
        },
        "id": "sD6QNutH0hah",
        "outputId": "2a98107e-1f7f-4146-d75c-ddbdb216b09d"
      },
      "execution_count": 16,
      "outputs": [
        {
          "output_type": "stream",
          "name": "stdout",
          "text": [
            "number of classes:  10\n"
          ]
        }
      ]
    },
    {
      "cell_type": "code",
      "source": [
        "print(x_train[0].shape)"
      ],
      "metadata": {
        "colab": {
          "base_uri": "https://localhost:8080/"
        },
        "id": "Z0SPb-4Z1u-s",
        "outputId": "3272dc64-0883-477c-f551-41405d5ba979"
      },
      "execution_count": 17,
      "outputs": [
        {
          "output_type": "stream",
          "name": "stdout",
          "text": [
            "(28, 28, 1)\n"
          ]
        }
      ]
    },
    {
      "cell_type": "code",
      "source": [
        "i = Input(shape = x_train[0].shape)\n",
        "x = Conv2D(32,(3,3), strides = 2, activation = 'relu')(i)\n",
        "x = Conv2D(64,(3,3), strides = 2, activation = 'relu')(x)\n",
        "x = Conv2D(128,(3,3), strides = 2, activation = 'relu')(x)\n",
        "x = Flatten()(x)\n",
        "x = Dropout(0.2)(x)\n",
        "x = Dense(512, activation = 'relu')(x)\n",
        "x = Dropout(0.2)(x)\n",
        "x = Dense(k, activation = 'softmax')(x)\n",
        "\n",
        "model = Model(i,x)\n"
      ],
      "metadata": {
        "id": "4dVfjjlp0uwy"
      },
      "execution_count": 23,
      "outputs": []
    },
    {
      "cell_type": "code",
      "source": [
        "model.compile(optimizer='adam', loss = 'sparse_categorical_crossentropy', metrics=['accuracy'])\n",
        "r = model.fit(x_train,y_train, validation_data = (x_test, y_test), epochs=15)"
      ],
      "metadata": {
        "colab": {
          "base_uri": "https://localhost:8080/"
        },
        "id": "-zgDzX-P1SDF",
        "outputId": "bdbb2406-387f-42a7-d3a6-af2a5c790f42"
      },
      "execution_count": 24,
      "outputs": [
        {
          "output_type": "stream",
          "name": "stdout",
          "text": [
            "Epoch 1/15\n",
            "1875/1875 [==============================] - 27s 14ms/step - loss: 0.5255 - accuracy: 0.8067 - val_loss: 0.3964 - val_accuracy: 0.8507\n",
            "Epoch 2/15\n",
            "1875/1875 [==============================] - 26s 14ms/step - loss: 0.3659 - accuracy: 0.8620 - val_loss: 0.3410 - val_accuracy: 0.8740\n",
            "Epoch 3/15\n",
            "1875/1875 [==============================] - 27s 14ms/step - loss: 0.3186 - accuracy: 0.8802 - val_loss: 0.3213 - val_accuracy: 0.8815\n",
            "Epoch 4/15\n",
            "1875/1875 [==============================] - 26s 14ms/step - loss: 0.2853 - accuracy: 0.8935 - val_loss: 0.3014 - val_accuracy: 0.8890\n",
            "Epoch 5/15\n",
            "1875/1875 [==============================] - 26s 14ms/step - loss: 0.2603 - accuracy: 0.9010 - val_loss: 0.2962 - val_accuracy: 0.8953\n",
            "Epoch 6/15\n",
            "1875/1875 [==============================] - 28s 15ms/step - loss: 0.2380 - accuracy: 0.9104 - val_loss: 0.2995 - val_accuracy: 0.8943\n",
            "Epoch 7/15\n",
            "1875/1875 [==============================] - 27s 14ms/step - loss: 0.2198 - accuracy: 0.9153 - val_loss: 0.3085 - val_accuracy: 0.8932\n",
            "Epoch 8/15\n",
            "1875/1875 [==============================] - 27s 14ms/step - loss: 0.1998 - accuracy: 0.9238 - val_loss: 0.3011 - val_accuracy: 0.9012\n",
            "Epoch 9/15\n",
            "1875/1875 [==============================] - 29s 15ms/step - loss: 0.1893 - accuracy: 0.9280 - val_loss: 0.3075 - val_accuracy: 0.9001\n",
            "Epoch 10/15\n",
            "1875/1875 [==============================] - 28s 15ms/step - loss: 0.1745 - accuracy: 0.9333 - val_loss: 0.3268 - val_accuracy: 0.8956\n",
            "Epoch 11/15\n",
            "1875/1875 [==============================] - 28s 15ms/step - loss: 0.1646 - accuracy: 0.9376 - val_loss: 0.3184 - val_accuracy: 0.9011\n",
            "Epoch 12/15\n",
            "1875/1875 [==============================] - 29s 15ms/step - loss: 0.1520 - accuracy: 0.9414 - val_loss: 0.3185 - val_accuracy: 0.8974\n",
            "Epoch 13/15\n",
            "1875/1875 [==============================] - 28s 15ms/step - loss: 0.1458 - accuracy: 0.9440 - val_loss: 0.3386 - val_accuracy: 0.8991\n",
            "Epoch 14/15\n",
            "1875/1875 [==============================] - 28s 15ms/step - loss: 0.1384 - accuracy: 0.9474 - val_loss: 0.3520 - val_accuracy: 0.8996\n",
            "Epoch 15/15\n",
            "1875/1875 [==============================] - 29s 15ms/step - loss: 0.1285 - accuracy: 0.9510 - val_loss: 0.3540 - val_accuracy: 0.8984\n"
          ]
        }
      ]
    },
    {
      "cell_type": "code",
      "source": [
        "plt.plot(r.history['loss'], label = 'loss')\n",
        "plt.plot(r.history['val_loss'], label = 'val_loss')\n",
        "plt.legend()"
      ],
      "metadata": {
        "colab": {
          "base_uri": "https://localhost:8080/",
          "height": 282
        },
        "id": "GSrIxkCm1l49",
        "outputId": "7a046f1c-6d3f-4c81-ade4-129c2b0409d6"
      },
      "execution_count": 25,
      "outputs": [
        {
          "output_type": "execute_result",
          "data": {
            "text/plain": [
              "<matplotlib.legend.Legend at 0x7f8a391c3e90>"
            ]
          },
          "metadata": {},
          "execution_count": 25
        },
        {
          "output_type": "display_data",
          "data": {
            "text/plain": [
              "<Figure size 432x288 with 1 Axes>"
            ],
            "image/png": "[encoded data removed]"
          },
          "metadata": {
            "needs_background": "light"
          }
        }
      ]
    },
    {
      "cell_type": "code",
      "source": [
        "plt.plot(r.history['accuracy'], label = 'accuracy')\n",
        "plt.plot(r.history['val_accuracy'], label = 'val_accuracy')\n",
        "plt.legend()"
      ],
      "metadata": {
        "colab": {
          "base_uri": "https://localhost:8080/",
          "height": 282
        },
        "id": "zAplc0hQ4tA0",
        "outputId": "f1b9024b-3e87-4cfd-bd43-1ac69b627330"
      },
      "execution_count": 26,
      "outputs": [
        {
          "output_type": "execute_result",
          "data": {
            "text/plain": [
              "<matplotlib.legend.Legend at 0x7f8a38cd3e50>"
            ]
          },
          "metadata": {},
          "execution_count": 26
        },
        {
          "output_type": "display_data",
          "data": {
            "text/plain": [
              "<Figure size 432x288 with 1 Axes>"
            ],
            "image/png": "[encoded data removed]"
          },
          "metadata": {
            "needs_background": "light"
          }
        }
      ]
    },
    {
      "cell_type": "code",
      "source": [
        "def plot_confusion_matirx(cm, classes, normalize = False, title = 'Confusion matrix', cmap = plt.cm.Blues):\n",
        "\n",
        "  if normalize:\n",
        "    cm = cm.astype('float') / cm.sum(axis = 1)[:,np.newaxis]\n",
        "    print(\"Normalized confusion matrix\")\n",
        "\n",
        "  else:\n",
        "\n",
        "    print('Confusion matrix, wihtout normalization')\n",
        "\n",
        "  print(cm)\n",
        "  plt.imshow(cm, interpolation='nearest', cmap = cmap)\n",
        "  plt.title(title)\n",
        "  plt.colorbar()\n",
        "  tick_marks = np.arange(len(classes))\n",
        "  plt.xticks(tick_marks, classes, rotation=45)\n",
        "  plt.yticks(tick_marks, classes)\n",
        "\n",
        "  fmt = '.2f' if normalize else 'd'\n",
        "  thresh = cm.max()/2\n",
        "  for i,j in itertools.product(range(cm.shape[0]), range(cm.shape[1])):\n",
        "    plt.text(j,i,format(cm[i,j],fmt), horizontalalignment = 'center', color = 'white' if cm[i,j]>thresh else 'black')\n",
        "\n",
        "  plt.tight_layout()\n",
        "  plt.ylabel('True label')\n",
        "  plt.xlabel('Predicted label')\n",
        "  plt.show()\n",
        "\n",
        "\n",
        "\n",
        "p_test = model.predict(x_test).argmax(axis = 1)\n",
        "cm = confusion_matrix(y_test, p_test)\n",
        "plot_confusion_matirx(cm, list(range(10)))\n"
      ],
      "metadata": {
        "colab": {
          "base_uri": "https://localhost:8080/",
          "height": 502
        },
        "id": "wazKN-6S43_H",
        "outputId": "1294eaae-7109-4adf-eb9a-8db317c3d0d8"
      },
      "execution_count": 28,
      "outputs": [
        {
          "output_type": "stream",
          "name": "stdout",
          "text": [
            "Confusion matrix, wihtout normalization\n",
            "[[870   2  25  12   2   1  78   0  10   0]\n",
            " [  6 979   0  10   2   0   1   0   2   0]\n",
            " [ 17   1 881   8  45   0  47   0   1   0]\n",
            " [ 29   9  22 897  24   0  17   0   1   1]\n",
            " [  1   1  78  33 828   0  57   0   2   0]\n",
            " [  0   1   0   2   0 963   0  23   1  10]\n",
            " [130   4  79  25  92   0 660   0  10   0]\n",
            " [  0   0   0   0   0   3   0 963   0  34]\n",
            " [  2   0   7   4   4   1   3   4 974   1]\n",
            " [  1   0   0   0   0   4   0  26   0 969]]\n"
          ]
        },
        {
          "output_type": "display_data",
          "data": {
            "text/plain": [
              "<Figure size 432x288 with 2 Axes>"
            ],
            "image/png": "[encoded data removed]"
          },
          "metadata": {
            "needs_background": "light"
          }
        }
      ]
    },
    {
      "cell_type": "code",
      "source": [
        "labels = '''T-shrit/top\n",
        "Trouser\n",
        "Pullover\n",
        "Dress\n",
        "Coat\n",
        "Sandal\n",
        "Shirt\n",
        "Sneaker\n",
        "Bag\n",
        "Ankle boot'''.split()\n"
      ],
      "metadata": {
        "id": "GrSro9Hd5OrE"
      },
      "execution_count": 32,
      "outputs": []
    },
    {
      "cell_type": "code",
      "source": [
        "misclassfied_idx = np.where(p_test != y_test)[0]\n",
        "i = np.random.choice(misclassfied_idx)\n",
        "plt.imshow(x_test[i].reshape(28,28), cmap='gray')\n",
        "plt.title('True label: %s predicted: %s' %(labels[y_test[i]], labels[p_test[i]]))"
      ],
      "metadata": {
        "colab": {
          "base_uri": "https://localhost:8080/",
          "height": 298
        },
        "id": "1pwKb6d45u0q",
        "outputId": "de3ecfdc-9956-4f32-feaf-5bb1e3da9d3c"
      },
      "execution_count": 33,
      "outputs": [
        {
          "output_type": "execute_result",
          "data": {
            "text/plain": [
              "Text(0.5, 1.0, 'True label: Shirt predicted: Coat')"
            ]
          },
          "metadata": {},
          "execution_count": 33
        },
        {
          "output_type": "display_data",
          "data": {
            "text/plain": [
              "<Figure size 432x288 with 1 Axes>"
            ],
            "image/png": "[encoded data removed]"
          },
          "metadata": {
            "needs_background": "light"
          }
        }
      ]
    }
  ]
}